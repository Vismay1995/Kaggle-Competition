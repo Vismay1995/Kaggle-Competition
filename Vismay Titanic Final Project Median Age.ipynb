{
 "cells": [
  {
   "cell_type": "code",
   "execution_count": 1,
   "metadata": {},
   "outputs": [],
   "source": [
    "# For data analysis\n",
    "import pandas as pd\n",
    "import numpy as np\n",
    "\n",
    "#For data visualization\n",
    "import matplotlib.pyplot as plt\n",
    "%matplotlib inline\n",
    "import seaborn as sns"
   ]
  },
  {
   "cell_type": "code",
   "execution_count": 2,
   "metadata": {},
   "outputs": [],
   "source": [
    "# Set up the Titanic csv file as a DataFrame\n",
    "\n",
    "train_df = pd.read_csv(\"train.csv\")"
   ]
  },
  {
   "cell_type": "code",
   "execution_count": 3,
   "metadata": {},
   "outputs": [
    {
     "data": {
      "text/html": [
       "<div>\n",
       "<style scoped>\n",
       "    .dataframe tbody tr th:only-of-type {\n",
       "        vertical-align: middle;\n",
       "    }\n",
       "\n",
       "    .dataframe tbody tr th {\n",
       "        vertical-align: top;\n",
       "    }\n",
       "\n",
       "    .dataframe thead th {\n",
       "        text-align: right;\n",
       "    }\n",
       "</style>\n",
       "<table border=\"1\" class=\"dataframe\">\n",
       "  <thead>\n",
       "    <tr style=\"text-align: right;\">\n",
       "      <th></th>\n",
       "      <th>PassengerId</th>\n",
       "      <th>Survived</th>\n",
       "      <th>Pclass</th>\n",
       "      <th>Name</th>\n",
       "      <th>Sex</th>\n",
       "      <th>Age</th>\n",
       "      <th>SibSp</th>\n",
       "      <th>Parch</th>\n",
       "      <th>Ticket</th>\n",
       "      <th>Fare</th>\n",
       "      <th>Cabin</th>\n",
       "      <th>Embarked</th>\n",
       "    </tr>\n",
       "  </thead>\n",
       "  <tbody>\n",
       "    <tr>\n",
       "      <th>0</th>\n",
       "      <td>1</td>\n",
       "      <td>0</td>\n",
       "      <td>3</td>\n",
       "      <td>Braund, Mr. Owen Harris</td>\n",
       "      <td>male</td>\n",
       "      <td>22.0</td>\n",
       "      <td>1</td>\n",
       "      <td>0</td>\n",
       "      <td>A/5 21171</td>\n",
       "      <td>7.2500</td>\n",
       "      <td>NaN</td>\n",
       "      <td>S</td>\n",
       "    </tr>\n",
       "    <tr>\n",
       "      <th>1</th>\n",
       "      <td>2</td>\n",
       "      <td>1</td>\n",
       "      <td>1</td>\n",
       "      <td>Cumings, Mrs. John Bradley (Florence Briggs Th...</td>\n",
       "      <td>female</td>\n",
       "      <td>38.0</td>\n",
       "      <td>1</td>\n",
       "      <td>0</td>\n",
       "      <td>PC 17599</td>\n",
       "      <td>71.2833</td>\n",
       "      <td>C85</td>\n",
       "      <td>C</td>\n",
       "    </tr>\n",
       "    <tr>\n",
       "      <th>2</th>\n",
       "      <td>3</td>\n",
       "      <td>1</td>\n",
       "      <td>3</td>\n",
       "      <td>Heikkinen, Miss. Laina</td>\n",
       "      <td>female</td>\n",
       "      <td>26.0</td>\n",
       "      <td>0</td>\n",
       "      <td>0</td>\n",
       "      <td>STON/O2. 3101282</td>\n",
       "      <td>7.9250</td>\n",
       "      <td>NaN</td>\n",
       "      <td>S</td>\n",
       "    </tr>\n",
       "    <tr>\n",
       "      <th>3</th>\n",
       "      <td>4</td>\n",
       "      <td>1</td>\n",
       "      <td>1</td>\n",
       "      <td>Futrelle, Mrs. Jacques Heath (Lily May Peel)</td>\n",
       "      <td>female</td>\n",
       "      <td>35.0</td>\n",
       "      <td>1</td>\n",
       "      <td>0</td>\n",
       "      <td>113803</td>\n",
       "      <td>53.1000</td>\n",
       "      <td>C123</td>\n",
       "      <td>S</td>\n",
       "    </tr>\n",
       "    <tr>\n",
       "      <th>4</th>\n",
       "      <td>5</td>\n",
       "      <td>0</td>\n",
       "      <td>3</td>\n",
       "      <td>Allen, Mr. William Henry</td>\n",
       "      <td>male</td>\n",
       "      <td>35.0</td>\n",
       "      <td>0</td>\n",
       "      <td>0</td>\n",
       "      <td>373450</td>\n",
       "      <td>8.0500</td>\n",
       "      <td>NaN</td>\n",
       "      <td>S</td>\n",
       "    </tr>\n",
       "  </tbody>\n",
       "</table>\n",
       "</div>"
      ],
      "text/plain": [
       "   PassengerId  Survived  Pclass  \\\n",
       "0            1         0       3   \n",
       "1            2         1       1   \n",
       "2            3         1       3   \n",
       "3            4         1       1   \n",
       "4            5         0       3   \n",
       "\n",
       "                                                Name     Sex   Age  SibSp  \\\n",
       "0                            Braund, Mr. Owen Harris    male  22.0      1   \n",
       "1  Cumings, Mrs. John Bradley (Florence Briggs Th...  female  38.0      1   \n",
       "2                             Heikkinen, Miss. Laina  female  26.0      0   \n",
       "3       Futrelle, Mrs. Jacques Heath (Lily May Peel)  female  35.0      1   \n",
       "4                           Allen, Mr. William Henry    male  35.0      0   \n",
       "\n",
       "   Parch            Ticket     Fare Cabin Embarked  \n",
       "0      0         A/5 21171   7.2500   NaN        S  \n",
       "1      0          PC 17599  71.2833   C85        C  \n",
       "2      0  STON/O2. 3101282   7.9250   NaN        S  \n",
       "3      0            113803  53.1000  C123        S  \n",
       "4      0            373450   8.0500   NaN        S  "
      ]
     },
     "execution_count": 3,
     "metadata": {},
     "output_type": "execute_result"
    }
   ],
   "source": [
    "train_df.head()"
   ]
  },
  {
   "cell_type": "code",
   "execution_count": 4,
   "metadata": {},
   "outputs": [
    {
     "name": "stdout",
     "output_type": "stream",
     "text": [
      "<class 'pandas.core.frame.DataFrame'>\n",
      "RangeIndex: 891 entries, 0 to 890\n",
      "Data columns (total 12 columns):\n",
      "PassengerId    891 non-null int64\n",
      "Survived       891 non-null int64\n",
      "Pclass         891 non-null int64\n",
      "Name           891 non-null object\n",
      "Sex            891 non-null object\n",
      "Age            714 non-null float64\n",
      "SibSp          891 non-null int64\n",
      "Parch          891 non-null int64\n",
      "Ticket         891 non-null object\n",
      "Fare           891 non-null float64\n",
      "Cabin          204 non-null object\n",
      "Embarked       889 non-null object\n",
      "dtypes: float64(2), int64(5), object(5)\n",
      "memory usage: 83.6+ KB\n"
     ]
    }
   ],
   "source": [
    "# General glimpse of the dataframe\n",
    "\n",
    "train_df.info()"
   ]
  },
  {
   "cell_type": "markdown",
   "metadata": {},
   "source": [
    "We see that \"Age\" is missing few values, \"Cabin\" is missing most of the values, and \"Embarked\" is missing couple of values so we will try to fill up those values using certain parameters and methods later on. I neglected the column \"Cabin\" completely as it has more than 3/4th values missing and guessing them might lead to erroneous predictions in future"
   ]
  },
  {
   "cell_type": "code",
   "execution_count": 5,
   "metadata": {},
   "outputs": [
    {
     "data": {
      "text/html": [
       "<div>\n",
       "<style scoped>\n",
       "    .dataframe tbody tr th:only-of-type {\n",
       "        vertical-align: middle;\n",
       "    }\n",
       "\n",
       "    .dataframe tbody tr th {\n",
       "        vertical-align: top;\n",
       "    }\n",
       "\n",
       "    .dataframe thead th {\n",
       "        text-align: right;\n",
       "    }\n",
       "</style>\n",
       "<table border=\"1\" class=\"dataframe\">\n",
       "  <thead>\n",
       "    <tr style=\"text-align: right;\">\n",
       "      <th></th>\n",
       "      <th>PassengerId</th>\n",
       "      <th>Survived</th>\n",
       "      <th>Pclass</th>\n",
       "      <th>Age</th>\n",
       "      <th>SibSp</th>\n",
       "      <th>Parch</th>\n",
       "      <th>Fare</th>\n",
       "    </tr>\n",
       "  </thead>\n",
       "  <tbody>\n",
       "    <tr>\n",
       "      <th>count</th>\n",
       "      <td>891.000000</td>\n",
       "      <td>891.000000</td>\n",
       "      <td>891.000000</td>\n",
       "      <td>714.000000</td>\n",
       "      <td>891.000000</td>\n",
       "      <td>891.000000</td>\n",
       "      <td>891.000000</td>\n",
       "    </tr>\n",
       "    <tr>\n",
       "      <th>mean</th>\n",
       "      <td>446.000000</td>\n",
       "      <td>0.383838</td>\n",
       "      <td>2.308642</td>\n",
       "      <td>29.699118</td>\n",
       "      <td>0.523008</td>\n",
       "      <td>0.381594</td>\n",
       "      <td>32.204208</td>\n",
       "    </tr>\n",
       "    <tr>\n",
       "      <th>std</th>\n",
       "      <td>257.353842</td>\n",
       "      <td>0.486592</td>\n",
       "      <td>0.836071</td>\n",
       "      <td>14.526497</td>\n",
       "      <td>1.102743</td>\n",
       "      <td>0.806057</td>\n",
       "      <td>49.693429</td>\n",
       "    </tr>\n",
       "    <tr>\n",
       "      <th>min</th>\n",
       "      <td>1.000000</td>\n",
       "      <td>0.000000</td>\n",
       "      <td>1.000000</td>\n",
       "      <td>0.420000</td>\n",
       "      <td>0.000000</td>\n",
       "      <td>0.000000</td>\n",
       "      <td>0.000000</td>\n",
       "    </tr>\n",
       "    <tr>\n",
       "      <th>25%</th>\n",
       "      <td>223.500000</td>\n",
       "      <td>0.000000</td>\n",
       "      <td>2.000000</td>\n",
       "      <td>20.125000</td>\n",
       "      <td>0.000000</td>\n",
       "      <td>0.000000</td>\n",
       "      <td>7.910400</td>\n",
       "    </tr>\n",
       "    <tr>\n",
       "      <th>50%</th>\n",
       "      <td>446.000000</td>\n",
       "      <td>0.000000</td>\n",
       "      <td>3.000000</td>\n",
       "      <td>28.000000</td>\n",
       "      <td>0.000000</td>\n",
       "      <td>0.000000</td>\n",
       "      <td>14.454200</td>\n",
       "    </tr>\n",
       "    <tr>\n",
       "      <th>75%</th>\n",
       "      <td>668.500000</td>\n",
       "      <td>1.000000</td>\n",
       "      <td>3.000000</td>\n",
       "      <td>38.000000</td>\n",
       "      <td>1.000000</td>\n",
       "      <td>0.000000</td>\n",
       "      <td>31.000000</td>\n",
       "    </tr>\n",
       "    <tr>\n",
       "      <th>max</th>\n",
       "      <td>891.000000</td>\n",
       "      <td>1.000000</td>\n",
       "      <td>3.000000</td>\n",
       "      <td>80.000000</td>\n",
       "      <td>8.000000</td>\n",
       "      <td>6.000000</td>\n",
       "      <td>512.329200</td>\n",
       "    </tr>\n",
       "  </tbody>\n",
       "</table>\n",
       "</div>"
      ],
      "text/plain": [
       "       PassengerId    Survived      Pclass         Age       SibSp  \\\n",
       "count   891.000000  891.000000  891.000000  714.000000  891.000000   \n",
       "mean    446.000000    0.383838    2.308642   29.699118    0.523008   \n",
       "std     257.353842    0.486592    0.836071   14.526497    1.102743   \n",
       "min       1.000000    0.000000    1.000000    0.420000    0.000000   \n",
       "25%     223.500000    0.000000    2.000000   20.125000    0.000000   \n",
       "50%     446.000000    0.000000    3.000000   28.000000    0.000000   \n",
       "75%     668.500000    1.000000    3.000000   38.000000    1.000000   \n",
       "max     891.000000    1.000000    3.000000   80.000000    8.000000   \n",
       "\n",
       "            Parch        Fare  \n",
       "count  891.000000  891.000000  \n",
       "mean     0.381594   32.204208  \n",
       "std      0.806057   49.693429  \n",
       "min      0.000000    0.000000  \n",
       "25%      0.000000    7.910400  \n",
       "50%      0.000000   14.454200  \n",
       "75%      0.000000   31.000000  \n",
       "max      6.000000  512.329200  "
      ]
     },
     "execution_count": 5,
     "metadata": {},
     "output_type": "execute_result"
    }
   ],
   "source": [
    "#Statistical glimpse of the Dataframe\n",
    "\n",
    "train_df.describe()"
   ]
  },
  {
   "cell_type": "code",
   "execution_count": 6,
   "metadata": {},
   "outputs": [
    {
     "data": {
      "text/html": [
       "<div>\n",
       "<style scoped>\n",
       "    .dataframe tbody tr th:only-of-type {\n",
       "        vertical-align: middle;\n",
       "    }\n",
       "\n",
       "    .dataframe tbody tr th {\n",
       "        vertical-align: top;\n",
       "    }\n",
       "\n",
       "    .dataframe thead th {\n",
       "        text-align: right;\n",
       "    }\n",
       "</style>\n",
       "<table border=\"1\" class=\"dataframe\">\n",
       "  <thead>\n",
       "    <tr style=\"text-align: right;\">\n",
       "      <th></th>\n",
       "      <th>PassengerId</th>\n",
       "      <th>Survived</th>\n",
       "      <th>Pclass</th>\n",
       "      <th>Name</th>\n",
       "      <th>Sex</th>\n",
       "      <th>Age</th>\n",
       "      <th>SibSp</th>\n",
       "      <th>Parch</th>\n",
       "      <th>Ticket</th>\n",
       "      <th>Fare</th>\n",
       "      <th>Embarked</th>\n",
       "    </tr>\n",
       "  </thead>\n",
       "  <tbody>\n",
       "    <tr>\n",
       "      <th>0</th>\n",
       "      <td>1</td>\n",
       "      <td>0</td>\n",
       "      <td>3</td>\n",
       "      <td>Braund, Mr. Owen Harris</td>\n",
       "      <td>male</td>\n",
       "      <td>22.0</td>\n",
       "      <td>1</td>\n",
       "      <td>0</td>\n",
       "      <td>A/5 21171</td>\n",
       "      <td>7.2500</td>\n",
       "      <td>S</td>\n",
       "    </tr>\n",
       "    <tr>\n",
       "      <th>1</th>\n",
       "      <td>2</td>\n",
       "      <td>1</td>\n",
       "      <td>1</td>\n",
       "      <td>Cumings, Mrs. John Bradley (Florence Briggs Th...</td>\n",
       "      <td>female</td>\n",
       "      <td>38.0</td>\n",
       "      <td>1</td>\n",
       "      <td>0</td>\n",
       "      <td>PC 17599</td>\n",
       "      <td>71.2833</td>\n",
       "      <td>C</td>\n",
       "    </tr>\n",
       "    <tr>\n",
       "      <th>2</th>\n",
       "      <td>3</td>\n",
       "      <td>1</td>\n",
       "      <td>3</td>\n",
       "      <td>Heikkinen, Miss. Laina</td>\n",
       "      <td>female</td>\n",
       "      <td>26.0</td>\n",
       "      <td>0</td>\n",
       "      <td>0</td>\n",
       "      <td>STON/O2. 3101282</td>\n",
       "      <td>7.9250</td>\n",
       "      <td>S</td>\n",
       "    </tr>\n",
       "  </tbody>\n",
       "</table>\n",
       "</div>"
      ],
      "text/plain": [
       "   PassengerId  Survived  Pclass  \\\n",
       "0            1         0       3   \n",
       "1            2         1       1   \n",
       "2            3         1       3   \n",
       "\n",
       "                                                Name     Sex   Age  SibSp  \\\n",
       "0                            Braund, Mr. Owen Harris    male  22.0      1   \n",
       "1  Cumings, Mrs. John Bradley (Florence Briggs Th...  female  38.0      1   \n",
       "2                             Heikkinen, Miss. Laina  female  26.0      0   \n",
       "\n",
       "   Parch            Ticket     Fare Embarked  \n",
       "0      0         A/5 21171   7.2500        S  \n",
       "1      0          PC 17599  71.2833        C  \n",
       "2      0  STON/O2. 3101282   7.9250        S  "
      ]
     },
     "execution_count": 6,
     "metadata": {},
     "output_type": "execute_result"
    }
   ],
   "source": [
    "#Drop the \"Cabin\" Column\n",
    "train_df.drop(\"Cabin\", axis = 1, inplace = True)\n",
    "\n",
    "#Check the dataframe again to confirm that the column is dropped\n",
    "train_df.head(3)"
   ]
  },
  {
   "cell_type": "markdown",
   "metadata": {},
   "source": [
    "So looking at the dataframe above and from the description of all the parameters already provided in the problem, the things which we can think of and correlate to survival/death are \n",
    "\n",
    "1) Whether they were travelling alone or with Family or with Friends something like that and how many of them?                 \n",
    "2) People who had the same ticket number died together or few of them survived or what?                     \n",
    "3) We know the Gender of the person and whether they were travelling alone or not from SibSp and Parch but the ones who were      travelling alone were young/old/kids or what? \n",
    "\n",
    "On a lighter note, all these things came to my mind after going through the dataframe several times and observing each and every parameter several times, too"
   ]
  },
  {
   "cell_type": "markdown",
   "metadata": {},
   "source": [
    "#### We will start with \"Name\" column from which we can try to identify their status like \"Mr\", \"Mrs\", \"Miss\" etc...."
   ]
  },
  {
   "cell_type": "code",
   "execution_count": 7,
   "metadata": {},
   "outputs": [],
   "source": [
    "#Function that will grab the \"Mr\" from the name \"Braund, Mr. Owens harris\" and likewise for the whole column\n",
    "def person_status(prefix):\n",
    "    \n",
    "    prefix = prefix.split(\".\")[0].split(\",\")[1].lstrip()\n",
    "    return prefix"
   ]
  },
  {
   "cell_type": "code",
   "execution_count": 8,
   "metadata": {},
   "outputs": [
    {
     "data": {
      "text/html": [
       "<div>\n",
       "<style scoped>\n",
       "    .dataframe tbody tr th:only-of-type {\n",
       "        vertical-align: middle;\n",
       "    }\n",
       "\n",
       "    .dataframe tbody tr th {\n",
       "        vertical-align: top;\n",
       "    }\n",
       "\n",
       "    .dataframe thead th {\n",
       "        text-align: right;\n",
       "    }\n",
       "</style>\n",
       "<table border=\"1\" class=\"dataframe\">\n",
       "  <thead>\n",
       "    <tr style=\"text-align: right;\">\n",
       "      <th></th>\n",
       "      <th>PassengerId</th>\n",
       "      <th>Survived</th>\n",
       "      <th>Pclass</th>\n",
       "      <th>Name</th>\n",
       "      <th>Sex</th>\n",
       "      <th>Age</th>\n",
       "      <th>SibSp</th>\n",
       "      <th>Parch</th>\n",
       "      <th>Ticket</th>\n",
       "      <th>Fare</th>\n",
       "      <th>Embarked</th>\n",
       "      <th>Prefix</th>\n",
       "    </tr>\n",
       "  </thead>\n",
       "  <tbody>\n",
       "    <tr>\n",
       "      <th>0</th>\n",
       "      <td>1</td>\n",
       "      <td>0</td>\n",
       "      <td>3</td>\n",
       "      <td>Braund, Mr. Owen Harris</td>\n",
       "      <td>male</td>\n",
       "      <td>22.0</td>\n",
       "      <td>1</td>\n",
       "      <td>0</td>\n",
       "      <td>A/5 21171</td>\n",
       "      <td>7.2500</td>\n",
       "      <td>S</td>\n",
       "      <td>Mr</td>\n",
       "    </tr>\n",
       "    <tr>\n",
       "      <th>1</th>\n",
       "      <td>2</td>\n",
       "      <td>1</td>\n",
       "      <td>1</td>\n",
       "      <td>Cumings, Mrs. John Bradley (Florence Briggs Th...</td>\n",
       "      <td>female</td>\n",
       "      <td>38.0</td>\n",
       "      <td>1</td>\n",
       "      <td>0</td>\n",
       "      <td>PC 17599</td>\n",
       "      <td>71.2833</td>\n",
       "      <td>C</td>\n",
       "      <td>Mrs</td>\n",
       "    </tr>\n",
       "    <tr>\n",
       "      <th>2</th>\n",
       "      <td>3</td>\n",
       "      <td>1</td>\n",
       "      <td>3</td>\n",
       "      <td>Heikkinen, Miss. Laina</td>\n",
       "      <td>female</td>\n",
       "      <td>26.0</td>\n",
       "      <td>0</td>\n",
       "      <td>0</td>\n",
       "      <td>STON/O2. 3101282</td>\n",
       "      <td>7.9250</td>\n",
       "      <td>S</td>\n",
       "      <td>Miss</td>\n",
       "    </tr>\n",
       "    <tr>\n",
       "      <th>3</th>\n",
       "      <td>4</td>\n",
       "      <td>1</td>\n",
       "      <td>1</td>\n",
       "      <td>Futrelle, Mrs. Jacques Heath (Lily May Peel)</td>\n",
       "      <td>female</td>\n",
       "      <td>35.0</td>\n",
       "      <td>1</td>\n",
       "      <td>0</td>\n",
       "      <td>113803</td>\n",
       "      <td>53.1000</td>\n",
       "      <td>S</td>\n",
       "      <td>Mrs</td>\n",
       "    </tr>\n",
       "    <tr>\n",
       "      <th>4</th>\n",
       "      <td>5</td>\n",
       "      <td>0</td>\n",
       "      <td>3</td>\n",
       "      <td>Allen, Mr. William Henry</td>\n",
       "      <td>male</td>\n",
       "      <td>35.0</td>\n",
       "      <td>0</td>\n",
       "      <td>0</td>\n",
       "      <td>373450</td>\n",
       "      <td>8.0500</td>\n",
       "      <td>S</td>\n",
       "      <td>Mr</td>\n",
       "    </tr>\n",
       "  </tbody>\n",
       "</table>\n",
       "</div>"
      ],
      "text/plain": [
       "   PassengerId  Survived  Pclass  \\\n",
       "0            1         0       3   \n",
       "1            2         1       1   \n",
       "2            3         1       3   \n",
       "3            4         1       1   \n",
       "4            5         0       3   \n",
       "\n",
       "                                                Name     Sex   Age  SibSp  \\\n",
       "0                            Braund, Mr. Owen Harris    male  22.0      1   \n",
       "1  Cumings, Mrs. John Bradley (Florence Briggs Th...  female  38.0      1   \n",
       "2                             Heikkinen, Miss. Laina  female  26.0      0   \n",
       "3       Futrelle, Mrs. Jacques Heath (Lily May Peel)  female  35.0      1   \n",
       "4                           Allen, Mr. William Henry    male  35.0      0   \n",
       "\n",
       "   Parch            Ticket     Fare Embarked Prefix  \n",
       "0      0         A/5 21171   7.2500        S     Mr  \n",
       "1      0          PC 17599  71.2833        C    Mrs  \n",
       "2      0  STON/O2. 3101282   7.9250        S   Miss  \n",
       "3      0            113803  53.1000        S    Mrs  \n",
       "4      0            373450   8.0500        S     Mr  "
      ]
     },
     "execution_count": 8,
     "metadata": {},
     "output_type": "execute_result"
    }
   ],
   "source": [
    "#Creating a new column \"Prefix\" which will have all the values like \"Mr\", \"Mrs\", \"Miss\" etc...\n",
    "train_df[\"Prefix\"] = train_df[\"Name\"].apply(person_status)\n",
    "\n",
    "train_df.head()"
   ]
  },
  {
   "cell_type": "code",
   "execution_count": 9,
   "metadata": {},
   "outputs": [
    {
     "data": {
      "text/plain": [
       "Mr              517\n",
       "Miss            182\n",
       "Mrs             125\n",
       "Master           40\n",
       "Dr                7\n",
       "Rev               6\n",
       "Major             2\n",
       "Col               2\n",
       "Mlle              2\n",
       "Mme               1\n",
       "Don               1\n",
       "the Countess      1\n",
       "Lady              1\n",
       "Sir               1\n",
       "Capt              1\n",
       "Jonkheer          1\n",
       "Ms                1\n",
       "Name: Prefix, dtype: int64"
      ]
     },
     "execution_count": 9,
     "metadata": {},
     "output_type": "execute_result"
    }
   ],
   "source": [
    "#Check how many different prefixes we have\n",
    "\n",
    "train_df[\"Prefix\"].value_counts()"
   ]
  },
  {
   "cell_type": "markdown",
   "metadata": {},
   "source": [
    "As we see \"Mr\", \"Miss\", \"Mrs\", and \"Master\" the most frequent ones we will define all the other prefixes as \"Misc\""
   ]
  },
  {
   "cell_type": "code",
   "execution_count": 10,
   "metadata": {},
   "outputs": [
    {
     "name": "stderr",
     "output_type": "stream",
     "text": [
      "C:\\Users\\Vismay\\AppData\\Local\\Continuum\\anaconda3\\lib\\site-packages\\ipykernel_launcher.py:4: SettingWithCopyWarning: \n",
      "A value is trying to be set on a copy of a slice from a DataFrame\n",
      "\n",
      "See the caveats in the documentation: http://pandas.pydata.org/pandas-docs/stable/indexing.html#indexing-view-versus-copy\n",
      "  after removing the cwd from sys.path.\n"
     ]
    },
    {
     "data": {
      "text/plain": [
       "Mr        517\n",
       "Miss      182\n",
       "Mrs       125\n",
       "Master     40\n",
       "Misc       27\n",
       "Name: Prefix, dtype: int64"
      ]
     },
     "execution_count": 10,
     "metadata": {},
     "output_type": "execute_result"
    }
   ],
   "source": [
    "#For loop which will do the job for us\n",
    "for prefix in range(len(train_df)):\n",
    "    if train_df[\"Prefix\"][prefix] not in [\"Mr\", \"Mrs\", \"Miss\", \"Master\"]:\n",
    "        train_df[\"Prefix\"][prefix] = \"Misc\"\n",
    "        \n",
    "train_df[\"Prefix\"].value_counts()"
   ]
  },
  {
   "cell_type": "markdown",
   "metadata": {},
   "source": [
    "#### Now just to see how many are travelling alone and how many are travelling with somebody"
   ]
  },
  {
   "cell_type": "code",
   "execution_count": 11,
   "metadata": {},
   "outputs": [],
   "source": [
    "def alone(number):\n",
    "    x,y = number\n",
    "    number = x+y\n",
    "    return number"
   ]
  },
  {
   "cell_type": "code",
   "execution_count": 12,
   "metadata": {},
   "outputs": [
    {
     "name": "stderr",
     "output_type": "stream",
     "text": [
      "C:\\Users\\Vismay\\AppData\\Local\\Continuum\\anaconda3\\lib\\site-packages\\pandas\\core\\indexing.py:190: SettingWithCopyWarning: \n",
      "A value is trying to be set on a copy of a slice from a DataFrame\n",
      "\n",
      "See the caveats in the documentation: http://pandas.pydata.org/pandas-docs/stable/indexing.html#indexing-view-versus-copy\n",
      "  self._setitem_with_indexer(indexer, value)\n"
     ]
    },
    {
     "data": {
      "text/html": [
       "<div>\n",
       "<style scoped>\n",
       "    .dataframe tbody tr th:only-of-type {\n",
       "        vertical-align: middle;\n",
       "    }\n",
       "\n",
       "    .dataframe tbody tr th {\n",
       "        vertical-align: top;\n",
       "    }\n",
       "\n",
       "    .dataframe thead th {\n",
       "        text-align: right;\n",
       "    }\n",
       "</style>\n",
       "<table border=\"1\" class=\"dataframe\">\n",
       "  <thead>\n",
       "    <tr style=\"text-align: right;\">\n",
       "      <th></th>\n",
       "      <th>PassengerId</th>\n",
       "      <th>Survived</th>\n",
       "      <th>Pclass</th>\n",
       "      <th>Name</th>\n",
       "      <th>Sex</th>\n",
       "      <th>Age</th>\n",
       "      <th>SibSp</th>\n",
       "      <th>Parch</th>\n",
       "      <th>Ticket</th>\n",
       "      <th>Fare</th>\n",
       "      <th>Embarked</th>\n",
       "      <th>Prefix</th>\n",
       "      <th>Family</th>\n",
       "    </tr>\n",
       "  </thead>\n",
       "  <tbody>\n",
       "    <tr>\n",
       "      <th>0</th>\n",
       "      <td>1</td>\n",
       "      <td>0</td>\n",
       "      <td>3</td>\n",
       "      <td>Braund, Mr. Owen Harris</td>\n",
       "      <td>male</td>\n",
       "      <td>22.0</td>\n",
       "      <td>1</td>\n",
       "      <td>0</td>\n",
       "      <td>A/5 21171</td>\n",
       "      <td>7.2500</td>\n",
       "      <td>S</td>\n",
       "      <td>Mr</td>\n",
       "      <td>1</td>\n",
       "    </tr>\n",
       "    <tr>\n",
       "      <th>1</th>\n",
       "      <td>2</td>\n",
       "      <td>1</td>\n",
       "      <td>1</td>\n",
       "      <td>Cumings, Mrs. John Bradley (Florence Briggs Th...</td>\n",
       "      <td>female</td>\n",
       "      <td>38.0</td>\n",
       "      <td>1</td>\n",
       "      <td>0</td>\n",
       "      <td>PC 17599</td>\n",
       "      <td>71.2833</td>\n",
       "      <td>C</td>\n",
       "      <td>Mrs</td>\n",
       "      <td>1</td>\n",
       "    </tr>\n",
       "    <tr>\n",
       "      <th>2</th>\n",
       "      <td>3</td>\n",
       "      <td>1</td>\n",
       "      <td>3</td>\n",
       "      <td>Heikkinen, Miss. Laina</td>\n",
       "      <td>female</td>\n",
       "      <td>26.0</td>\n",
       "      <td>0</td>\n",
       "      <td>0</td>\n",
       "      <td>STON/O2. 3101282</td>\n",
       "      <td>7.9250</td>\n",
       "      <td>S</td>\n",
       "      <td>Miss</td>\n",
       "      <td>0</td>\n",
       "    </tr>\n",
       "  </tbody>\n",
       "</table>\n",
       "</div>"
      ],
      "text/plain": [
       "   PassengerId  Survived  Pclass  \\\n",
       "0            1         0       3   \n",
       "1            2         1       1   \n",
       "2            3         1       3   \n",
       "\n",
       "                                                Name     Sex   Age  SibSp  \\\n",
       "0                            Braund, Mr. Owen Harris    male  22.0      1   \n",
       "1  Cumings, Mrs. John Bradley (Florence Briggs Th...  female  38.0      1   \n",
       "2                             Heikkinen, Miss. Laina  female  26.0      0   \n",
       "\n",
       "   Parch            Ticket     Fare Embarked Prefix  Family  \n",
       "0      0         A/5 21171   7.2500        S     Mr       1  \n",
       "1      0          PC 17599  71.2833        C    Mrs       1  \n",
       "2      0  STON/O2. 3101282   7.9250        S   Miss       0  "
      ]
     },
     "execution_count": 12,
     "metadata": {},
     "output_type": "execute_result"
    }
   ],
   "source": [
    "train_df[\"Family\"] = train_df[[\"SibSp\", \"Parch\"]].apply(alone, axis = 1)\n",
    "\n",
    "# Look for >0 or ==0 to set alone status\n",
    "train_df[\"Family\"].loc[train_df[\"Family\"]>0] = 1\n",
    "train_df[\"Family\"].loc[train_df[\"Family\"]==0] = 0\n",
    "\n",
    "train_df.head(3)"
   ]
  },
  {
   "cell_type": "markdown",
   "metadata": {},
   "source": [
    "1 means they are travelling with someone and 0 means they are travelling alone"
   ]
  },
  {
   "cell_type": "markdown",
   "metadata": {},
   "source": [
    "#### Now I will try to perform Exploratory Data Analysis (EDA) little more for every single parameter here and do whatever modifications or cleansing it requires or I feel it requires"
   ]
  },
  {
   "cell_type": "markdown",
   "metadata": {},
   "source": [
    "Before trying to go for EDA I would just copy this original dataframe so that I don't make direct modifications to it and if I make any mistakes than it doesn't directly affect the original dataframe"
   ]
  },
  {
   "cell_type": "code",
   "execution_count": 13,
   "metadata": {},
   "outputs": [
    {
     "data": {
      "text/html": [
       "<div>\n",
       "<style scoped>\n",
       "    .dataframe tbody tr th:only-of-type {\n",
       "        vertical-align: middle;\n",
       "    }\n",
       "\n",
       "    .dataframe tbody tr th {\n",
       "        vertical-align: top;\n",
       "    }\n",
       "\n",
       "    .dataframe thead th {\n",
       "        text-align: right;\n",
       "    }\n",
       "</style>\n",
       "<table border=\"1\" class=\"dataframe\">\n",
       "  <thead>\n",
       "    <tr style=\"text-align: right;\">\n",
       "      <th></th>\n",
       "      <th>PassengerId</th>\n",
       "      <th>Survived</th>\n",
       "      <th>Pclass</th>\n",
       "      <th>Name</th>\n",
       "      <th>Sex</th>\n",
       "      <th>Age</th>\n",
       "      <th>SibSp</th>\n",
       "      <th>Parch</th>\n",
       "      <th>Ticket</th>\n",
       "      <th>Fare</th>\n",
       "      <th>Embarked</th>\n",
       "      <th>Prefix</th>\n",
       "      <th>Family</th>\n",
       "    </tr>\n",
       "  </thead>\n",
       "  <tbody>\n",
       "    <tr>\n",
       "      <th>0</th>\n",
       "      <td>1</td>\n",
       "      <td>0</td>\n",
       "      <td>3</td>\n",
       "      <td>Braund, Mr. Owen Harris</td>\n",
       "      <td>male</td>\n",
       "      <td>22.0</td>\n",
       "      <td>1</td>\n",
       "      <td>0</td>\n",
       "      <td>A/5 21171</td>\n",
       "      <td>7.2500</td>\n",
       "      <td>S</td>\n",
       "      <td>Mr</td>\n",
       "      <td>1</td>\n",
       "    </tr>\n",
       "    <tr>\n",
       "      <th>1</th>\n",
       "      <td>2</td>\n",
       "      <td>1</td>\n",
       "      <td>1</td>\n",
       "      <td>Cumings, Mrs. John Bradley (Florence Briggs Th...</td>\n",
       "      <td>female</td>\n",
       "      <td>38.0</td>\n",
       "      <td>1</td>\n",
       "      <td>0</td>\n",
       "      <td>PC 17599</td>\n",
       "      <td>71.2833</td>\n",
       "      <td>C</td>\n",
       "      <td>Mrs</td>\n",
       "      <td>1</td>\n",
       "    </tr>\n",
       "    <tr>\n",
       "      <th>2</th>\n",
       "      <td>3</td>\n",
       "      <td>1</td>\n",
       "      <td>3</td>\n",
       "      <td>Heikkinen, Miss. Laina</td>\n",
       "      <td>female</td>\n",
       "      <td>26.0</td>\n",
       "      <td>0</td>\n",
       "      <td>0</td>\n",
       "      <td>STON/O2. 3101282</td>\n",
       "      <td>7.9250</td>\n",
       "      <td>S</td>\n",
       "      <td>Miss</td>\n",
       "      <td>0</td>\n",
       "    </tr>\n",
       "  </tbody>\n",
       "</table>\n",
       "</div>"
      ],
      "text/plain": [
       "   PassengerId  Survived  Pclass  \\\n",
       "0            1         0       3   \n",
       "1            2         1       1   \n",
       "2            3         1       3   \n",
       "\n",
       "                                                Name     Sex   Age  SibSp  \\\n",
       "0                            Braund, Mr. Owen Harris    male  22.0      1   \n",
       "1  Cumings, Mrs. John Bradley (Florence Briggs Th...  female  38.0      1   \n",
       "2                             Heikkinen, Miss. Laina  female  26.0      0   \n",
       "\n",
       "   Parch            Ticket     Fare Embarked Prefix  Family  \n",
       "0      0         A/5 21171   7.2500        S     Mr       1  \n",
       "1      0          PC 17599  71.2833        C    Mrs       1  \n",
       "2      0  STON/O2. 3101282   7.9250        S   Miss       0  "
      ]
     },
     "execution_count": 13,
     "metadata": {},
     "output_type": "execute_result"
    }
   ],
   "source": [
    "titanic_copy = train_df.copy()\n",
    "titanic_copy.head(3)"
   ]
  },
  {
   "cell_type": "markdown",
   "metadata": {},
   "source": [
    "## Pclass.............................................................................................................................................."
   ]
  },
  {
   "cell_type": "code",
   "execution_count": 14,
   "metadata": {},
   "outputs": [
    {
     "data": {
      "text/plain": [
       "3    491\n",
       "1    216\n",
       "2    184\n",
       "Name: Pclass, dtype: int64"
      ]
     },
     "execution_count": 14,
     "metadata": {},
     "output_type": "execute_result"
    }
   ],
   "source": [
    "titanic_copy[\"Pclass\"].value_counts()"
   ]
  },
  {
   "cell_type": "markdown",
   "metadata": {},
   "source": [
    "So many passangers are travelling in the Pclass 3"
   ]
  },
  {
   "cell_type": "code",
   "execution_count": 15,
   "metadata": {},
   "outputs": [
    {
     "data": {
      "image/png": "[encoded data removed]",
      "text/plain": [
       "<Figure size 432x288 with 1 Axes>"
      ]
     },
     "metadata": {
      "needs_background": "light"
     },
     "output_type": "display_data"
    }
   ],
   "source": [
    "#Checking the survival/death of the people travelling in different class\n",
    "\n",
    "ax = sns.countplot(x=\"Pclass\", data=titanic_copy, hue = \"Survived\")\n",
    "\n",
    "for p in ax.patches:\n",
    "        ax.annotate('{:.1f}'.format(p.get_height()), (p.get_x()+0.1, p.get_height()+5))"
   ]
  },
  {
   "cell_type": "markdown",
   "metadata": {},
   "source": [
    "24% passangers travelling in Pclass 3, 47% passangers travelling in Pclass 2, and 63% passangers travelling in Pclass 1 survived. This clearly indicates that the Passanger Class has direct impact on the survival/death "
   ]
  },
  {
   "cell_type": "markdown",
   "metadata": {},
   "source": [
    "## Sex.............................................................................................................................................."
   ]
  },
  {
   "cell_type": "code",
   "execution_count": 16,
   "metadata": {},
   "outputs": [
    {
     "data": {
      "text/plain": [
       "male      577\n",
       "female    314\n",
       "Name: Sex, dtype: int64"
      ]
     },
     "execution_count": 16,
     "metadata": {},
     "output_type": "execute_result"
    }
   ],
   "source": [
    "titanic_copy[\"Sex\"].value_counts()"
   ]
  },
  {
   "cell_type": "markdown",
   "metadata": {},
   "source": [
    "65% of the passangers travelling are male"
   ]
  },
  {
   "cell_type": "code",
   "execution_count": 17,
   "metadata": {},
   "outputs": [
    {
     "data": {
      "image/png": "[encoded data removed]",
      "text/plain": [
       "<Figure size 432x288 with 1 Axes>"
      ]
     },
     "metadata": {
      "needs_background": "light"
     },
     "output_type": "display_data"
    }
   ],
   "source": [
    "#Checking the survival/death of the people based on Gender\n",
    "\n",
    "ax = sns.countplot(x=\"Sex\", data=titanic_copy, hue = \"Survived\")\n",
    "\n",
    "for p in ax.patches:\n",
    "        ax.annotate('{:.1f}'.format(p.get_height()), (p.get_x()+0.1, p.get_height()+5))"
   ]
  },
  {
   "cell_type": "markdown",
   "metadata": {},
   "source": [
    "74% of the total females survived whereas only 19% of the total males survived which aagin shows the huge impact of gender directly on survival/death"
   ]
  },
  {
   "cell_type": "markdown",
   "metadata": {},
   "source": [
    "## Age.............................................................................................................................................."
   ]
  },
  {
   "cell_type": "code",
   "execution_count": 18,
   "metadata": {},
   "outputs": [
    {
     "data": {
      "text/plain": [
       "<matplotlib.axes._subplots.AxesSubplot at 0x2c57839cf60>"
      ]
     },
     "execution_count": 18,
     "metadata": {},
     "output_type": "execute_result"
    },
    {
     "data": {
      "image/png": "[encoded data removed]",
      "text/plain": [
       "<Figure size 576x432 with 1 Axes>"
      ]
     },
     "metadata": {
      "needs_background": "light"
     },
     "output_type": "display_data"
    }
   ],
   "source": [
    "# The distribution of the Age\n",
    "titanic_copy[\"Age\"].plot(kind = \"hist\", bins= 5, figsize = (8,6))"
   ]
  },
  {
   "cell_type": "markdown",
   "metadata": {},
   "source": [
    "So the major population onboard is in their 20's. Now we still need to fill up the remaining values of \"Age\". Now logically the parameters like \"Mr/Mrs/Miss..\" and \"travelling with family/alone\" should help us to identify the ages. As Pclass is directly correlated with our target variable \"Survived\" I would also analyse whether Pclass has any affects on \"Age or not "
   ]
  },
  {
   "cell_type": "code",
   "execution_count": 19,
   "metadata": {},
   "outputs": [
    {
     "name": "stdout",
     "output_type": "stream",
     "text": [
      "Prefix Mr- Mean: 32.37, Median: 30.0, Std: 12.71\n",
      "Prefix Mrs- Mean: 35.9, Median: 35.0, Std: 11.43\n",
      "Prefix Miss- Mean: 21.77, Median: 21.0, Std: 12.99\n",
      "Prefix Master- Mean: 4.57, Median: 3.5, Std: 3.62\n",
      "Prefix Misc- Mean: 42.38, Median: 44.5, Std: 13.2\n"
     ]
    },
    {
     "data": {
      "text/plain": [
       "<seaborn.axisgrid.FacetGrid at 0x2c578312710>"
      ]
     },
     "execution_count": 19,
     "metadata": {},
     "output_type": "execute_result"
    },
    {
     "data": {
      "image/png": "[encoded data removed]",
      "text/plain": [
       "<Figure size 790.125x360 with 1 Axes>"
      ]
     },
     "metadata": {
      "needs_background": "light"
     },
     "output_type": "display_data"
    }
   ],
   "source": [
    "prefixes = [\"Mr\", \"Mrs\", \"Miss\", \"Master\", \"Misc\"]\n",
    "\n",
    "for x in prefixes:\n",
    "    print(\"Prefix {}- Mean: {}, Median: {}, Std: {}\".format(x,\n",
    "                                                        round(titanic_copy[titanic_copy[\"Prefix\"] == x][\"Age\"].mean(),2),\n",
    "                                                        round(titanic_copy[titanic_copy[\"Prefix\"] == x][\"Age\"].median(),2),\n",
    "                                                        round(titanic_copy[titanic_copy[\"Prefix\"] == x][\"Age\"].std(),2)))\n",
    "    \n",
    "figure = sns.FacetGrid(titanic_copy, hue = \"Prefix\", aspect=2, height =5)\n",
    "figure.map(sns.kdeplot, \"Age\", shade = True)\n",
    "figure.add_legend()"
   ]
  },
  {
   "cell_type": "markdown",
   "metadata": {},
   "source": [
    "We can see how different \"Title\" affect the \"Age\" directly. We can clearly see that kids have been provided with \"Master\" title. So while filling up the null values of Age, this findings will be pretty helpful"
   ]
  },
  {
   "cell_type": "code",
   "execution_count": 20,
   "metadata": {},
   "outputs": [
    {
     "name": "stdout",
     "output_type": "stream",
     "text": [
      "Family 0- Mean: 32.22, Median: 29.5, Std: 12.9\n",
      "Family 1- Mean: 26.41, Median: 26.0, Std: 15.83\n"
     ]
    },
    {
     "data": {
      "text/plain": [
       "<seaborn.axisgrid.FacetGrid at 0x2c57840acf8>"
      ]
     },
     "execution_count": 20,
     "metadata": {},
     "output_type": "execute_result"
    },
    {
     "data": {
      "image/png": "[encoded data removed]",
      "text/plain": [
       "<Figure size 762.375x360 with 1 Axes>"
      ]
     },
     "metadata": {
      "needs_background": "light"
     },
     "output_type": "display_data"
    }
   ],
   "source": [
    "family = [0,1]\n",
    "\n",
    "for x in family:\n",
    "    print(\"Family {}- Mean: {}, Median: {}, Std: {}\".format(x,\n",
    "                                                        round(titanic_copy[titanic_copy[\"Family\"] == x][\"Age\"].mean(),2),\n",
    "                                                        round(titanic_copy[titanic_copy[\"Family\"] == x][\"Age\"].median(),2),\n",
    "                                                        round(titanic_copy[titanic_copy[\"Family\"] == x][\"Age\"].std(),2)))\n",
    "    \n",
    "figure = sns.FacetGrid(titanic_copy, hue = \"Family\", aspect=2, height =5)\n",
    "figure.map(sns.kdeplot, \"Age\", shade = True)\n",
    "figure.add_legend()"
   ]
  },
  {
   "cell_type": "markdown",
   "metadata": {},
   "source": [
    "There is no such a huge difference in mean or median of these parameter....but still we would consider it as it might create a huge difference when combining the different parameters"
   ]
  },
  {
   "cell_type": "code",
   "execution_count": 21,
   "metadata": {},
   "outputs": [
    {
     "name": "stdout",
     "output_type": "stream",
     "text": [
      "Pclass 1- Mean: 38.23, Median: 37.0, Std: 14.8\n",
      "Pclass 2- Mean: 29.88, Median: 29.0, Std: 14.0\n",
      "Pclass 3- Mean: 25.14, Median: 24.0, Std: 12.5\n"
     ]
    },
    {
     "data": {
      "text/plain": [
       "<seaborn.axisgrid.FacetGrid at 0x2c5782df3c8>"
      ]
     },
     "execution_count": 21,
     "metadata": {},
     "output_type": "execute_result"
    },
    {
     "data": {
      "image/png": "[encoded data removed]",
      "text/plain": [
       "<Figure size 762.375x360 with 1 Axes>"
      ]
     },
     "metadata": {
      "needs_background": "light"
     },
     "output_type": "display_data"
    }
   ],
   "source": [
    "pclass = [1,2,3]\n",
    "\n",
    "for x in pclass:\n",
    "    print(\"Pclass {}- Mean: {}, Median: {}, Std: {}\".format(x,\n",
    "                                                        round(titanic_copy[titanic_copy[\"Pclass\"] == x][\"Age\"].mean(),2),\n",
    "                                                        round(titanic_copy[titanic_copy[\"Pclass\"] == x][\"Age\"].median(),2),\n",
    "                                                        round(titanic_copy[titanic_copy[\"Pclass\"] == x][\"Age\"].std(),2)))\n",
    "    \n",
    "figure = sns.FacetGrid(titanic_copy, hue = \"Pclass\", aspect=2, height =5)\n",
    "figure.map(sns.kdeplot, \"Age\", shade = True)\n",
    "figure.add_legend()"
   ]
  },
  {
   "cell_type": "markdown",
   "metadata": {},
   "source": [
    "We do see significant age difference in the people travelling in class 1 and 3. So we will consider Pclass while computing the age"
   ]
  },
  {
   "cell_type": "code",
   "execution_count": 22,
   "metadata": {},
   "outputs": [
    {
     "name": "stdout",
     "output_type": "stream",
     "text": [
      "Sex male- Mean: 30.73, Median: 29.0, Std: 14.68\n",
      "Sex female- Mean: 27.92, Median: 27.0, Std: 14.11\n"
     ]
    },
    {
     "data": {
      "text/plain": [
       "<seaborn.axisgrid.FacetGrid at 0x2c578582fd0>"
      ]
     },
     "execution_count": 22,
     "metadata": {},
     "output_type": "execute_result"
    },
    {
     "data": {
      "image/png": "[encoded data removed]",
      "text/plain": [
       "<Figure size 790.5x360 with 1 Axes>"
      ]
     },
     "metadata": {
      "needs_background": "light"
     },
     "output_type": "display_data"
    }
   ],
   "source": [
    "sex = [\"male\", \"female\"]\n",
    "\n",
    "for x in sex:\n",
    "    print(\"Sex {}- Mean: {}, Median: {}, Std: {}\".format(x,\n",
    "                                                        round(titanic_copy[titanic_copy[\"Sex\"] == x][\"Age\"].mean(),2),\n",
    "                                                        round(titanic_copy[titanic_copy[\"Sex\"] == x][\"Age\"].median(),2),\n",
    "                                                        round(titanic_copy[titanic_copy[\"Sex\"] == x][\"Age\"].std(),2)))\n",
    "    \n",
    "figure = sns.FacetGrid(titanic_copy, hue = \"Sex\", aspect=2, height =5)\n",
    "figure.map(sns.kdeplot, \"Age\", shade = True)\n",
    "figure.add_legend()"
   ]
  },
  {
   "cell_type": "markdown",
   "metadata": {},
   "source": [
    "Not a significant difference in the Age of a Male or Female and almost same Standard deviation for both of the Genders. So we will not consider this paramter to compute the Age"
   ]
  },
  {
   "cell_type": "markdown",
   "metadata": {},
   "source": [
    "Now combining Pclass, Prefix, and Family parameter to fill the null values of ages....."
   ]
  },
  {
   "cell_type": "code",
   "execution_count": 23,
   "metadata": {},
   "outputs": [
    {
     "data": {
      "text/html": [
       "<div>\n",
       "<style scoped>\n",
       "    .dataframe tbody tr th:only-of-type {\n",
       "        vertical-align: middle;\n",
       "    }\n",
       "\n",
       "    .dataframe tbody tr th {\n",
       "        vertical-align: top;\n",
       "    }\n",
       "\n",
       "    .dataframe thead th {\n",
       "        text-align: right;\n",
       "    }\n",
       "</style>\n",
       "<table border=\"1\" class=\"dataframe\">\n",
       "  <thead>\n",
       "    <tr style=\"text-align: right;\">\n",
       "      <th></th>\n",
       "      <th>Pclass</th>\n",
       "      <th>Prefix</th>\n",
       "      <th>Family</th>\n",
       "      <th>Age</th>\n",
       "    </tr>\n",
       "  </thead>\n",
       "  <tbody>\n",
       "    <tr>\n",
       "      <th>0</th>\n",
       "      <td>1</td>\n",
       "      <td>Master</td>\n",
       "      <td>1</td>\n",
       "      <td>4.0</td>\n",
       "    </tr>\n",
       "    <tr>\n",
       "      <th>1</th>\n",
       "      <td>1</td>\n",
       "      <td>Misc</td>\n",
       "      <td>0</td>\n",
       "      <td>39.0</td>\n",
       "    </tr>\n",
       "    <tr>\n",
       "      <th>2</th>\n",
       "      <td>1</td>\n",
       "      <td>Misc</td>\n",
       "      <td>1</td>\n",
       "      <td>49.0</td>\n",
       "    </tr>\n",
       "  </tbody>\n",
       "</table>\n",
       "</div>"
      ],
      "text/plain": [
       "   Pclass  Prefix  Family   Age\n",
       "0       1  Master       1   4.0\n",
       "1       1    Misc       0  39.0\n",
       "2       1    Misc       1  49.0"
      ]
     },
     "execution_count": 23,
     "metadata": {},
     "output_type": "execute_result"
    }
   ],
   "source": [
    "age_df = pd.DataFrame(round(titanic_copy.groupby([\"Pclass\", \"Prefix\", \"Family\"])[\"Age\"].median(), 2))\n",
    "age_df.reset_index(inplace = True)\n",
    "age_df.head(3)"
   ]
  },
  {
   "cell_type": "code",
   "execution_count": 24,
   "metadata": {},
   "outputs": [
    {
     "name": "stdout",
     "output_type": "stream",
     "text": [
      "<class 'pandas.core.frame.DataFrame'>\n",
      "RangeIndex: 891 entries, 0 to 890\n",
      "Data columns (total 13 columns):\n",
      "PassengerId    891 non-null int64\n",
      "Survived       891 non-null int64\n",
      "Pclass         891 non-null int64\n",
      "Name           891 non-null object\n",
      "Sex            891 non-null object\n",
      "Age            891 non-null float64\n",
      "SibSp          891 non-null int64\n",
      "Parch          891 non-null int64\n",
      "Ticket         891 non-null object\n",
      "Fare           891 non-null float64\n",
      "Embarked       889 non-null object\n",
      "Prefix         891 non-null object\n",
      "Family         891 non-null int64\n",
      "dtypes: float64(2), int64(6), object(5)\n",
      "memory usage: 90.6+ KB\n"
     ]
    }
   ],
   "source": [
    "#Function that will compare the conditions of age_df with titanic_copy\n",
    "def fill_age(row):\n",
    "    condition = (\n",
    "        (age_df['Pclass'] == row['Pclass']) & \n",
    "        (age_df['Prefix'] == row['Prefix']) & \n",
    "        (age_df['Family'] == row['Family'])\n",
    "    ) \n",
    "    return age_df[condition]['Age'].values[0]\n",
    "\n",
    "#Function that will fill up the null values if the conditions match for both the dataframes \n",
    "def process_age():\n",
    "    global titanic_copy\n",
    "    # a function that fills the missing values of the Age variable\n",
    "    titanic_copy['Age'] = titanic_copy.apply(lambda row: fill_age(row) if np.isnan(row['Age']) else row['Age'], axis=1)\n",
    "    return titanic_copy\n",
    "\n",
    "titanic_copy = process_age()\n",
    "titanic_copy.info()"
   ]
  },
  {
   "cell_type": "markdown",
   "metadata": {},
   "source": [
    "So from above we can see that the null values of \"Age\" column has been filled"
   ]
  },
  {
   "cell_type": "markdown",
   "metadata": {},
   "source": [
    "## Embarked........................................................................................................................................."
   ]
  },
  {
   "cell_type": "code",
   "execution_count": 25,
   "metadata": {},
   "outputs": [
    {
     "data": {
      "text/plain": [
       "<matplotlib.axes._subplots.AxesSubplot at 0x2c578a11630>"
      ]
     },
     "execution_count": 25,
     "metadata": {},
     "output_type": "execute_result"
    },
    {
     "data": {
      "image/png": "[encoded data removed]",
      "text/plain": [
       "<Figure size 576x720 with 2 Axes>"
      ]
     },
     "metadata": {
      "needs_background": "light"
     },
     "output_type": "display_data"
    }
   ],
   "source": [
    "#Identify the missing values using Heatmap\n",
    "plt.figure(figsize=(8,10))\n",
    "sns.heatmap(titanic_copy.isnull())"
   ]
  },
  {
   "cell_type": "markdown",
   "metadata": {},
   "source": [
    "Here are the 2 locations where Embark values are missing"
   ]
  },
  {
   "cell_type": "code",
   "execution_count": 26,
   "metadata": {},
   "outputs": [
    {
     "data": {
      "text/html": [
       "<div>\n",
       "<style scoped>\n",
       "    .dataframe tbody tr th:only-of-type {\n",
       "        vertical-align: middle;\n",
       "    }\n",
       "\n",
       "    .dataframe tbody tr th {\n",
       "        vertical-align: top;\n",
       "    }\n",
       "\n",
       "    .dataframe thead th {\n",
       "        text-align: right;\n",
       "    }\n",
       "</style>\n",
       "<table border=\"1\" class=\"dataframe\">\n",
       "  <thead>\n",
       "    <tr style=\"text-align: right;\">\n",
       "      <th></th>\n",
       "      <th>PassengerId</th>\n",
       "      <th>Survived</th>\n",
       "      <th>Pclass</th>\n",
       "      <th>Name</th>\n",
       "      <th>Sex</th>\n",
       "      <th>Age</th>\n",
       "      <th>SibSp</th>\n",
       "      <th>Parch</th>\n",
       "      <th>Ticket</th>\n",
       "      <th>Fare</th>\n",
       "      <th>Embarked</th>\n",
       "      <th>Prefix</th>\n",
       "      <th>Family</th>\n",
       "    </tr>\n",
       "  </thead>\n",
       "  <tbody>\n",
       "    <tr>\n",
       "      <th>61</th>\n",
       "      <td>62</td>\n",
       "      <td>1</td>\n",
       "      <td>1</td>\n",
       "      <td>Icard, Miss. Amelie</td>\n",
       "      <td>female</td>\n",
       "      <td>38.0</td>\n",
       "      <td>0</td>\n",
       "      <td>0</td>\n",
       "      <td>113572</td>\n",
       "      <td>80.0</td>\n",
       "      <td>NaN</td>\n",
       "      <td>Miss</td>\n",
       "      <td>0</td>\n",
       "    </tr>\n",
       "    <tr>\n",
       "      <th>829</th>\n",
       "      <td>830</td>\n",
       "      <td>1</td>\n",
       "      <td>1</td>\n",
       "      <td>Stone, Mrs. George Nelson (Martha Evelyn)</td>\n",
       "      <td>female</td>\n",
       "      <td>62.0</td>\n",
       "      <td>0</td>\n",
       "      <td>0</td>\n",
       "      <td>113572</td>\n",
       "      <td>80.0</td>\n",
       "      <td>NaN</td>\n",
       "      <td>Mrs</td>\n",
       "      <td>0</td>\n",
       "    </tr>\n",
       "  </tbody>\n",
       "</table>\n",
       "</div>"
      ],
      "text/plain": [
       "     PassengerId  Survived  Pclass                                       Name  \\\n",
       "61            62         1       1                        Icard, Miss. Amelie   \n",
       "829          830         1       1  Stone, Mrs. George Nelson (Martha Evelyn)   \n",
       "\n",
       "        Sex   Age  SibSp  Parch  Ticket  Fare Embarked Prefix  Family  \n",
       "61   female  38.0      0      0  113572  80.0      NaN   Miss       0  \n",
       "829  female  62.0      0      0  113572  80.0      NaN    Mrs       0  "
      ]
     },
     "execution_count": 26,
     "metadata": {},
     "output_type": "execute_result"
    }
   ],
   "source": [
    "titanic_copy.iloc[[61, 829]] #Locations where Embark values are missing"
   ]
  },
  {
   "cell_type": "code",
   "execution_count": 27,
   "metadata": {},
   "outputs": [
    {
     "data": {
      "text/plain": [
       "S    644\n",
       "C    168\n",
       "Q     77\n",
       "Name: Embarked, dtype: int64"
      ]
     },
     "execution_count": 27,
     "metadata": {},
     "output_type": "execute_result"
    }
   ],
   "source": [
    "titanic_copy[\"Embarked\"].value_counts()"
   ]
  },
  {
   "cell_type": "markdown",
   "metadata": {},
   "source": [
    "We can observe that alomst 72% of the population embarked from Southampton. Still I would try to use \"Fare\" and \"Pclass\" to see whether we can get any information from there or not"
   ]
  },
  {
   "cell_type": "code",
   "execution_count": 28,
   "metadata": {},
   "outputs": [
    {
     "name": "stdout",
     "output_type": "stream",
     "text": [
      "Embarkment S  and Pclass 1: Mean: 70.36, Median: 52.0, std: 58.81\n",
      "Embarkment C  and Pclass 1: Mean: 104.72, Median: 78.27, std: 99.09\n",
      "Embarkment Q  and Pclass 1: Mean: 90.0, Median: 90.0, std: 0.0\n"
     ]
    }
   ],
   "source": [
    "embark = [\"S\", \"C\", \"Q\"]\n",
    "c1 = titanic_copy[\"Pclass\"] == 1 \n",
    "\n",
    "for x in embark:\n",
    "    c2 = titanic_copy[\"Embarked\"] == x\n",
    "    titanic_copy[c1 & c2]\n",
    "    print(\"Embarkment {}  and Pclass 1: Mean: {}, Median: {}, std: {}\".format(x,\n",
    "                                                                round(titanic_copy[c1 & c2][\"Fare\"].mean(),2),\n",
    "                                                                round(titanic_copy[c1 & c2][\"Fare\"].median(),2),\n",
    "                                                                round(titanic_copy[c1 & c2][\"Fare\"].std(),2)))"
   ]
  },
  {
   "cell_type": "markdown",
   "metadata": {},
   "source": [
    "\"Q\" seems to be promising with closer fare price to 80 and no standard deviation so let's see how did that become possible"
   ]
  },
  {
   "cell_type": "code",
   "execution_count": 29,
   "metadata": {},
   "outputs": [
    {
     "data": {
      "text/plain": [
       "3    72\n",
       "2     3\n",
       "1     2\n",
       "Name: Pclass, dtype: int64"
      ]
     },
     "execution_count": 29,
     "metadata": {},
     "output_type": "execute_result"
    }
   ],
   "source": [
    "titanic_copy[titanic_copy[\"Embarked\"]==\"Q\"][\"Pclass\"].value_counts()"
   ]
  },
  {
   "cell_type": "markdown",
   "metadata": {},
   "source": [
    "There are just two people who embarked from Queenstown so the data is not large enough to predict enough. Therefore, I will replace the null values with \"S\" as it has the lowest standard deviation in its values, as well as more data points, and close value to 80 as well"
   ]
  },
  {
   "cell_type": "code",
   "execution_count": 30,
   "metadata": {},
   "outputs": [
    {
     "name": "stdout",
     "output_type": "stream",
     "text": [
      "<class 'pandas.core.frame.DataFrame'>\n",
      "RangeIndex: 891 entries, 0 to 890\n",
      "Data columns (total 13 columns):\n",
      "PassengerId    891 non-null int64\n",
      "Survived       891 non-null int64\n",
      "Pclass         891 non-null int64\n",
      "Name           891 non-null object\n",
      "Sex            891 non-null object\n",
      "Age            891 non-null float64\n",
      "SibSp          891 non-null int64\n",
      "Parch          891 non-null int64\n",
      "Ticket         891 non-null object\n",
      "Fare           891 non-null float64\n",
      "Embarked       891 non-null object\n",
      "Prefix         891 non-null object\n",
      "Family         891 non-null int64\n",
      "dtypes: float64(2), int64(6), object(5)\n",
      "memory usage: 90.6+ KB\n"
     ]
    }
   ],
   "source": [
    "titanic_copy.iloc[[61, 829], 10] = \"S\"\n",
    "titanic_copy.info()"
   ]
  },
  {
   "cell_type": "markdown",
   "metadata": {},
   "source": [
    "So there is no null values exist in the dataframe anymore"
   ]
  },
  {
   "cell_type": "code",
   "execution_count": 31,
   "metadata": {},
   "outputs": [
    {
     "data": {
      "image/png": "[encoded data removed]",
      "text/plain": [
       "<Figure size 432x288 with 1 Axes>"
      ]
     },
     "metadata": {
      "needs_background": "light"
     },
     "output_type": "display_data"
    }
   ],
   "source": [
    "ax = sns.countplot(x = \"Embarked\", data = titanic_copy, hue = \"Survived\")\n",
    "\n",
    "for p in ax.patches:\n",
    "        ax.annotate('{:.1f}'.format(p.get_height()), (p.get_x()+0.1, p.get_height()+0.2))"
   ]
  },
  {
   "cell_type": "markdown",
   "metadata": {},
   "source": [
    "66% of the people who Embarked from \"S\" died. Logically Embarking should not affect the death rate but statistically it can"
   ]
  },
  {
   "cell_type": "code",
   "execution_count": 32,
   "metadata": {},
   "outputs": [
    {
     "data": {
      "image/png": "[encoded data removed]",
      "text/plain": [
       "<Figure size 432x288 with 1 Axes>"
      ]
     },
     "metadata": {
      "needs_background": "light"
     },
     "output_type": "display_data"
    }
   ],
   "source": [
    "ax = sns.countplot(x = \"Embarked\", data = titanic_copy, hue = \"Pclass\")\n",
    "\n",
    "for p in ax.patches:\n",
    "        ax.annotate('{:.1f}'.format(p.get_height()), (p.get_x()+0.1, p.get_height()+0.2))"
   ]
  },
  {
   "cell_type": "markdown",
   "metadata": {},
   "source": [
    "Passangers who are travelling in Class 3 have embarked from all the stations                                                   \n",
    "Very few people embarked from Queenstown in class 1 and 2              \n",
    "People who embarked from Cherbourg travelled in class 1 and 3            \n",
    "Ultimately, there is no specific trend that I can see in this data"
   ]
  },
  {
   "cell_type": "code",
   "execution_count": 33,
   "metadata": {},
   "outputs": [
    {
     "data": {
      "text/plain": [
       "<seaborn.axisgrid.FacetGrid at 0x2c578d23898>"
      ]
     },
     "execution_count": 33,
     "metadata": {},
     "output_type": "execute_result"
    },
    {
     "data": {
      "image/png": "[encoded data removed]",
      "text/plain": [
       "<Figure size 1354.62x432 with 1 Axes>"
      ]
     },
     "metadata": {
      "needs_background": "light"
     },
     "output_type": "display_data"
    }
   ],
   "source": [
    "plott = sns.FacetGrid(titanic_copy, hue = \"Embarked\", aspect = 3, height = 6)\n",
    "plott.map(sns.kdeplot, \"Fare\", shade = True)\n",
    "plott.add_legend()"
   ]
  },
  {
   "cell_type": "markdown",
   "metadata": {},
   "source": [
    "Similarly people have paid wide range of Fares who embarked from various stations"
   ]
  },
  {
   "cell_type": "code",
   "execution_count": 34,
   "metadata": {},
   "outputs": [
    {
     "data": {
      "text/plain": [
       "<seaborn.axisgrid.FacetGrid at 0x2c578ce7668>"
      ]
     },
     "execution_count": 34,
     "metadata": {},
     "output_type": "execute_result"
    },
    {
     "data": {
      "image/png": "[encoded data removed]",
      "text/plain": [
       "<Figure size 402.375x360 with 1 Axes>"
      ]
     },
     "metadata": {
      "needs_background": "light"
     },
     "output_type": "display_data"
    }
   ],
   "source": [
    "sns.catplot(x = \"Embarked\", y = \"Survived\", data = titanic_copy, hue = \"Pclass\", kind=\"point\")"
   ]
  },
  {
   "cell_type": "markdown",
   "metadata": {},
   "source": [
    "Neither the trend is clear in the plot above. So I decided not to consider \"Embark\" parameter"
   ]
  },
  {
   "cell_type": "markdown",
   "metadata": {},
   "source": [
    "## Ticket..........................................................................................................................................."
   ]
  },
  {
   "cell_type": "code",
   "execution_count": 35,
   "metadata": {},
   "outputs": [
    {
     "data": {
      "text/plain": [
       "681"
      ]
     },
     "execution_count": 35,
     "metadata": {},
     "output_type": "execute_result"
    }
   ],
   "source": [
    "titanic_copy[\"Ticket\"].nunique()"
   ]
  },
  {
   "cell_type": "markdown",
   "metadata": {},
   "source": [
    "There are 681 unique tickets have been distributed"
   ]
  },
  {
   "cell_type": "code",
   "execution_count": 36,
   "metadata": {},
   "outputs": [
    {
     "data": {
      "text/html": [
       "<div>\n",
       "<style scoped>\n",
       "    .dataframe tbody tr th:only-of-type {\n",
       "        vertical-align: middle;\n",
       "    }\n",
       "\n",
       "    .dataframe tbody tr th {\n",
       "        vertical-align: top;\n",
       "    }\n",
       "\n",
       "    .dataframe thead th {\n",
       "        text-align: right;\n",
       "    }\n",
       "</style>\n",
       "<table border=\"1\" class=\"dataframe\">\n",
       "  <thead>\n",
       "    <tr style=\"text-align: right;\">\n",
       "      <th></th>\n",
       "      <th>PassengerId</th>\n",
       "      <th>Survived</th>\n",
       "      <th>Pclass</th>\n",
       "      <th>Name</th>\n",
       "      <th>Sex</th>\n",
       "      <th>Age</th>\n",
       "      <th>SibSp</th>\n",
       "      <th>Parch</th>\n",
       "      <th>Ticket</th>\n",
       "      <th>Fare</th>\n",
       "      <th>Embarked</th>\n",
       "      <th>Prefix</th>\n",
       "      <th>Family</th>\n",
       "    </tr>\n",
       "  </thead>\n",
       "  <tbody>\n",
       "    <tr>\n",
       "      <th>159</th>\n",
       "      <td>160</td>\n",
       "      <td>0</td>\n",
       "      <td>3</td>\n",
       "      <td>Sage, Master. Thomas Henry</td>\n",
       "      <td>male</td>\n",
       "      <td>4.0</td>\n",
       "      <td>8</td>\n",
       "      <td>2</td>\n",
       "      <td>CA. 2343</td>\n",
       "      <td>69.55</td>\n",
       "      <td>S</td>\n",
       "      <td>Master</td>\n",
       "      <td>1</td>\n",
       "    </tr>\n",
       "    <tr>\n",
       "      <th>180</th>\n",
       "      <td>181</td>\n",
       "      <td>0</td>\n",
       "      <td>3</td>\n",
       "      <td>Sage, Miss. Constance Gladys</td>\n",
       "      <td>female</td>\n",
       "      <td>9.0</td>\n",
       "      <td>8</td>\n",
       "      <td>2</td>\n",
       "      <td>CA. 2343</td>\n",
       "      <td>69.55</td>\n",
       "      <td>S</td>\n",
       "      <td>Miss</td>\n",
       "      <td>1</td>\n",
       "    </tr>\n",
       "    <tr>\n",
       "      <th>201</th>\n",
       "      <td>202</td>\n",
       "      <td>0</td>\n",
       "      <td>3</td>\n",
       "      <td>Sage, Mr. Frederick</td>\n",
       "      <td>male</td>\n",
       "      <td>26.0</td>\n",
       "      <td>8</td>\n",
       "      <td>2</td>\n",
       "      <td>CA. 2343</td>\n",
       "      <td>69.55</td>\n",
       "      <td>S</td>\n",
       "      <td>Mr</td>\n",
       "      <td>1</td>\n",
       "    </tr>\n",
       "    <tr>\n",
       "      <th>324</th>\n",
       "      <td>325</td>\n",
       "      <td>0</td>\n",
       "      <td>3</td>\n",
       "      <td>Sage, Mr. George John Jr</td>\n",
       "      <td>male</td>\n",
       "      <td>26.0</td>\n",
       "      <td>8</td>\n",
       "      <td>2</td>\n",
       "      <td>CA. 2343</td>\n",
       "      <td>69.55</td>\n",
       "      <td>S</td>\n",
       "      <td>Mr</td>\n",
       "      <td>1</td>\n",
       "    </tr>\n",
       "    <tr>\n",
       "      <th>792</th>\n",
       "      <td>793</td>\n",
       "      <td>0</td>\n",
       "      <td>3</td>\n",
       "      <td>Sage, Miss. Stella Anna</td>\n",
       "      <td>female</td>\n",
       "      <td>9.0</td>\n",
       "      <td>8</td>\n",
       "      <td>2</td>\n",
       "      <td>CA. 2343</td>\n",
       "      <td>69.55</td>\n",
       "      <td>S</td>\n",
       "      <td>Miss</td>\n",
       "      <td>1</td>\n",
       "    </tr>\n",
       "    <tr>\n",
       "      <th>846</th>\n",
       "      <td>847</td>\n",
       "      <td>0</td>\n",
       "      <td>3</td>\n",
       "      <td>Sage, Mr. Douglas Bullen</td>\n",
       "      <td>male</td>\n",
       "      <td>26.0</td>\n",
       "      <td>8</td>\n",
       "      <td>2</td>\n",
       "      <td>CA. 2343</td>\n",
       "      <td>69.55</td>\n",
       "      <td>S</td>\n",
       "      <td>Mr</td>\n",
       "      <td>1</td>\n",
       "    </tr>\n",
       "    <tr>\n",
       "      <th>863</th>\n",
       "      <td>864</td>\n",
       "      <td>0</td>\n",
       "      <td>3</td>\n",
       "      <td>Sage, Miss. Dorothy Edith \"Dolly\"</td>\n",
       "      <td>female</td>\n",
       "      <td>9.0</td>\n",
       "      <td>8</td>\n",
       "      <td>2</td>\n",
       "      <td>CA. 2343</td>\n",
       "      <td>69.55</td>\n",
       "      <td>S</td>\n",
       "      <td>Miss</td>\n",
       "      <td>1</td>\n",
       "    </tr>\n",
       "  </tbody>\n",
       "</table>\n",
       "</div>"
      ],
      "text/plain": [
       "     PassengerId  Survived  Pclass                               Name     Sex  \\\n",
       "159          160         0       3         Sage, Master. Thomas Henry    male   \n",
       "180          181         0       3       Sage, Miss. Constance Gladys  female   \n",
       "201          202         0       3                Sage, Mr. Frederick    male   \n",
       "324          325         0       3           Sage, Mr. George John Jr    male   \n",
       "792          793         0       3            Sage, Miss. Stella Anna  female   \n",
       "846          847         0       3           Sage, Mr. Douglas Bullen    male   \n",
       "863          864         0       3  Sage, Miss. Dorothy Edith \"Dolly\"  female   \n",
       "\n",
       "      Age  SibSp  Parch    Ticket   Fare Embarked  Prefix  Family  \n",
       "159   4.0      8      2  CA. 2343  69.55        S  Master       1  \n",
       "180   9.0      8      2  CA. 2343  69.55        S    Miss       1  \n",
       "201  26.0      8      2  CA. 2343  69.55        S      Mr       1  \n",
       "324  26.0      8      2  CA. 2343  69.55        S      Mr       1  \n",
       "792   9.0      8      2  CA. 2343  69.55        S    Miss       1  \n",
       "846  26.0      8      2  CA. 2343  69.55        S      Mr       1  \n",
       "863   9.0      8      2  CA. 2343  69.55        S    Miss       1  "
      ]
     },
     "execution_count": 36,
     "metadata": {},
     "output_type": "execute_result"
    }
   ],
   "source": [
    "titanic_copy[titanic_copy[\"Ticket\"] == \"CA. 2343\"]"
   ]
  },
  {
   "cell_type": "markdown",
   "metadata": {},
   "source": [
    "It is the whole Family and everyone died"
   ]
  },
  {
   "cell_type": "code",
   "execution_count": 37,
   "metadata": {},
   "outputs": [
    {
     "data": {
      "text/html": [
       "<div>\n",
       "<style scoped>\n",
       "    .dataframe tbody tr th:only-of-type {\n",
       "        vertical-align: middle;\n",
       "    }\n",
       "\n",
       "    .dataframe tbody tr th {\n",
       "        vertical-align: top;\n",
       "    }\n",
       "\n",
       "    .dataframe thead th {\n",
       "        text-align: right;\n",
       "    }\n",
       "</style>\n",
       "<table border=\"1\" class=\"dataframe\">\n",
       "  <thead>\n",
       "    <tr style=\"text-align: right;\">\n",
       "      <th></th>\n",
       "      <th>PassengerId</th>\n",
       "      <th>Survived</th>\n",
       "      <th>Pclass</th>\n",
       "      <th>Name</th>\n",
       "      <th>Sex</th>\n",
       "      <th>Age</th>\n",
       "      <th>SibSp</th>\n",
       "      <th>Parch</th>\n",
       "      <th>Ticket</th>\n",
       "      <th>Fare</th>\n",
       "      <th>Embarked</th>\n",
       "      <th>Prefix</th>\n",
       "      <th>Family</th>\n",
       "    </tr>\n",
       "  </thead>\n",
       "  <tbody>\n",
       "    <tr>\n",
       "      <th>179</th>\n",
       "      <td>180</td>\n",
       "      <td>0</td>\n",
       "      <td>3</td>\n",
       "      <td>Leonard, Mr. Lionel</td>\n",
       "      <td>male</td>\n",
       "      <td>36.0</td>\n",
       "      <td>0</td>\n",
       "      <td>0</td>\n",
       "      <td>LINE</td>\n",
       "      <td>0.0</td>\n",
       "      <td>S</td>\n",
       "      <td>Mr</td>\n",
       "      <td>0</td>\n",
       "    </tr>\n",
       "    <tr>\n",
       "      <th>271</th>\n",
       "      <td>272</td>\n",
       "      <td>1</td>\n",
       "      <td>3</td>\n",
       "      <td>Tornquist, Mr. William Henry</td>\n",
       "      <td>male</td>\n",
       "      <td>25.0</td>\n",
       "      <td>0</td>\n",
       "      <td>0</td>\n",
       "      <td>LINE</td>\n",
       "      <td>0.0</td>\n",
       "      <td>S</td>\n",
       "      <td>Mr</td>\n",
       "      <td>0</td>\n",
       "    </tr>\n",
       "    <tr>\n",
       "      <th>302</th>\n",
       "      <td>303</td>\n",
       "      <td>0</td>\n",
       "      <td>3</td>\n",
       "      <td>Johnson, Mr. William Cahoone Jr</td>\n",
       "      <td>male</td>\n",
       "      <td>19.0</td>\n",
       "      <td>0</td>\n",
       "      <td>0</td>\n",
       "      <td>LINE</td>\n",
       "      <td>0.0</td>\n",
       "      <td>S</td>\n",
       "      <td>Mr</td>\n",
       "      <td>0</td>\n",
       "    </tr>\n",
       "    <tr>\n",
       "      <th>597</th>\n",
       "      <td>598</td>\n",
       "      <td>0</td>\n",
       "      <td>3</td>\n",
       "      <td>Johnson, Mr. Alfred</td>\n",
       "      <td>male</td>\n",
       "      <td>49.0</td>\n",
       "      <td>0</td>\n",
       "      <td>0</td>\n",
       "      <td>LINE</td>\n",
       "      <td>0.0</td>\n",
       "      <td>S</td>\n",
       "      <td>Mr</td>\n",
       "      <td>0</td>\n",
       "    </tr>\n",
       "  </tbody>\n",
       "</table>\n",
       "</div>"
      ],
      "text/plain": [
       "     PassengerId  Survived  Pclass                             Name   Sex  \\\n",
       "179          180         0       3              Leonard, Mr. Lionel  male   \n",
       "271          272         1       3     Tornquist, Mr. William Henry  male   \n",
       "302          303         0       3  Johnson, Mr. William Cahoone Jr  male   \n",
       "597          598         0       3              Johnson, Mr. Alfred  male   \n",
       "\n",
       "      Age  SibSp  Parch Ticket  Fare Embarked Prefix  Family  \n",
       "179  36.0      0      0   LINE   0.0        S     Mr       0  \n",
       "271  25.0      0      0   LINE   0.0        S     Mr       0  \n",
       "302  19.0      0      0   LINE   0.0        S     Mr       0  \n",
       "597  49.0      0      0   LINE   0.0        S     Mr       0  "
      ]
     },
     "execution_count": 37,
     "metadata": {},
     "output_type": "execute_result"
    }
   ],
   "source": [
    "titanic_copy[titanic_copy[\"Ticket\"] == \"LINE\"]"
   ]
  },
  {
   "cell_type": "markdown",
   "metadata": {},
   "source": [
    "All these people are travelling alone. One of them survived"
   ]
  },
  {
   "cell_type": "code",
   "execution_count": 38,
   "metadata": {},
   "outputs": [
    {
     "data": {
      "text/html": [
       "<div>\n",
       "<style scoped>\n",
       "    .dataframe tbody tr th:only-of-type {\n",
       "        vertical-align: middle;\n",
       "    }\n",
       "\n",
       "    .dataframe tbody tr th {\n",
       "        vertical-align: top;\n",
       "    }\n",
       "\n",
       "    .dataframe thead th {\n",
       "        text-align: right;\n",
       "    }\n",
       "</style>\n",
       "<table border=\"1\" class=\"dataframe\">\n",
       "  <thead>\n",
       "    <tr style=\"text-align: right;\">\n",
       "      <th></th>\n",
       "      <th>PassengerId</th>\n",
       "      <th>Survived</th>\n",
       "      <th>Pclass</th>\n",
       "      <th>Name</th>\n",
       "      <th>Sex</th>\n",
       "      <th>Age</th>\n",
       "      <th>SibSp</th>\n",
       "      <th>Parch</th>\n",
       "      <th>Ticket</th>\n",
       "      <th>Fare</th>\n",
       "      <th>Embarked</th>\n",
       "      <th>Prefix</th>\n",
       "      <th>Family</th>\n",
       "    </tr>\n",
       "  </thead>\n",
       "  <tbody>\n",
       "    <tr>\n",
       "      <th>25</th>\n",
       "      <td>26</td>\n",
       "      <td>1</td>\n",
       "      <td>3</td>\n",
       "      <td>Asplund, Mrs. Carl Oscar (Selma Augusta Emilia...</td>\n",
       "      <td>female</td>\n",
       "      <td>38.0</td>\n",
       "      <td>1</td>\n",
       "      <td>5</td>\n",
       "      <td>347077</td>\n",
       "      <td>31.3875</td>\n",
       "      <td>S</td>\n",
       "      <td>Mrs</td>\n",
       "      <td>1</td>\n",
       "    </tr>\n",
       "    <tr>\n",
       "      <th>182</th>\n",
       "      <td>183</td>\n",
       "      <td>0</td>\n",
       "      <td>3</td>\n",
       "      <td>Asplund, Master. Clarence Gustaf Hugo</td>\n",
       "      <td>male</td>\n",
       "      <td>9.0</td>\n",
       "      <td>4</td>\n",
       "      <td>2</td>\n",
       "      <td>347077</td>\n",
       "      <td>31.3875</td>\n",
       "      <td>S</td>\n",
       "      <td>Master</td>\n",
       "      <td>1</td>\n",
       "    </tr>\n",
       "    <tr>\n",
       "      <th>233</th>\n",
       "      <td>234</td>\n",
       "      <td>1</td>\n",
       "      <td>3</td>\n",
       "      <td>Asplund, Miss. Lillian Gertrud</td>\n",
       "      <td>female</td>\n",
       "      <td>5.0</td>\n",
       "      <td>4</td>\n",
       "      <td>2</td>\n",
       "      <td>347077</td>\n",
       "      <td>31.3875</td>\n",
       "      <td>S</td>\n",
       "      <td>Miss</td>\n",
       "      <td>1</td>\n",
       "    </tr>\n",
       "    <tr>\n",
       "      <th>261</th>\n",
       "      <td>262</td>\n",
       "      <td>1</td>\n",
       "      <td>3</td>\n",
       "      <td>Asplund, Master. Edvin Rojj Felix</td>\n",
       "      <td>male</td>\n",
       "      <td>3.0</td>\n",
       "      <td>4</td>\n",
       "      <td>2</td>\n",
       "      <td>347077</td>\n",
       "      <td>31.3875</td>\n",
       "      <td>S</td>\n",
       "      <td>Master</td>\n",
       "      <td>1</td>\n",
       "    </tr>\n",
       "  </tbody>\n",
       "</table>\n",
       "</div>"
      ],
      "text/plain": [
       "     PassengerId  Survived  Pclass  \\\n",
       "25            26         1       3   \n",
       "182          183         0       3   \n",
       "233          234         1       3   \n",
       "261          262         1       3   \n",
       "\n",
       "                                                  Name     Sex   Age  SibSp  \\\n",
       "25   Asplund, Mrs. Carl Oscar (Selma Augusta Emilia...  female  38.0      1   \n",
       "182              Asplund, Master. Clarence Gustaf Hugo    male   9.0      4   \n",
       "233                     Asplund, Miss. Lillian Gertrud  female   5.0      4   \n",
       "261                  Asplund, Master. Edvin Rojj Felix    male   3.0      4   \n",
       "\n",
       "     Parch  Ticket     Fare Embarked  Prefix  Family  \n",
       "25       5  347077  31.3875        S     Mrs       1  \n",
       "182      2  347077  31.3875        S  Master       1  \n",
       "233      2  347077  31.3875        S    Miss       1  \n",
       "261      2  347077  31.3875        S  Master       1  "
      ]
     },
     "execution_count": 38,
     "metadata": {},
     "output_type": "execute_result"
    }
   ],
   "source": [
    "titanic_copy[titanic_copy[\"Ticket\"] == \"347077\"]"
   ]
  },
  {
   "cell_type": "markdown",
   "metadata": {},
   "source": [
    "Seems to be one family. Every one survived except one male kid. There is no correlation in these 3 examples of the ticket analysis"
   ]
  },
  {
   "cell_type": "markdown",
   "metadata": {},
   "source": [
    "After thoroughly analysing the data and checking the records for different ticket numbers I found that there is no specific correlation that can be established which can eventually help to predict the Survival/death of the passanger. So I will not consider the Ticket parameter in the future as well"
   ]
  },
  {
   "cell_type": "markdown",
   "metadata": {},
   "source": [
    "## Fare............................................................................................................................................"
   ]
  },
  {
   "cell_type": "code",
   "execution_count": 39,
   "metadata": {},
   "outputs": [
    {
     "name": "stdout",
     "output_type": "stream",
     "text": [
      "Pclass 1- Mean: 84.15, Median: 60.29, Std: 78.38\n",
      "Pclass 2- Mean: 20.66, Median: 14.25, Std: 13.42\n",
      "Pclass 3- Mean: 13.68, Median: 8.05, Std: 11.78\n"
     ]
    },
    {
     "data": {
      "text/plain": [
       "<seaborn.axisgrid.FacetGrid at 0x2c578ca2a90>"
      ]
     },
     "execution_count": 39,
     "metadata": {},
     "output_type": "execute_result"
    },
    {
     "data": {
      "image/png": "[encoded data removed]",
      "text/plain": [
       "<Figure size 762.375x360 with 1 Axes>"
      ]
     },
     "metadata": {
      "needs_background": "light"
     },
     "output_type": "display_data"
    }
   ],
   "source": [
    "pclass = [1,2,3]\n",
    "\n",
    "for x in pclass:\n",
    "    print(\"Pclass {}- Mean: {}, Median: {}, Std: {}\".format(x,\n",
    "                                                        round(titanic_copy[titanic_copy[\"Pclass\"] == x][\"Fare\"].mean(),2),\n",
    "                                                        round(titanic_copy[titanic_copy[\"Pclass\"] == x][\"Fare\"].median(),2),\n",
    "                                                        round(titanic_copy[titanic_copy[\"Pclass\"] == x][\"Fare\"].std(),2)))\n",
    "    \n",
    "figure = sns.FacetGrid(titanic_copy, hue = \"Pclass\", aspect=2, height =5)\n",
    "figure.map(sns.kdeplot, \"Fare\", shade = True)\n",
    "figure.add_legend()"
   ]
  },
  {
   "cell_type": "markdown",
   "metadata": {},
   "source": [
    "Although Fare is little wide spread, it is clear from the values above that Fare is directly proportional to the Passanger class which is significantly related to survival/death of the passanger"
   ]
  },
  {
   "cell_type": "code",
   "execution_count": 40,
   "metadata": {},
   "outputs": [
    {
     "name": "stdout",
     "output_type": "stream",
     "text": [
      "Survived 0- Mean: 22.12, Median: 10.5, Std: 31.39\n",
      "Survived 1- Mean: 48.4, Median: 26.0, Std: 66.6\n"
     ]
    },
    {
     "data": {
      "text/plain": [
       "<seaborn.axisgrid.FacetGrid at 0x2c5782ecfd0>"
      ]
     },
     "execution_count": 40,
     "metadata": {},
     "output_type": "execute_result"
    },
    {
     "data": {
      "image/png": "[encoded data removed]",
      "text/plain": [
       "<Figure size 771.875x360 with 1 Axes>"
      ]
     },
     "metadata": {
      "needs_background": "light"
     },
     "output_type": "display_data"
    }
   ],
   "source": [
    "survival = [0,1]\n",
    "\n",
    "for x in survival:\n",
    "    print(\"Survived {}- Mean: {}, Median: {}, Std: {}\".format(x,\n",
    "                                                        round(titanic_copy[titanic_copy[\"Survived\"] == x][\"Fare\"].mean(),2),\n",
    "                                                        round(titanic_copy[titanic_copy[\"Survived\"] == x][\"Fare\"].median(),2),\n",
    "                                                        round(titanic_copy[titanic_copy[\"Survived\"] == x][\"Fare\"].std(),2)))\n",
    "    \n",
    "figure = sns.FacetGrid(titanic_copy, hue = \"Survived\", aspect=2, height =5)\n",
    "figure.map(sns.kdeplot, \"Fare\", shade = True)\n",
    "figure.add_legend()"
   ]
  },
  {
   "cell_type": "markdown",
   "metadata": {},
   "source": [
    "Even it is statistically correlated with survival and death of the passanger. This plot simply suggest that paying more fare will lead you to your survival"
   ]
  },
  {
   "cell_type": "markdown",
   "metadata": {},
   "source": [
    "I analysed this more to see how it affects the death/survival of the passanger. I used median values [60.29, 24.25, and 8.05] which we got above when analysing the data based on \"Pclass\""
   ]
  },
  {
   "cell_type": "code",
   "execution_count": 41,
   "metadata": {},
   "outputs": [
    {
     "data": {
      "image/png": "[encoded data removed]",
      "text/plain": [
       "<Figure size 1080x360 with 2 Axes>"
      ]
     },
     "metadata": {
      "needs_background": "light"
     },
     "output_type": "display_data"
    }
   ],
   "source": [
    "fig, ax = plt.subplots(1,2, figsize = (15,5))\n",
    "sns.countplot(x = \"Pclass\", data = titanic_copy[titanic_copy[\"Fare\"] <= 8.05], hue = \"Survived\", ax = ax[0])\n",
    "sns.countplot(x = \"Survived\", data = titanic_copy[titanic_copy[\"Fare\"] <= 8.05], ax = ax[1])\n",
    "\n",
    "for p in ax[0].patches:\n",
    "        ax[0].annotate('{:.1f}'.format(p.get_height()), (p.get_x()+0.1, p.get_height()+0.2))\n",
    "        \n",
    "for p in ax[1].patches:\n",
    "        ax[1].annotate('{:.1f}'.format(p.get_height()), (p.get_x()+0.1, p.get_height()+0.2))\n",
    "        \n"
   ]
  },
  {
   "cell_type": "markdown",
   "metadata": {},
   "source": [
    "Almost half of the people (~56%) travelling in Pclass 3 (Total 491) have bought the tickets which cost 8.05 or less and 79% of them died. 100% death rate for travelling in Pclass 1 and 2 with cheap tickets \n",
    "\n",
    "The overall death rate is 79.6% when buying the tickets costing 8.05 or less"
   ]
  },
  {
   "cell_type": "code",
   "execution_count": 42,
   "metadata": {},
   "outputs": [
    {
     "data": {
      "image/png": "[encoded data removed]",
      "text/plain": [
       "<Figure size 1080x360 with 2 Axes>"
      ]
     },
     "metadata": {
      "needs_background": "light"
     },
     "output_type": "display_data"
    }
   ],
   "source": [
    "c1 = titanic_copy[\"Fare\"] > 8.05\n",
    "c2 = titanic_copy[\"Fare\"] <= 14.25\n",
    "\n",
    "fig, ax = plt.subplots(1,2, figsize = (15,5))\n",
    "\n",
    "sns.countplot(x = \"Pclass\", data = titanic_copy[c1 & c2], hue = \"Survived\", ax = ax[0])\n",
    "sns.countplot(x = \"Survived\", data = titanic_copy[c1 & c2], ax = ax[1])\n",
    "\n",
    "for p in ax[0].patches:\n",
    "        ax[0].annotate('{:.1f}'.format(p.get_height()), (p.get_x()+0.1, p.get_height()+0.2))\n",
    "\n",
    "for p in ax[1].patches:\n",
    "        ax[1].annotate('{:.1f}'.format(p.get_height()), (p.get_x()+0.1, p.get_height()+0.2))"
   ]
  },
  {
   "cell_type": "markdown",
   "metadata": {},
   "source": [
    "There is no passanger from Pclass 1 over here                                                                               \n",
    "Almost half of the Pclass 2 is here (47.8%) (86 out of 184)                                                                      \n",
    "Death rate is 70% for Pclass 3 and 64% for Pclass 2. If we see the overall death rate than it is 65%"
   ]
  },
  {
   "cell_type": "code",
   "execution_count": 43,
   "metadata": {},
   "outputs": [
    {
     "data": {
      "image/png": "[encoded data removed]",
      "text/plain": [
       "<Figure size 1080x360 with 2 Axes>"
      ]
     },
     "metadata": {
      "needs_background": "light"
     },
     "output_type": "display_data"
    }
   ],
   "source": [
    "c1 = titanic_copy[\"Fare\"] > 14.25\n",
    "c2 = titanic_copy[\"Fare\"] <= 60.29\n",
    "\n",
    "fig, ax = plt.subplots(1,2, figsize = (15,5))\n",
    "\n",
    "sns.countplot(x = \"Pclass\", data = titanic_copy[c1 & c2], hue = \"Survived\", ax = ax[0])\n",
    "sns.countplot(x = \"Survived\", data = titanic_copy[c1 & c2], ax = ax[1])\n",
    "\n",
    "for p in ax[0].patches:\n",
    "        ax[0].annotate('{:.1f}'.format(p.get_height()), (p.get_x()+0.1, p.get_height()+0.2))\n",
    "\n",
    "for p in ax[1].patches:\n",
    "        ax[1].annotate('{:.1f}'.format(p.get_height()), (p.get_x()+0.1, p.get_height()+0.2))"
   ]
  },
  {
   "cell_type": "markdown",
   "metadata": {},
   "source": [
    "We can see all the different passanger classes over here. The death rate is still higher in Pclass 3. 71.5% of the people of Pclass 3 died whereas for the other two classes survival rate is higher than the death rate. If we see the overall death rate than it is 55%"
   ]
  },
  {
   "cell_type": "code",
   "execution_count": 44,
   "metadata": {},
   "outputs": [
    {
     "data": {
      "image/png": "[encoded data removed]",
      "text/plain": [
       "<Figure size 1080x360 with 2 Axes>"
      ]
     },
     "metadata": {
      "needs_background": "light"
     },
     "output_type": "display_data"
    }
   ],
   "source": [
    "fig, ax = plt.subplots(1,2, figsize = (15,5))\n",
    "\n",
    "sns.countplot(x = \"Pclass\", data = titanic_copy[titanic_copy[\"Fare\"] > 60.29], hue = \"Survived\", ax = ax[0])\n",
    "sns.countplot(x = \"Survived\", data = titanic_copy[titanic_copy[\"Fare\"] > 60.29 ], ax = ax[1])\n",
    "\n",
    "for p in ax[0].patches:\n",
    "        ax[0].annotate('{:.1f}'.format(p.get_height()), (p.get_x()+0.1, p.get_height()+0.2))\n",
    "\n",
    "for p in ax[1].patches:\n",
    "        ax[1].annotate('{:.1f}'.format(p.get_height()), (p.get_x()+0.1, p.get_height()+0.2))"
   ]
  },
  {
   "cell_type": "markdown",
   "metadata": {},
   "source": [
    "With the most expensve tickets people travelling in Pclass 1 and therefore there survival chances are 74%. There are very few passangers from Pclass 2 and Pclass 3. But again Pclass 3 has the highest death rate that is 100%. Overall death rate is 32.8%"
   ]
  },
  {
   "cell_type": "markdown",
   "metadata": {},
   "source": [
    "Two things get crystal clear from all the plots above that                                                                     \n",
    "1) As the Fare increased the death rate decreased                                                                               \n",
    "2) Fare is definitely greatly correlated with Passanger Class"
   ]
  },
  {
   "cell_type": "markdown",
   "metadata": {},
   "source": [
    "Creating Fare bins based on the analysis above"
   ]
  },
  {
   "cell_type": "code",
   "execution_count": 45,
   "metadata": {},
   "outputs": [],
   "source": [
    "#All the values which used here are based on the median values of \"Fare\" for different \"Pclass\"\n",
    "def fare_bin(fare):\n",
    "    \n",
    "    if fare <= 8.05:\n",
    "        return \"bin1\"\n",
    "    elif fare > 8.05 and fare <= 14.25:\n",
    "        return \"bin2\"\n",
    "    elif fare > 14.25 and fare <= 60.29:\n",
    "        return \"bin3\"\n",
    "    else:\n",
    "        return \"bin4\""
   ]
  },
  {
   "cell_type": "code",
   "execution_count": 46,
   "metadata": {},
   "outputs": [
    {
     "data": {
      "text/html": [
       "<div>\n",
       "<style scoped>\n",
       "    .dataframe tbody tr th:only-of-type {\n",
       "        vertical-align: middle;\n",
       "    }\n",
       "\n",
       "    .dataframe tbody tr th {\n",
       "        vertical-align: top;\n",
       "    }\n",
       "\n",
       "    .dataframe thead th {\n",
       "        text-align: right;\n",
       "    }\n",
       "</style>\n",
       "<table border=\"1\" class=\"dataframe\">\n",
       "  <thead>\n",
       "    <tr style=\"text-align: right;\">\n",
       "      <th></th>\n",
       "      <th>PassengerId</th>\n",
       "      <th>Survived</th>\n",
       "      <th>Pclass</th>\n",
       "      <th>Name</th>\n",
       "      <th>Sex</th>\n",
       "      <th>Age</th>\n",
       "      <th>SibSp</th>\n",
       "      <th>Parch</th>\n",
       "      <th>Ticket</th>\n",
       "      <th>Fare</th>\n",
       "      <th>Embarked</th>\n",
       "      <th>Prefix</th>\n",
       "      <th>Family</th>\n",
       "      <th>fare_bin</th>\n",
       "    </tr>\n",
       "  </thead>\n",
       "  <tbody>\n",
       "    <tr>\n",
       "      <th>0</th>\n",
       "      <td>1</td>\n",
       "      <td>0</td>\n",
       "      <td>3</td>\n",
       "      <td>Braund, Mr. Owen Harris</td>\n",
       "      <td>male</td>\n",
       "      <td>22.0</td>\n",
       "      <td>1</td>\n",
       "      <td>0</td>\n",
       "      <td>A/5 21171</td>\n",
       "      <td>7.2500</td>\n",
       "      <td>S</td>\n",
       "      <td>Mr</td>\n",
       "      <td>1</td>\n",
       "      <td>bin1</td>\n",
       "    </tr>\n",
       "    <tr>\n",
       "      <th>1</th>\n",
       "      <td>2</td>\n",
       "      <td>1</td>\n",
       "      <td>1</td>\n",
       "      <td>Cumings, Mrs. John Bradley (Florence Briggs Th...</td>\n",
       "      <td>female</td>\n",
       "      <td>38.0</td>\n",
       "      <td>1</td>\n",
       "      <td>0</td>\n",
       "      <td>PC 17599</td>\n",
       "      <td>71.2833</td>\n",
       "      <td>C</td>\n",
       "      <td>Mrs</td>\n",
       "      <td>1</td>\n",
       "      <td>bin4</td>\n",
       "    </tr>\n",
       "    <tr>\n",
       "      <th>2</th>\n",
       "      <td>3</td>\n",
       "      <td>1</td>\n",
       "      <td>3</td>\n",
       "      <td>Heikkinen, Miss. Laina</td>\n",
       "      <td>female</td>\n",
       "      <td>26.0</td>\n",
       "      <td>0</td>\n",
       "      <td>0</td>\n",
       "      <td>STON/O2. 3101282</td>\n",
       "      <td>7.9250</td>\n",
       "      <td>S</td>\n",
       "      <td>Miss</td>\n",
       "      <td>0</td>\n",
       "      <td>bin1</td>\n",
       "    </tr>\n",
       "  </tbody>\n",
       "</table>\n",
       "</div>"
      ],
      "text/plain": [
       "   PassengerId  Survived  Pclass  \\\n",
       "0            1         0       3   \n",
       "1            2         1       1   \n",
       "2            3         1       3   \n",
       "\n",
       "                                                Name     Sex   Age  SibSp  \\\n",
       "0                            Braund, Mr. Owen Harris    male  22.0      1   \n",
       "1  Cumings, Mrs. John Bradley (Florence Briggs Th...  female  38.0      1   \n",
       "2                             Heikkinen, Miss. Laina  female  26.0      0   \n",
       "\n",
       "   Parch            Ticket     Fare Embarked Prefix  Family fare_bin  \n",
       "0      0         A/5 21171   7.2500        S     Mr       1     bin1  \n",
       "1      0          PC 17599  71.2833        C    Mrs       1     bin4  \n",
       "2      0  STON/O2. 3101282   7.9250        S   Miss       0     bin1  "
      ]
     },
     "execution_count": 46,
     "metadata": {},
     "output_type": "execute_result"
    }
   ],
   "source": [
    "titanic_copy[\"fare_bin\"] = titanic_copy[\"Fare\"].apply(fare_bin)\n",
    "titanic_copy.head(3)"
   ]
  },
  {
   "cell_type": "markdown",
   "metadata": {},
   "source": [
    "## [SibSp, Parch, Family] Together.................................................................................................."
   ]
  },
  {
   "cell_type": "markdown",
   "metadata": {},
   "source": [
    "### People Travelling Alone"
   ]
  },
  {
   "cell_type": "code",
   "execution_count": 47,
   "metadata": {},
   "outputs": [
    {
     "name": "stdout",
     "output_type": "stream",
     "text": [
      "Mean: 31.66294227188082, Median: 28.0, Std: 11.848742970610918\n"
     ]
    },
    {
     "data": {
      "image/png": "[encoded data removed]",
      "text/plain": [
       "<Figure size 1080x360 with 2 Axes>"
      ]
     },
     "metadata": {
      "needs_background": "light"
     },
     "output_type": "display_data"
    }
   ],
   "source": [
    "print(\"Mean: {}, Median: {}, Std: {}\".format(titanic_copy[titanic_copy[\"Family\"] == 0][\"Age\"].mean(),\n",
    "                                             titanic_copy[titanic_copy[\"Family\"] == 0][\"Age\"].median(),\n",
    "                                             titanic_copy[titanic_copy[\"Family\"] == 0][\"Age\"].std()))\n",
    "\n",
    "fig, ax = plt.subplots(1,2, figsize = (15,5))\n",
    "sns.countplot(titanic_copy[titanic_copy[\"Family\"] == 0][\"Survived\"], ax = ax[0])\n",
    "sns.countplot(titanic_copy[titanic_copy[\"Family\"] == 0][\"Sex\"], \n",
    "              hue=titanic_copy[titanic_copy[\"Family\"] == 0][\"Survived\"], \n",
    "              ax = ax[1])\n",
    "\n",
    "\n",
    "for p in ax[0].patches:\n",
    "        ax[0].annotate('{:.1f}'.format(p.get_height()), (p.get_x()+0.1, p.get_height()+5))\n",
    "for p in ax[1].patches:\n",
    "        ax[1].annotate('{:.1f}'.format(p.get_height()), (p.get_x()+0.1, p.get_height()+5))"
   ]
  },
  {
   "cell_type": "markdown",
   "metadata": {},
   "source": [
    "70% people died when travelling alone                                                                                          \n",
    "Out of total male population travelling alone, 84% males died                                                                 \n",
    "Out of total female population travelling alone, 78.5% females survived                                                        \n",
    "The avg age of the person about 32 years"
   ]
  },
  {
   "cell_type": "markdown",
   "metadata": {},
   "source": [
    "### People Not Travelling Alone"
   ]
  },
  {
   "cell_type": "code",
   "execution_count": 48,
   "metadata": {},
   "outputs": [
    {
     "name": "stdout",
     "output_type": "stream",
     "text": [
      "Mean: 25.782966101694914, Median: 26.0, Std: 15.502120825900915\n"
     ]
    },
    {
     "data": {
      "image/png": "[encoded data removed]",
      "text/plain": [
       "<Figure size 1080x360 with 2 Axes>"
      ]
     },
     "metadata": {
      "needs_background": "light"
     },
     "output_type": "display_data"
    }
   ],
   "source": [
    "print(\"Mean: {}, Median: {}, Std: {}\".format(titanic_copy[titanic_copy[\"Family\"] == 1][\"Age\"].mean(),\n",
    "                                             titanic_copy[titanic_copy[\"Family\"] == 1][\"Age\"].median(),\n",
    "                                             titanic_copy[titanic_copy[\"Family\"] == 1][\"Age\"].std()))\n",
    "\n",
    "fig, ax = plt.subplots(1,2, figsize = (15,5))\n",
    "sns.countplot(titanic_copy[titanic_copy[\"Family\"] == 1][\"Survived\"], ax = ax[0])\n",
    "sns.countplot(titanic_copy[titanic_copy[\"Family\"] == 1][\"Sex\"], \n",
    "              hue=titanic_copy[titanic_copy[\"Family\"] == 1][\"Survived\"], \n",
    "              ax = ax[1])\n",
    "\n",
    "\n",
    "for p in ax[0].patches:\n",
    "        ax[0].annotate('{:.1f}'.format(p.get_height()), (p.get_x()+0.1, p.get_height()+5))\n",
    "for p in ax[1].patches:\n",
    "        ax[1].annotate('{:.1f}'.format(p.get_height()), (p.get_x()+0.1, p.get_height()+5))"
   ]
  },
  {
   "cell_type": "markdown",
   "metadata": {},
   "source": [
    "50%-50% chance of death/survival when travelling with someone                                                                 \n",
    "73% of the male died while travelling with someone and 71% of the females survived while travelling with someone"
   ]
  },
  {
   "cell_type": "markdown",
   "metadata": {},
   "source": [
    "We can conclude from above plots that travelling alone was harmful for Males whereas it was beneficial for the women. Travelling with someone (may be family) increased survival chances of Males where reduced the survival of Females. Therefore, it is required to analyse the family size and its effect on survival/death of a person. Overall, in any scenarion Females seem to have higher chances of survival than Males."
   ]
  },
  {
   "cell_type": "markdown",
   "metadata": {},
   "source": [
    "### Analyse family size and type to correlate it with survival/death"
   ]
  },
  {
   "cell_type": "markdown",
   "metadata": {},
   "source": [
    "#### 1) Group of 2 (mom+child, dad+child)"
   ]
  },
  {
   "cell_type": "code",
   "execution_count": 49,
   "metadata": {},
   "outputs": [
    {
     "name": "stdout",
     "output_type": "stream",
     "text": [
      "(38, 14)\n",
      "Mean: 29.77, Median: 27.5, Std: 17.76\n"
     ]
    },
    {
     "data": {
      "image/png": "[encoded data removed]",
      "text/plain": [
       "<Figure size 1080x360 with 2 Axes>"
      ]
     },
     "metadata": {
      "needs_background": "light"
     },
     "output_type": "display_data"
    }
   ],
   "source": [
    "c1 = titanic_copy[\"SibSp\"]  == 0\n",
    "c2 = titanic_copy[\"Parch\"]  == 1\n",
    "print(titanic_copy[c1 & c2].shape)\n",
    "\n",
    "print(\"Mean: {}, Median: {}, Std: {}\".format(round(titanic_copy[c1 & c2][\"Age\"].mean(),2),\n",
    "                                             round(titanic_copy[c1 & c2][\"Age\"].median(),2),\n",
    "                                             round(titanic_copy[c1 & c2][\"Age\"].std(),2)))\n",
    "\n",
    "fig, ax = plt.subplots(1,2, figsize = (15,5))\n",
    "sns.countplot(titanic_copy[c1 & c2][\"Survived\"], ax = ax[0])\n",
    "sns.countplot(titanic_copy[c1 & c2][\"Prefix\"], hue=titanic_copy[c1 & c2][\"Survived\"], ax= ax[1])\n",
    "\n",
    "for p in ax[0].patches:\n",
    "        ax[0].annotate('{:.1f}'.format(p.get_height()), (p.get_x()+0.1, p.get_height()+0.5))\n",
    "\n",
    "for p in ax[1].patches:\n",
    "        ax[1].annotate('{:.1f}'.format(p.get_height()), (p.get_x()+0.1, p.get_height()+0.5))"
   ]
  },
  {
   "cell_type": "markdown",
   "metadata": {},
   "source": [
    "66% of the people survived of the total people travelling in this category. 82% of the \"Mr\" died whereas 92% of \"Mrs\" and 82% \"Miss\" survived. 100% \"Master\" (Kids) survived. Important thing to consider"
   ]
  },
  {
   "cell_type": "markdown",
   "metadata": {},
   "source": [
    "#### 2) Group of 2 (2 brothers OR 2 sisters OR Husband+Wife)"
   ]
  },
  {
   "cell_type": "code",
   "execution_count": 50,
   "metadata": {},
   "outputs": [
    {
     "name": "stdout",
     "output_type": "stream",
     "text": [
      "(123, 14)\n",
      "Mean: 31.28, Median: 30.0, Std: 11.43\n"
     ]
    },
    {
     "data": {
      "image/png": "[encoded data removed]",
      "text/plain": [
       "<Figure size 1080x360 with 2 Axes>"
      ]
     },
     "metadata": {
      "needs_background": "light"
     },
     "output_type": "display_data"
    }
   ],
   "source": [
    "c1 = titanic_copy[\"SibSp\"]  == 1\n",
    "c2 = titanic_copy[\"Parch\"]  == 0\n",
    "print(titanic_copy[c1 & c2].shape)\n",
    "\n",
    "print(\"Mean: {}, Median: {}, Std: {}\".format(round(titanic_copy[c1 & c2][\"Age\"].mean(),2),\n",
    "                                             round(titanic_copy[c1 & c2][\"Age\"].median(),2),\n",
    "                                             round(titanic_copy[c1 & c2][\"Age\"].std(),2)))\n",
    "\n",
    "fig, ax = plt.subplots(1,2, figsize = (15,5))\n",
    "sns.countplot(titanic_copy[c1 & c2][\"Survived\"], ax = ax[0])\n",
    "sns.countplot(titanic_copy[c1 & c2][\"Prefix\"], hue=titanic_copy[c1 & c2][\"Survived\"], ax=ax[1])\n",
    "\n",
    "for p in ax[0].patches:\n",
    "        ax[0].annotate('{:.1f}'.format(p.get_height()), (p.get_x()+0.1, p.get_height()+0.5))\n",
    "\n",
    "for p in ax[1].patches:\n",
    "        ax[1].annotate('{:.1f}'.format(p.get_height()), (p.get_x()+0.1, p.get_height()+0.5))"
   ]
  },
  {
   "cell_type": "markdown",
   "metadata": {},
   "source": [
    "66% of the people survived of the total people travelling in this category.79% of the \"Mr\" died whereas 83% of \"Mrs\" and 67% \"Miss\" survived. 100% \"Master\" (Kids) survived. Important thing to consider"
   ]
  },
  {
   "cell_type": "markdown",
   "metadata": {},
   "source": [
    "#### 3) Group of 3 (mom+ 2 child, dad+ 2 child, mom + dad + child)"
   ]
  },
  {
   "cell_type": "code",
   "execution_count": 51,
   "metadata": {},
   "outputs": [
    {
     "name": "stdout",
     "output_type": "stream",
     "text": [
      "(86, 14)\n",
      "Mean: 24.36, Median: 25.5, Std: 16.92\n"
     ]
    },
    {
     "data": {
      "image/png": "[encoded data removed]",
      "text/plain": [
       "<Figure size 1080x360 with 2 Axes>"
      ]
     },
     "metadata": {
      "needs_background": "light"
     },
     "output_type": "display_data"
    }
   ],
   "source": [
    "c1 = titanic_copy[\"SibSp\"]  == 0\n",
    "c2 = titanic_copy[\"SibSp\"]  == 1\n",
    "c3 = titanic_copy[\"Parch\"]  == 1\n",
    "c4 = titanic_copy[\"Parch\"]  == 2\n",
    "print(titanic_copy[(c2 & c3) | (c1 & c4)].shape)\n",
    "\n",
    "print(\"Mean: {}, Median: {}, Std: {}\".format(round(titanic_copy[(c2 & c3) | (c1 & c4)][\"Age\"].mean(),2),\n",
    "                                             round(titanic_copy[(c2 & c3) | (c1 & c4)][\"Age\"].median(),2),\n",
    "                                             round(titanic_copy[(c2 & c3) | (c1 & c4)][\"Age\"].std(),2)))\n",
    "\n",
    "fig, ax = plt.subplots(1,2, figsize = (15,5))\n",
    "sns.countplot(titanic_copy[(c2 & c3) | (c1 & c4)][\"Survived\"], ax = ax[0])\n",
    "sns.countplot(x = \"Prefix\", data = titanic_copy[(c2 & c3) | (c1 & c4)], hue = \"Survived\", ax = ax[1])\n",
    "\n",
    "for p in ax[0].patches:\n",
    "        ax[0].annotate('{:.1f}'.format(p.get_height()), (p.get_x()+0.1, p.get_height()+0.5))\n",
    "\n",
    "for p in ax[1].patches:\n",
    "        ax[1].annotate('{:.1f}'.format(p.get_height()), (p.get_x()+0.1, p.get_height()+0.5))"
   ]
  },
  {
   "cell_type": "markdown",
   "metadata": {},
   "source": [
    "64% of the people survived of the total people travelling in this category. 83% of the \"Mr\" died whereas 73% of \"Mrs\" and 85% \"Miss\" survived. 100% \"Master\" (Kids) survived. Important thing to consider"
   ]
  },
  {
   "cell_type": "markdown",
   "metadata": {},
   "source": [
    "#### 4) Group of 4 people (Mother+Father+2 Child)"
   ]
  },
  {
   "cell_type": "code",
   "execution_count": 52,
   "metadata": {},
   "outputs": [
    {
     "name": "stdout",
     "output_type": "stream",
     "text": [
      "(19, 14)\n",
      "Mean: 20.15, Median: 24.0, Std: 14.27\n"
     ]
    },
    {
     "data": {
      "image/png": "[encoded data removed]",
      "text/plain": [
       "<Figure size 1080x360 with 2 Axes>"
      ]
     },
     "metadata": {
      "needs_background": "light"
     },
     "output_type": "display_data"
    }
   ],
   "source": [
    "c1 = titanic_copy[\"SibSp\"]  == 1 \n",
    "c2 = titanic_copy[\"Parch\"]  == 2\n",
    "print(titanic_copy[c1 & c2].shape)\n",
    "\n",
    "print(\"Mean: {}, Median: {}, Std: {}\".format(round(titanic_copy[c1 & c2][\"Age\"].mean(),2),\n",
    "                                             round(titanic_copy[c1 & c2][\"Age\"].median(),2),\n",
    "                                             round(titanic_copy[c1 & c2][\"Age\"].std(),2)))\n",
    "\n",
    "fig, ax = plt.subplots(1,2, figsize = (15,5))\n",
    "sns.countplot(titanic_copy[c1 & c2][\"Survived\"], ax = ax[0])\n",
    "sns.countplot(x = \"Prefix\", data = titanic_copy[c1 & c2], hue = \"Survived\", ax = ax[1])\n",
    "\n",
    "for p in ax[0].patches:\n",
    "        ax[0].annotate('{:.1f}'.format(p.get_height()), (p.get_x()+0.1, p.get_height()+0.1))\n",
    "\n",
    "for p in ax[1].patches:\n",
    "        ax[1].annotate('{:.1f}'.format(p.get_height()), (p.get_x()+0.1, p.get_height()+0.1))"
   ]
  },
  {
   "cell_type": "markdown",
   "metadata": {},
   "source": [
    "66% of the people survived of the total people travelling in this category.....80% of the \"Mr\" died whereas 80% of the \"Mrs\" survived and 67% of the \"Miss\" survived. Again 100% \"Master\" survived.  "
   ]
  },
  {
   "cell_type": "markdown",
   "metadata": {},
   "source": [
    "#### 5) Group of 5 people (Mother+Father+3 Child )"
   ]
  },
  {
   "cell_type": "code",
   "execution_count": 53,
   "metadata": {},
   "outputs": [
    {
     "name": "stdout",
     "output_type": "stream",
     "text": [
      "(7, 14)\n",
      "Mean: 26.71, Median: 21.0, Std: 17.16\n"
     ]
    },
    {
     "data": {
      "image/png": "[encoded data removed]",
      "text/plain": [
       "<Figure size 1080x360 with 2 Axes>"
      ]
     },
     "metadata": {
      "needs_background": "light"
     },
     "output_type": "display_data"
    }
   ],
   "source": [
    "c1 = titanic_copy[\"SibSp\"]  == 1\n",
    "c2 = titanic_copy[\"SibSp\"]  == 2\n",
    "c3 = titanic_copy[\"Parch\"]  == 3\n",
    "c4 = titanic_copy[\"Parch\"]  == 2\n",
    "print(titanic_copy[(c1 & c3) | (c2 & c4)].shape)\n",
    "\n",
    "print(\"Mean: {}, Median: {}, Std: {}\".format(round(titanic_copy[(c1 & c3) | (c2 & c4)][\"Age\"].mean(),2),\n",
    "                                             round(titanic_copy[(c1 & c3) | (c2 & c4)][\"Age\"].median(),2),\n",
    "                                             round(titanic_copy[(c1 & c3) | (c2 & c4)][\"Age\"].std(),2)))\n",
    "\n",
    "fig, ax = plt.subplots(1,2, figsize = (15,5))\n",
    "sns.countplot(titanic_copy[(c1 & c3) | (c2 & c4)][\"Survived\"], ax = ax[0])\n",
    "sns.countplot(x = \"Prefix\", data = titanic_copy[(c1 & c3) | (c2 & c4)], hue = \"Survived\", ax = ax[1])\n",
    "\n",
    "for p in ax[0].patches:\n",
    "        ax[0].annotate('{:.1f}'.format(p.get_height()), (p.get_x()+0.1, p.get_height()+0.1))\n",
    "\n",
    "for p in ax[1].patches:\n",
    "        ax[1].annotate('{:.1f}'.format(p.get_height()), (p.get_x()+0.1, p.get_height()+0.1))"
   ]
  },
  {
   "cell_type": "markdown",
   "metadata": {},
   "source": [
    "Very few data points to perform any strong analysis. From the plot above we can see that 100% \"Mr\" died whereas 50% \"Mrs\" and 50% \"Miss\" Survived. Their survival chances decreased way lesser than above all the other possibilities"
   ]
  },
  {
   "cell_type": "markdown",
   "metadata": {},
   "source": [
    "#### 6) Group of 6 people (Mother+Father+4 Child )"
   ]
  },
  {
   "cell_type": "code",
   "execution_count": 54,
   "metadata": {},
   "outputs": [
    {
     "name": "stdout",
     "output_type": "stream",
     "text": [
      "(10, 14)\n",
      "Mean: 24.0, Median: 21.0, Std: 20.08\n"
     ]
    },
    {
     "data": {
      "image/png": "[encoded data removed]",
      "text/plain": [
       "<Figure size 1080x360 with 2 Axes>"
      ]
     },
     "metadata": {
      "needs_background": "light"
     },
     "output_type": "display_data"
    }
   ],
   "source": [
    "c1 = titanic_copy[\"SibSp\"]  == 1\n",
    "c2 = titanic_copy[\"SibSp\"]  == 3\n",
    "c3 = titanic_copy[\"Parch\"]  == 4\n",
    "c4 = titanic_copy[\"Parch\"]  == 2\n",
    "print(titanic_copy[(c1 & c3) | (c2 & c4)].shape)\n",
    "\n",
    "print(\"Mean: {}, Median: {}, Std: {}\".format(round(titanic_copy[(c1 & c3) | (c2 & c4)][\"Age\"].mean(),2),\n",
    "                                             round(titanic_copy[(c1 & c3) | (c2 & c4)][\"Age\"].median(),2),\n",
    "                                             round(titanic_copy[(c1 & c3) | (c2 & c4)][\"Age\"].std(),2)))\n",
    "\n",
    "fig, ax = plt.subplots(1,2, figsize = (15,5))\n",
    "sns.countplot(titanic_copy[(c1 & c3) | (c2 & c4)][\"Survived\"], ax = ax[0])\n",
    "sns.countplot(x = \"Prefix\", data = titanic_copy[(c1 & c3) | (c2 & c4)], hue = \"Survived\", ax = ax[1])\n",
    "\n",
    "for p in ax[0].patches:\n",
    "        ax[0].annotate('{:.1f}'.format(p.get_height()), (p.get_x()+0.1, p.get_height()+0.1))\n",
    "for p in ax[1].patches:\n",
    "        ax[1].annotate('{:.1f}'.format(p.get_height()), (p.get_x()+0.1, p.get_height()+0.1))\n",
    "\n"
   ]
  },
  {
   "cell_type": "markdown",
   "metadata": {},
   "source": [
    "There are very high chances of death in group of 6 which we can observe from the plot above"
   ]
  },
  {
   "cell_type": "markdown",
   "metadata": {},
   "source": [
    "#### 7) Group of 7 people (Mother+Father+ 5 Child )"
   ]
  },
  {
   "cell_type": "code",
   "execution_count": 55,
   "metadata": {},
   "outputs": [
    {
     "name": "stdout",
     "output_type": "stream",
     "text": [
      "(12, 14)\n",
      "Mean: 15.17, Median: 9.0, Std: 14.73\n"
     ]
    },
    {
     "data": {
      "image/png": "[encoded data removed]",
      "text/plain": [
       "<Figure size 1080x360 with 2 Axes>"
      ]
     },
     "metadata": {
      "needs_background": "light"
     },
     "output_type": "display_data"
    }
   ],
   "source": [
    "c1 = titanic_copy[\"SibSp\"]  == 1\n",
    "c2 = titanic_copy[\"SibSp\"]  == 4\n",
    "c3 = titanic_copy[\"Parch\"]  == 5\n",
    "c4 = titanic_copy[\"Parch\"]  == 2\n",
    "print(titanic_copy[(c1 & c3) | (c2 & c4)].shape)\n",
    "\n",
    "print(\"Mean: {}, Median: {}, Std: {}\".format(round(titanic_copy[(c1 & c3) | (c2 & c4)][\"Age\"].mean(),2),\n",
    "                                             round(titanic_copy[(c1 & c3) | (c2 & c4)][\"Age\"].median(),2),\n",
    "                                             round(titanic_copy[(c1 & c3) | (c2 & c4)][\"Age\"].std(),2)))\n",
    "\n",
    "fig, ax = plt.subplots(1,2, figsize = (15,5))\n",
    "sns.countplot(titanic_copy[(c1 & c3) | (c2 & c4)][\"Survived\"], ax = ax[0])\n",
    "sns.countplot(x = \"Prefix\", data = titanic_copy[(c1 & c3) | (c2 & c4)], hue = \"Survived\", ax = ax[1])\n",
    "\n",
    "for p in ax[0].patches:\n",
    "        ax[0].annotate('{:.1f}'.format(p.get_height()), (p.get_x()+0.1, p.get_height()+0.1))\n",
    "for p in ax[1].patches:\n",
    "        ax[1].annotate('{:.1f}'.format(p.get_height()), (p.get_x()+0.1, p.get_height()+0.1))\n",
    "\n"
   ]
  },
  {
   "cell_type": "markdown",
   "metadata": {},
   "source": [
    "We oberve the same thing as group 6 in this particular group of 7"
   ]
  },
  {
   "cell_type": "markdown",
   "metadata": {},
   "source": [
    "#### 8) Group of 8 people (Mother+Father+ 6 Child )"
   ]
  },
  {
   "cell_type": "code",
   "execution_count": 56,
   "metadata": {},
   "outputs": [
    {
     "name": "stdout",
     "output_type": "stream",
     "text": [
      "(6, 14)\n",
      "Mean: 15.67, Median: 12.5, Std: 14.36\n"
     ]
    },
    {
     "data": {
      "image/png": "[encoded data removed]",
      "text/plain": [
       "<Figure size 1080x360 with 2 Axes>"
      ]
     },
     "metadata": {
      "needs_background": "light"
     },
     "output_type": "display_data"
    }
   ],
   "source": [
    "c1 = titanic_copy[\"SibSp\"]  == 1\n",
    "c2 = titanic_copy[\"SibSp\"]  == 5\n",
    "c3 = titanic_copy[\"Parch\"]  == 6\n",
    "c4 = titanic_copy[\"Parch\"]  == 2\n",
    "print(titanic_copy[(c1 & c3) | (c2 & c4)].shape)\n",
    "\n",
    "print(\"Mean: {}, Median: {}, Std: {}\".format(round(titanic_copy[(c1 & c3) | (c2 & c4)][\"Age\"].mean(),2),\n",
    "                                             round(titanic_copy[(c1 & c3) | (c2 & c4)][\"Age\"].median(),2),\n",
    "                                             round(titanic_copy[(c1 & c3) | (c2 & c4)][\"Age\"].std(),2)))\n",
    "\n",
    "fig, ax = plt.subplots(1,2, figsize = (15,5))\n",
    "sns.countplot(titanic_copy[(c1 & c3) | (c2 & c4)][\"Survived\"], ax = ax[0])\n",
    "sns.countplot(x = \"Prefix\", data = titanic_copy[(c1 & c3) | (c2 & c4)], hue = \"Survived\", ax = ax[1])\n",
    "\n",
    "for p in ax[0].patches:\n",
    "        ax[0].annotate('{:.1f}'.format(p.get_height()), (p.get_x()+0.1, p.get_height()+0.1))\n",
    "for p in ax[1].patches:\n",
    "        ax[1].annotate('{:.1f}'.format(p.get_height()), (p.get_x()+0.1, p.get_height()+0.1))\n",
    "\n"
   ]
  },
  {
   "cell_type": "markdown",
   "metadata": {},
   "source": [
    "seems that there is only one such family exist who have 8 members in their family and the whole family died. there are just 6 records given in this training dataset so the other two data points has to be in the test dataset and probably they must have died as well "
   ]
  },
  {
   "cell_type": "markdown",
   "metadata": {},
   "source": [
    "#### 9) Group of 11 people (Mother+Father+ 9 Child )"
   ]
  },
  {
   "cell_type": "code",
   "execution_count": 57,
   "metadata": {},
   "outputs": [
    {
     "name": "stdout",
     "output_type": "stream",
     "text": [
      "(7, 14)\n",
      "Mean: 15.57, Median: 9.0, Std: 9.91\n"
     ]
    },
    {
     "data": {
      "image/png": "[encoded data removed]",
      "text/plain": [
       "<Figure size 1080x360 with 2 Axes>"
      ]
     },
     "metadata": {
      "needs_background": "light"
     },
     "output_type": "display_data"
    }
   ],
   "source": [
    "c1 = titanic_copy[\"SibSp\"]  == 1\n",
    "c2 = titanic_copy[\"SibSp\"]  == 8\n",
    "c3 = titanic_copy[\"Parch\"]  == 9\n",
    "c4 = titanic_copy[\"Parch\"]  == 2\n",
    "print(titanic_copy[(c1 & c3) | (c2 & c4)].shape)\n",
    "\n",
    "print(\"Mean: {}, Median: {}, Std: {}\".format(round(titanic_copy[(c1 & c3) | (c2 & c4)][\"Age\"].mean(),2),\n",
    "                                             round(titanic_copy[(c1 & c3) | (c2 & c4)][\"Age\"].median(),2),\n",
    "                                             round(titanic_copy[(c1 & c3) | (c2 & c4)][\"Age\"].std(),2)))\n",
    "\n",
    "fig, ax = plt.subplots(1,2, figsize = (15,5))\n",
    "sns.countplot(titanic_copy[(c1 & c3) | (c2 & c4)][\"Survived\"], ax = ax[0])\n",
    "sns.countplot(x = \"Prefix\", data = titanic_copy[(c1 & c3) | (c2 & c4)], hue = \"Survived\", ax = ax[1])\n",
    "\n",
    "for p in ax[0].patches:\n",
    "        ax[0].annotate('{:.1f}'.format(p.get_height()), (p.get_x()+0.1, p.get_height()+0.1))\n",
    "for p in ax[1].patches:\n",
    "        ax[1].annotate('{:.1f}'.format(p.get_height()), (p.get_x()+0.1, p.get_height()+0.1))\n",
    "\n"
   ]
  },
  {
   "cell_type": "markdown",
   "metadata": {},
   "source": [
    "seems that there is only one such family exist who have 11 members in their family and the whole family died. there are just 7 records given in this training dataset so the other 4 data points has to be in the test dataset and probably they must have died as well "
   ]
  },
  {
   "cell_type": "markdown",
   "metadata": {},
   "source": [
    "#### 10) Single Parent + Many kids "
   ]
  },
  {
   "cell_type": "code",
   "execution_count": 58,
   "metadata": {},
   "outputs": [
    {
     "name": "stdout",
     "output_type": "stream",
     "text": [
      "(27, 14)\n",
      "Mean: 10.98, Median: 7.0, Std: 11.58\n"
     ]
    },
    {
     "data": {
      "image/png": "[encoded data removed]",
      "text/plain": [
       "<Figure size 1080x360 with 2 Axes>"
      ]
     },
     "metadata": {
      "needs_background": "light"
     },
     "output_type": "display_data"
    }
   ],
   "source": [
    "c1 = titanic_copy[\"SibSp\"]  == 0\n",
    "c2 = titanic_copy[\"SibSp\"]  >= 2\n",
    "c3 = titanic_copy[\"Parch\"]  >= 3\n",
    "c4 = titanic_copy[\"Parch\"]  == 1\n",
    "print(titanic_copy[(c1 & c3) | (c2 & c4)].shape)\n",
    "\n",
    "print(\"Mean: {}, Median: {}, Std: {}\".format(round(titanic_copy[(c1 & c3) | (c2 & c4)][\"Age\"].mean(),2),\n",
    "                                             round(titanic_copy[(c1 & c3) | (c2 & c4)][\"Age\"].median(),2),\n",
    "                                             round(titanic_copy[(c1 & c3) | (c2 & c4)][\"Age\"].std(),2)))\n",
    "\n",
    "fig, ax = plt.subplots(1,2, figsize = (15,5))\n",
    "sns.countplot(titanic_copy[(c1 & c3) | (c2 & c4)][\"Survived\"], ax = ax[0])\n",
    "sns.countplot(x = \"Prefix\", data = titanic_copy[(c1 & c3) | (c2 & c4)], hue = \"Survived\", ax = ax[1])\n",
    "\n",
    "for p in ax[0].patches:\n",
    "        ax[0].annotate('{:.1f}'.format(p.get_height()), (p.get_x()+0.1, p.get_height()+0.1))\n",
    "for p in ax[1].patches:\n",
    "        ax[1].annotate('{:.1f}'.format(p.get_height()), (p.get_x()+0.1, p.get_height()+0.1))\n",
    "\n"
   ]
  },
  {
   "cell_type": "markdown",
   "metadata": {},
   "source": [
    "Death rate is very high in this case which is 75% overall"
   ]
  },
  {
   "cell_type": "markdown",
   "metadata": {},
   "source": [
    "#### 11) Brothers / Sisters"
   ]
  },
  {
   "cell_type": "code",
   "execution_count": 59,
   "metadata": {},
   "outputs": [
    {
     "name": "stdout",
     "output_type": "stream",
     "text": [
      "(18, 14)\n",
      "Mean: 29.88888888888889, Median: 27.0, Std: 11.615855740115034\n"
     ]
    },
    {
     "data": {
      "image/png": "[encoded data removed]",
      "text/plain": [
       "<Figure size 1080x360 with 2 Axes>"
      ]
     },
     "metadata": {
      "needs_background": "light"
     },
     "output_type": "display_data"
    }
   ],
   "source": [
    "c1 = titanic_copy[\"SibSp\"]  >= 2 \n",
    "c2 = titanic_copy[\"Parch\"]  == 0\n",
    "print(titanic_copy[c1 & c2].shape)\n",
    "\n",
    "print(\"Mean: {}, Median: {}, Std: {}\".format(titanic_copy[c1 & c2][\"Age\"].mean(),\n",
    "                                             titanic_copy[c1 & c2][\"Age\"].median(),\n",
    "                                             titanic_copy[c1 & c2][\"Age\"].std()))\n",
    "\n",
    "fig, ax = plt.subplots(1,2, figsize = (15,5))\n",
    "sns.countplot(titanic_copy[c1 & c2][\"Survived\"], ax = ax[0])\n",
    "sns.countplot(x = \"Prefix\", data = titanic_copy[c1 & c2], hue = \"Survived\", ax = ax[1])\n",
    "\n",
    "for p in ax[0].patches:\n",
    "        ax[0].annotate('{:.1f}'.format(p.get_height()), (p.get_x()+0.1, p.get_height()+0.2))\n",
    "for p in ax[1].patches:\n",
    "        ax[1].annotate('{:.1f}'.format(p.get_height()), (p.get_x()+0.1, p.get_height()+0.5))"
   ]
  },
  {
   "cell_type": "markdown",
   "metadata": {},
   "source": [
    "67% Death Rate"
   ]
  },
  {
   "cell_type": "markdown",
   "metadata": {},
   "source": [
    "After summing the number of data, I figured out that there is one data point stil mising which did not fall in any of these categories and that is the only kind of data point exist in the dataframe. That is passanger id 437"
   ]
  },
  {
   "cell_type": "code",
   "execution_count": 60,
   "metadata": {},
   "outputs": [
    {
     "data": {
      "text/plain": [
       "PassengerId                                      438\n",
       "Survived                                           1\n",
       "Pclass                                             2\n",
       "Name           Richards, Mrs. Sidney (Emily Hocking)\n",
       "Sex                                           female\n",
       "Age                                               24\n",
       "SibSp                                              2\n",
       "Parch                                              3\n",
       "Ticket                                         29106\n",
       "Fare                                           18.75\n",
       "Embarked                                           S\n",
       "Prefix                                           Mrs\n",
       "Family                                             1\n",
       "fare_bin                                        bin3\n",
       "Name: 437, dtype: object"
      ]
     },
     "execution_count": 60,
     "metadata": {},
     "output_type": "execute_result"
    }
   ],
   "source": [
    "titanic_copy.iloc[437]"
   ]
  },
  {
   "cell_type": "markdown",
   "metadata": {},
   "source": [
    "I am going to define this record as \"Unique\" while creating the group sizes"
   ]
  },
  {
   "cell_type": "code",
   "execution_count": 61,
   "metadata": {},
   "outputs": [],
   "source": [
    "def group_size(cols):\n",
    "    SibSp = cols[0]\n",
    "    Parch = cols[1]\n",
    "    \n",
    "    if SibSp == 0 and Parch == 0:\n",
    "        return \"alone\"\n",
    "    elif SibSp == 0 and Parch == 1:\n",
    "        return \"parent_kid\"\n",
    "    elif SibSp == 1 and Parch == 0:\n",
    "        return \"bro_sis\"\n",
    "    elif (SibSp == 1 and Parch == 1) or (SibSp == 0 and Parch == 2):\n",
    "        return \"group_of_3\"\n",
    "    elif SibSp == 1 and Parch == 2:\n",
    "        return \"group_of_4\"\n",
    "    elif (SibSp == 1 and Parch == 3) or (SibSp == 2 and Parch == 2):\n",
    "        return \"group_of_5\"\n",
    "    elif (SibSp == 1 and Parch == 4) or (SibSp == 3 and Parch == 2):\n",
    "        return \"group_of_6\"\n",
    "    elif (SibSp == 1 and Parch == 5) or (SibSp == 4 and Parch == 2):\n",
    "        return \"group_of_7\"\n",
    "    elif (SibSp == 1 and Parch == 6) or (SibSp == 5 and Parch == 2):\n",
    "        return \"group_of_8\"\n",
    "    elif (SibSp == 1 and Parch == 9) or (SibSp == 8 and Parch == 2):\n",
    "        return \"group_of_11\"\n",
    "    elif (SibSp == 0 and Parch >= 3) or (SibSp >= 2 and Parch == 1):\n",
    "        return \"parent_kids\"\n",
    "    elif SibSp >= 2 and Parch == 0:\n",
    "        return \"bros_sises\"\n",
    "    else:\n",
    "        return \"unique\"\n",
    "       \n"
   ]
  },
  {
   "cell_type": "code",
   "execution_count": 62,
   "metadata": {},
   "outputs": [
    {
     "data": {
      "text/html": [
       "<div>\n",
       "<style scoped>\n",
       "    .dataframe tbody tr th:only-of-type {\n",
       "        vertical-align: middle;\n",
       "    }\n",
       "\n",
       "    .dataframe tbody tr th {\n",
       "        vertical-align: top;\n",
       "    }\n",
       "\n",
       "    .dataframe thead th {\n",
       "        text-align: right;\n",
       "    }\n",
       "</style>\n",
       "<table border=\"1\" class=\"dataframe\">\n",
       "  <thead>\n",
       "    <tr style=\"text-align: right;\">\n",
       "      <th></th>\n",
       "      <th>PassengerId</th>\n",
       "      <th>Survived</th>\n",
       "      <th>Pclass</th>\n",
       "      <th>Name</th>\n",
       "      <th>Sex</th>\n",
       "      <th>Age</th>\n",
       "      <th>SibSp</th>\n",
       "      <th>Parch</th>\n",
       "      <th>Ticket</th>\n",
       "      <th>Fare</th>\n",
       "      <th>Embarked</th>\n",
       "      <th>Prefix</th>\n",
       "      <th>Family</th>\n",
       "      <th>fare_bin</th>\n",
       "      <th>Group_Size</th>\n",
       "    </tr>\n",
       "  </thead>\n",
       "  <tbody>\n",
       "    <tr>\n",
       "      <th>0</th>\n",
       "      <td>1</td>\n",
       "      <td>0</td>\n",
       "      <td>3</td>\n",
       "      <td>Braund, Mr. Owen Harris</td>\n",
       "      <td>male</td>\n",
       "      <td>22.0</td>\n",
       "      <td>1</td>\n",
       "      <td>0</td>\n",
       "      <td>A/5 21171</td>\n",
       "      <td>7.2500</td>\n",
       "      <td>S</td>\n",
       "      <td>Mr</td>\n",
       "      <td>1</td>\n",
       "      <td>bin1</td>\n",
       "      <td>bro_sis</td>\n",
       "    </tr>\n",
       "    <tr>\n",
       "      <th>1</th>\n",
       "      <td>2</td>\n",
       "      <td>1</td>\n",
       "      <td>1</td>\n",
       "      <td>Cumings, Mrs. John Bradley (Florence Briggs Th...</td>\n",
       "      <td>female</td>\n",
       "      <td>38.0</td>\n",
       "      <td>1</td>\n",
       "      <td>0</td>\n",
       "      <td>PC 17599</td>\n",
       "      <td>71.2833</td>\n",
       "      <td>C</td>\n",
       "      <td>Mrs</td>\n",
       "      <td>1</td>\n",
       "      <td>bin4</td>\n",
       "      <td>bro_sis</td>\n",
       "    </tr>\n",
       "    <tr>\n",
       "      <th>2</th>\n",
       "      <td>3</td>\n",
       "      <td>1</td>\n",
       "      <td>3</td>\n",
       "      <td>Heikkinen, Miss. Laina</td>\n",
       "      <td>female</td>\n",
       "      <td>26.0</td>\n",
       "      <td>0</td>\n",
       "      <td>0</td>\n",
       "      <td>STON/O2. 3101282</td>\n",
       "      <td>7.9250</td>\n",
       "      <td>S</td>\n",
       "      <td>Miss</td>\n",
       "      <td>0</td>\n",
       "      <td>bin1</td>\n",
       "      <td>alone</td>\n",
       "    </tr>\n",
       "  </tbody>\n",
       "</table>\n",
       "</div>"
      ],
      "text/plain": [
       "   PassengerId  Survived  Pclass  \\\n",
       "0            1         0       3   \n",
       "1            2         1       1   \n",
       "2            3         1       3   \n",
       "\n",
       "                                                Name     Sex   Age  SibSp  \\\n",
       "0                            Braund, Mr. Owen Harris    male  22.0      1   \n",
       "1  Cumings, Mrs. John Bradley (Florence Briggs Th...  female  38.0      1   \n",
       "2                             Heikkinen, Miss. Laina  female  26.0      0   \n",
       "\n",
       "   Parch            Ticket     Fare Embarked Prefix  Family fare_bin  \\\n",
       "0      0         A/5 21171   7.2500        S     Mr       1     bin1   \n",
       "1      0          PC 17599  71.2833        C    Mrs       1     bin4   \n",
       "2      0  STON/O2. 3101282   7.9250        S   Miss       0     bin1   \n",
       "\n",
       "  Group_Size  \n",
       "0    bro_sis  \n",
       "1    bro_sis  \n",
       "2      alone  "
      ]
     },
     "execution_count": 62,
     "metadata": {},
     "output_type": "execute_result"
    }
   ],
   "source": [
    "titanic_copy[\"Group_Size\"] = titanic_copy[[\"SibSp\", \"Parch\"]].apply(group_size, axis = 1)\n",
    "titanic_copy.head(3)"
   ]
  },
  {
   "cell_type": "code",
   "execution_count": 63,
   "metadata": {},
   "outputs": [],
   "source": [
    "def age_group(Age):\n",
    "    \n",
    "    if Age <= 15: \n",
    "        return \"Child\"\n",
    "    elif Age > 15 and Age <= 30:\n",
    "        return \"Adult\"\n",
    "    elif Age > 30 and Age <=45:\n",
    "        return \"Senior\"\n",
    "    elif Age > 45 and Age <=60:\n",
    "        return \"Super_senior\"\n",
    "    else:\n",
    "        return \"Old\""
   ]
  },
  {
   "cell_type": "code",
   "execution_count": 64,
   "metadata": {},
   "outputs": [
    {
     "data": {
      "text/html": [
       "<div>\n",
       "<style scoped>\n",
       "    .dataframe tbody tr th:only-of-type {\n",
       "        vertical-align: middle;\n",
       "    }\n",
       "\n",
       "    .dataframe tbody tr th {\n",
       "        vertical-align: top;\n",
       "    }\n",
       "\n",
       "    .dataframe thead th {\n",
       "        text-align: right;\n",
       "    }\n",
       "</style>\n",
       "<table border=\"1\" class=\"dataframe\">\n",
       "  <thead>\n",
       "    <tr style=\"text-align: right;\">\n",
       "      <th></th>\n",
       "      <th>PassengerId</th>\n",
       "      <th>Survived</th>\n",
       "      <th>Pclass</th>\n",
       "      <th>Name</th>\n",
       "      <th>Sex</th>\n",
       "      <th>Age</th>\n",
       "      <th>SibSp</th>\n",
       "      <th>Parch</th>\n",
       "      <th>Ticket</th>\n",
       "      <th>Fare</th>\n",
       "      <th>Embarked</th>\n",
       "      <th>Prefix</th>\n",
       "      <th>Family</th>\n",
       "      <th>fare_bin</th>\n",
       "      <th>Group_Size</th>\n",
       "      <th>Age_Group</th>\n",
       "    </tr>\n",
       "  </thead>\n",
       "  <tbody>\n",
       "    <tr>\n",
       "      <th>0</th>\n",
       "      <td>1</td>\n",
       "      <td>0</td>\n",
       "      <td>3</td>\n",
       "      <td>Braund, Mr. Owen Harris</td>\n",
       "      <td>male</td>\n",
       "      <td>22.0</td>\n",
       "      <td>1</td>\n",
       "      <td>0</td>\n",
       "      <td>A/5 21171</td>\n",
       "      <td>7.2500</td>\n",
       "      <td>S</td>\n",
       "      <td>Mr</td>\n",
       "      <td>1</td>\n",
       "      <td>bin1</td>\n",
       "      <td>bro_sis</td>\n",
       "      <td>Adult</td>\n",
       "    </tr>\n",
       "    <tr>\n",
       "      <th>1</th>\n",
       "      <td>2</td>\n",
       "      <td>1</td>\n",
       "      <td>1</td>\n",
       "      <td>Cumings, Mrs. John Bradley (Florence Briggs Th...</td>\n",
       "      <td>female</td>\n",
       "      <td>38.0</td>\n",
       "      <td>1</td>\n",
       "      <td>0</td>\n",
       "      <td>PC 17599</td>\n",
       "      <td>71.2833</td>\n",
       "      <td>C</td>\n",
       "      <td>Mrs</td>\n",
       "      <td>1</td>\n",
       "      <td>bin4</td>\n",
       "      <td>bro_sis</td>\n",
       "      <td>Senior</td>\n",
       "    </tr>\n",
       "    <tr>\n",
       "      <th>2</th>\n",
       "      <td>3</td>\n",
       "      <td>1</td>\n",
       "      <td>3</td>\n",
       "      <td>Heikkinen, Miss. Laina</td>\n",
       "      <td>female</td>\n",
       "      <td>26.0</td>\n",
       "      <td>0</td>\n",
       "      <td>0</td>\n",
       "      <td>STON/O2. 3101282</td>\n",
       "      <td>7.9250</td>\n",
       "      <td>S</td>\n",
       "      <td>Miss</td>\n",
       "      <td>0</td>\n",
       "      <td>bin1</td>\n",
       "      <td>alone</td>\n",
       "      <td>Adult</td>\n",
       "    </tr>\n",
       "  </tbody>\n",
       "</table>\n",
       "</div>"
      ],
      "text/plain": [
       "   PassengerId  Survived  Pclass  \\\n",
       "0            1         0       3   \n",
       "1            2         1       1   \n",
       "2            3         1       3   \n",
       "\n",
       "                                                Name     Sex   Age  SibSp  \\\n",
       "0                            Braund, Mr. Owen Harris    male  22.0      1   \n",
       "1  Cumings, Mrs. John Bradley (Florence Briggs Th...  female  38.0      1   \n",
       "2                             Heikkinen, Miss. Laina  female  26.0      0   \n",
       "\n",
       "   Parch            Ticket     Fare Embarked Prefix  Family fare_bin  \\\n",
       "0      0         A/5 21171   7.2500        S     Mr       1     bin1   \n",
       "1      0          PC 17599  71.2833        C    Mrs       1     bin4   \n",
       "2      0  STON/O2. 3101282   7.9250        S   Miss       0     bin1   \n",
       "\n",
       "  Group_Size Age_Group  \n",
       "0    bro_sis     Adult  \n",
       "1    bro_sis    Senior  \n",
       "2      alone     Adult  "
      ]
     },
     "execution_count": 64,
     "metadata": {},
     "output_type": "execute_result"
    }
   ],
   "source": [
    "titanic_copy[\"Age_Group\"] = titanic_copy[\"Age\"].apply(age_group)\n",
    "titanic_copy.head(3)"
   ]
  },
  {
   "cell_type": "markdown",
   "metadata": {},
   "source": [
    "Now I just want to focus on the required columns and drop other ones. I will again make another copy of the dataframe so in case if I mess up nothing would change in \"titanic_copy\" dataframe"
   ]
  },
  {
   "cell_type": "code",
   "execution_count": 65,
   "metadata": {},
   "outputs": [
    {
     "data": {
      "text/html": [
       "<div>\n",
       "<style scoped>\n",
       "    .dataframe tbody tr th:only-of-type {\n",
       "        vertical-align: middle;\n",
       "    }\n",
       "\n",
       "    .dataframe tbody tr th {\n",
       "        vertical-align: top;\n",
       "    }\n",
       "\n",
       "    .dataframe thead th {\n",
       "        text-align: right;\n",
       "    }\n",
       "</style>\n",
       "<table border=\"1\" class=\"dataframe\">\n",
       "  <thead>\n",
       "    <tr style=\"text-align: right;\">\n",
       "      <th></th>\n",
       "      <th>PassengerId</th>\n",
       "      <th>Survived</th>\n",
       "      <th>Pclass</th>\n",
       "      <th>Name</th>\n",
       "      <th>Sex</th>\n",
       "      <th>Age</th>\n",
       "      <th>SibSp</th>\n",
       "      <th>Parch</th>\n",
       "      <th>Ticket</th>\n",
       "      <th>Fare</th>\n",
       "      <th>Embarked</th>\n",
       "      <th>Prefix</th>\n",
       "      <th>Family</th>\n",
       "      <th>fare_bin</th>\n",
       "      <th>Group_Size</th>\n",
       "      <th>Age_Group</th>\n",
       "    </tr>\n",
       "  </thead>\n",
       "  <tbody>\n",
       "    <tr>\n",
       "      <th>0</th>\n",
       "      <td>1</td>\n",
       "      <td>0</td>\n",
       "      <td>3</td>\n",
       "      <td>Braund, Mr. Owen Harris</td>\n",
       "      <td>male</td>\n",
       "      <td>22.0</td>\n",
       "      <td>1</td>\n",
       "      <td>0</td>\n",
       "      <td>A/5 21171</td>\n",
       "      <td>7.2500</td>\n",
       "      <td>S</td>\n",
       "      <td>Mr</td>\n",
       "      <td>1</td>\n",
       "      <td>bin1</td>\n",
       "      <td>bro_sis</td>\n",
       "      <td>Adult</td>\n",
       "    </tr>\n",
       "    <tr>\n",
       "      <th>1</th>\n",
       "      <td>2</td>\n",
       "      <td>1</td>\n",
       "      <td>1</td>\n",
       "      <td>Cumings, Mrs. John Bradley (Florence Briggs Th...</td>\n",
       "      <td>female</td>\n",
       "      <td>38.0</td>\n",
       "      <td>1</td>\n",
       "      <td>0</td>\n",
       "      <td>PC 17599</td>\n",
       "      <td>71.2833</td>\n",
       "      <td>C</td>\n",
       "      <td>Mrs</td>\n",
       "      <td>1</td>\n",
       "      <td>bin4</td>\n",
       "      <td>bro_sis</td>\n",
       "      <td>Senior</td>\n",
       "    </tr>\n",
       "    <tr>\n",
       "      <th>2</th>\n",
       "      <td>3</td>\n",
       "      <td>1</td>\n",
       "      <td>3</td>\n",
       "      <td>Heikkinen, Miss. Laina</td>\n",
       "      <td>female</td>\n",
       "      <td>26.0</td>\n",
       "      <td>0</td>\n",
       "      <td>0</td>\n",
       "      <td>STON/O2. 3101282</td>\n",
       "      <td>7.9250</td>\n",
       "      <td>S</td>\n",
       "      <td>Miss</td>\n",
       "      <td>0</td>\n",
       "      <td>bin1</td>\n",
       "      <td>alone</td>\n",
       "      <td>Adult</td>\n",
       "    </tr>\n",
       "  </tbody>\n",
       "</table>\n",
       "</div>"
      ],
      "text/plain": [
       "   PassengerId  Survived  Pclass  \\\n",
       "0            1         0       3   \n",
       "1            2         1       1   \n",
       "2            3         1       3   \n",
       "\n",
       "                                                Name     Sex   Age  SibSp  \\\n",
       "0                            Braund, Mr. Owen Harris    male  22.0      1   \n",
       "1  Cumings, Mrs. John Bradley (Florence Briggs Th...  female  38.0      1   \n",
       "2                             Heikkinen, Miss. Laina  female  26.0      0   \n",
       "\n",
       "   Parch            Ticket     Fare Embarked Prefix  Family fare_bin  \\\n",
       "0      0         A/5 21171   7.2500        S     Mr       1     bin1   \n",
       "1      0          PC 17599  71.2833        C    Mrs       1     bin4   \n",
       "2      0  STON/O2. 3101282   7.9250        S   Miss       0     bin1   \n",
       "\n",
       "  Group_Size Age_Group  \n",
       "0    bro_sis     Adult  \n",
       "1    bro_sis    Senior  \n",
       "2      alone     Adult  "
      ]
     },
     "execution_count": 65,
     "metadata": {},
     "output_type": "execute_result"
    }
   ],
   "source": [
    "required_df = titanic_copy.copy()\n",
    "required_df.head(3)"
   ]
  },
  {
   "cell_type": "code",
   "execution_count": 66,
   "metadata": {},
   "outputs": [
    {
     "data": {
      "text/html": [
       "<div>\n",
       "<style scoped>\n",
       "    .dataframe tbody tr th:only-of-type {\n",
       "        vertical-align: middle;\n",
       "    }\n",
       "\n",
       "    .dataframe tbody tr th {\n",
       "        vertical-align: top;\n",
       "    }\n",
       "\n",
       "    .dataframe thead th {\n",
       "        text-align: right;\n",
       "    }\n",
       "</style>\n",
       "<table border=\"1\" class=\"dataframe\">\n",
       "  <thead>\n",
       "    <tr style=\"text-align: right;\">\n",
       "      <th></th>\n",
       "      <th>PassengerId</th>\n",
       "      <th>Survived</th>\n",
       "      <th>Pclass</th>\n",
       "      <th>Sex</th>\n",
       "      <th>Age</th>\n",
       "      <th>Fare</th>\n",
       "      <th>Prefix</th>\n",
       "      <th>fare_bin</th>\n",
       "      <th>Group_Size</th>\n",
       "      <th>Age_Group</th>\n",
       "    </tr>\n",
       "  </thead>\n",
       "  <tbody>\n",
       "    <tr>\n",
       "      <th>0</th>\n",
       "      <td>1</td>\n",
       "      <td>0</td>\n",
       "      <td>3</td>\n",
       "      <td>male</td>\n",
       "      <td>22.0</td>\n",
       "      <td>7.2500</td>\n",
       "      <td>Mr</td>\n",
       "      <td>bin1</td>\n",
       "      <td>bro_sis</td>\n",
       "      <td>Adult</td>\n",
       "    </tr>\n",
       "    <tr>\n",
       "      <th>1</th>\n",
       "      <td>2</td>\n",
       "      <td>1</td>\n",
       "      <td>1</td>\n",
       "      <td>female</td>\n",
       "      <td>38.0</td>\n",
       "      <td>71.2833</td>\n",
       "      <td>Mrs</td>\n",
       "      <td>bin4</td>\n",
       "      <td>bro_sis</td>\n",
       "      <td>Senior</td>\n",
       "    </tr>\n",
       "    <tr>\n",
       "      <th>2</th>\n",
       "      <td>3</td>\n",
       "      <td>1</td>\n",
       "      <td>3</td>\n",
       "      <td>female</td>\n",
       "      <td>26.0</td>\n",
       "      <td>7.9250</td>\n",
       "      <td>Miss</td>\n",
       "      <td>bin1</td>\n",
       "      <td>alone</td>\n",
       "      <td>Adult</td>\n",
       "    </tr>\n",
       "  </tbody>\n",
       "</table>\n",
       "</div>"
      ],
      "text/plain": [
       "   PassengerId  Survived  Pclass     Sex   Age     Fare Prefix fare_bin  \\\n",
       "0            1         0       3    male  22.0   7.2500     Mr     bin1   \n",
       "1            2         1       1  female  38.0  71.2833    Mrs     bin4   \n",
       "2            3         1       3  female  26.0   7.9250   Miss     bin1   \n",
       "\n",
       "  Group_Size Age_Group  \n",
       "0    bro_sis     Adult  \n",
       "1    bro_sis    Senior  \n",
       "2      alone     Adult  "
      ]
     },
     "execution_count": 66,
     "metadata": {},
     "output_type": "execute_result"
    }
   ],
   "source": [
    "required_df.drop([\"Name\", \"Ticket\", \"Embarked\",\"Family\",\"SibSp\",\"Parch\"], axis =1, inplace = True)\n",
    "required_df.head(3)"
   ]
  },
  {
   "cell_type": "code",
   "execution_count": 67,
   "metadata": {},
   "outputs": [
    {
     "data": {
      "text/html": [
       "<div>\n",
       "<style scoped>\n",
       "    .dataframe tbody tr th:only-of-type {\n",
       "        vertical-align: middle;\n",
       "    }\n",
       "\n",
       "    .dataframe tbody tr th {\n",
       "        vertical-align: top;\n",
       "    }\n",
       "\n",
       "    .dataframe thead th {\n",
       "        text-align: right;\n",
       "    }\n",
       "</style>\n",
       "<table border=\"1\" class=\"dataframe\">\n",
       "  <thead>\n",
       "    <tr style=\"text-align: right;\">\n",
       "      <th></th>\n",
       "      <th>PassengerId</th>\n",
       "      <th>Sex_female</th>\n",
       "      <th>Sex_male</th>\n",
       "      <th>Prefix_Master</th>\n",
       "      <th>Prefix_Misc</th>\n",
       "      <th>Prefix_Miss</th>\n",
       "      <th>Prefix_Mr</th>\n",
       "      <th>Prefix_Mrs</th>\n",
       "      <th>fare_bin_bin1</th>\n",
       "      <th>fare_bin_bin2</th>\n",
       "      <th>...</th>\n",
       "      <th>Group_Size_group_of_7</th>\n",
       "      <th>Group_Size_group_of_8</th>\n",
       "      <th>Group_Size_parent_kid</th>\n",
       "      <th>Group_Size_parent_kids</th>\n",
       "      <th>Group_Size_unique</th>\n",
       "      <th>Age_Group_Adult</th>\n",
       "      <th>Age_Group_Child</th>\n",
       "      <th>Age_Group_Old</th>\n",
       "      <th>Age_Group_Senior</th>\n",
       "      <th>Age_Group_Super_senior</th>\n",
       "    </tr>\n",
       "  </thead>\n",
       "  <tbody>\n",
       "    <tr>\n",
       "      <th>0</th>\n",
       "      <td>1</td>\n",
       "      <td>0</td>\n",
       "      <td>1</td>\n",
       "      <td>0</td>\n",
       "      <td>0</td>\n",
       "      <td>0</td>\n",
       "      <td>1</td>\n",
       "      <td>0</td>\n",
       "      <td>1</td>\n",
       "      <td>0</td>\n",
       "      <td>...</td>\n",
       "      <td>0</td>\n",
       "      <td>0</td>\n",
       "      <td>0</td>\n",
       "      <td>0</td>\n",
       "      <td>0</td>\n",
       "      <td>1</td>\n",
       "      <td>0</td>\n",
       "      <td>0</td>\n",
       "      <td>0</td>\n",
       "      <td>0</td>\n",
       "    </tr>\n",
       "    <tr>\n",
       "      <th>1</th>\n",
       "      <td>2</td>\n",
       "      <td>1</td>\n",
       "      <td>0</td>\n",
       "      <td>0</td>\n",
       "      <td>0</td>\n",
       "      <td>0</td>\n",
       "      <td>0</td>\n",
       "      <td>1</td>\n",
       "      <td>0</td>\n",
       "      <td>0</td>\n",
       "      <td>...</td>\n",
       "      <td>0</td>\n",
       "      <td>0</td>\n",
       "      <td>0</td>\n",
       "      <td>0</td>\n",
       "      <td>0</td>\n",
       "      <td>0</td>\n",
       "      <td>0</td>\n",
       "      <td>0</td>\n",
       "      <td>1</td>\n",
       "      <td>0</td>\n",
       "    </tr>\n",
       "    <tr>\n",
       "      <th>2</th>\n",
       "      <td>3</td>\n",
       "      <td>1</td>\n",
       "      <td>0</td>\n",
       "      <td>0</td>\n",
       "      <td>0</td>\n",
       "      <td>1</td>\n",
       "      <td>0</td>\n",
       "      <td>0</td>\n",
       "      <td>1</td>\n",
       "      <td>0</td>\n",
       "      <td>...</td>\n",
       "      <td>0</td>\n",
       "      <td>0</td>\n",
       "      <td>0</td>\n",
       "      <td>0</td>\n",
       "      <td>0</td>\n",
       "      <td>1</td>\n",
       "      <td>0</td>\n",
       "      <td>0</td>\n",
       "      <td>0</td>\n",
       "      <td>0</td>\n",
       "    </tr>\n",
       "  </tbody>\n",
       "</table>\n",
       "<p>3 rows × 30 columns</p>\n",
       "</div>"
      ],
      "text/plain": [
       "   PassengerId  Sex_female  Sex_male  Prefix_Master  Prefix_Misc  Prefix_Miss  \\\n",
       "0            1           0         1              0            0            0   \n",
       "1            2           1         0              0            0            0   \n",
       "2            3           1         0              0            0            1   \n",
       "\n",
       "   Prefix_Mr  Prefix_Mrs  fare_bin_bin1  fare_bin_bin2  ...  \\\n",
       "0          1           0              1              0  ...   \n",
       "1          0           1              0              0  ...   \n",
       "2          0           0              1              0  ...   \n",
       "\n",
       "   Group_Size_group_of_7  Group_Size_group_of_8  Group_Size_parent_kid  \\\n",
       "0                      0                      0                      0   \n",
       "1                      0                      0                      0   \n",
       "2                      0                      0                      0   \n",
       "\n",
       "   Group_Size_parent_kids  Group_Size_unique  Age_Group_Adult  \\\n",
       "0                       0                  0                1   \n",
       "1                       0                  0                0   \n",
       "2                       0                  0                1   \n",
       "\n",
       "   Age_Group_Child  Age_Group_Old  Age_Group_Senior  Age_Group_Super_senior  \n",
       "0                0              0                 0                       0  \n",
       "1                0              0                 1                       0  \n",
       "2                0              0                 0                       0  \n",
       "\n",
       "[3 rows x 30 columns]"
      ]
     },
     "execution_count": 67,
     "metadata": {},
     "output_type": "execute_result"
    }
   ],
   "source": [
    "dummies = pd.get_dummies(required_df[[\"PassengerId\", \"Sex\", \"Prefix\",\"fare_bin\",\"Group_Size\",\"Age_Group\"]])\n",
    "dummies.head(3)"
   ]
  },
  {
   "cell_type": "code",
   "execution_count": 68,
   "metadata": {},
   "outputs": [
    {
     "data": {
      "text/html": [
       "<div>\n",
       "<style scoped>\n",
       "    .dataframe tbody tr th:only-of-type {\n",
       "        vertical-align: middle;\n",
       "    }\n",
       "\n",
       "    .dataframe tbody tr th {\n",
       "        vertical-align: top;\n",
       "    }\n",
       "\n",
       "    .dataframe thead th {\n",
       "        text-align: right;\n",
       "    }\n",
       "</style>\n",
       "<table border=\"1\" class=\"dataframe\">\n",
       "  <thead>\n",
       "    <tr style=\"text-align: right;\">\n",
       "      <th></th>\n",
       "      <th>PassengerId</th>\n",
       "      <th>Survived</th>\n",
       "      <th>Pclass</th>\n",
       "      <th>Sex</th>\n",
       "      <th>Age</th>\n",
       "      <th>Fare</th>\n",
       "      <th>Prefix</th>\n",
       "      <th>fare_bin</th>\n",
       "      <th>Group_Size</th>\n",
       "      <th>Age_Group</th>\n",
       "      <th>...</th>\n",
       "      <th>Group_Size_group_of_7</th>\n",
       "      <th>Group_Size_group_of_8</th>\n",
       "      <th>Group_Size_parent_kid</th>\n",
       "      <th>Group_Size_parent_kids</th>\n",
       "      <th>Group_Size_unique</th>\n",
       "      <th>Age_Group_Adult</th>\n",
       "      <th>Age_Group_Child</th>\n",
       "      <th>Age_Group_Old</th>\n",
       "      <th>Age_Group_Senior</th>\n",
       "      <th>Age_Group_Super_senior</th>\n",
       "    </tr>\n",
       "  </thead>\n",
       "  <tbody>\n",
       "    <tr>\n",
       "      <th>0</th>\n",
       "      <td>1</td>\n",
       "      <td>0</td>\n",
       "      <td>3</td>\n",
       "      <td>male</td>\n",
       "      <td>22.0</td>\n",
       "      <td>7.2500</td>\n",
       "      <td>Mr</td>\n",
       "      <td>bin1</td>\n",
       "      <td>bro_sis</td>\n",
       "      <td>Adult</td>\n",
       "      <td>...</td>\n",
       "      <td>0</td>\n",
       "      <td>0</td>\n",
       "      <td>0</td>\n",
       "      <td>0</td>\n",
       "      <td>0</td>\n",
       "      <td>1</td>\n",
       "      <td>0</td>\n",
       "      <td>0</td>\n",
       "      <td>0</td>\n",
       "      <td>0</td>\n",
       "    </tr>\n",
       "    <tr>\n",
       "      <th>1</th>\n",
       "      <td>2</td>\n",
       "      <td>1</td>\n",
       "      <td>1</td>\n",
       "      <td>female</td>\n",
       "      <td>38.0</td>\n",
       "      <td>71.2833</td>\n",
       "      <td>Mrs</td>\n",
       "      <td>bin4</td>\n",
       "      <td>bro_sis</td>\n",
       "      <td>Senior</td>\n",
       "      <td>...</td>\n",
       "      <td>0</td>\n",
       "      <td>0</td>\n",
       "      <td>0</td>\n",
       "      <td>0</td>\n",
       "      <td>0</td>\n",
       "      <td>0</td>\n",
       "      <td>0</td>\n",
       "      <td>0</td>\n",
       "      <td>1</td>\n",
       "      <td>0</td>\n",
       "    </tr>\n",
       "    <tr>\n",
       "      <th>2</th>\n",
       "      <td>3</td>\n",
       "      <td>1</td>\n",
       "      <td>3</td>\n",
       "      <td>female</td>\n",
       "      <td>26.0</td>\n",
       "      <td>7.9250</td>\n",
       "      <td>Miss</td>\n",
       "      <td>bin1</td>\n",
       "      <td>alone</td>\n",
       "      <td>Adult</td>\n",
       "      <td>...</td>\n",
       "      <td>0</td>\n",
       "      <td>0</td>\n",
       "      <td>0</td>\n",
       "      <td>0</td>\n",
       "      <td>0</td>\n",
       "      <td>1</td>\n",
       "      <td>0</td>\n",
       "      <td>0</td>\n",
       "      <td>0</td>\n",
       "      <td>0</td>\n",
       "    </tr>\n",
       "  </tbody>\n",
       "</table>\n",
       "<p>3 rows × 39 columns</p>\n",
       "</div>"
      ],
      "text/plain": [
       "   PassengerId  Survived  Pclass     Sex   Age     Fare Prefix fare_bin  \\\n",
       "0            1         0       3    male  22.0   7.2500     Mr     bin1   \n",
       "1            2         1       1  female  38.0  71.2833    Mrs     bin4   \n",
       "2            3         1       3  female  26.0   7.9250   Miss     bin1   \n",
       "\n",
       "  Group_Size Age_Group  ...  Group_Size_group_of_7  Group_Size_group_of_8  \\\n",
       "0    bro_sis     Adult  ...                      0                      0   \n",
       "1    bro_sis    Senior  ...                      0                      0   \n",
       "2      alone     Adult  ...                      0                      0   \n",
       "\n",
       "   Group_Size_parent_kid  Group_Size_parent_kids  Group_Size_unique  \\\n",
       "0                      0                       0                  0   \n",
       "1                      0                       0                  0   \n",
       "2                      0                       0                  0   \n",
       "\n",
       "   Age_Group_Adult  Age_Group_Child  Age_Group_Old  Age_Group_Senior  \\\n",
       "0                1                0              0                 0   \n",
       "1                0                0              0                 1   \n",
       "2                1                0              0                 0   \n",
       "\n",
       "   Age_Group_Super_senior  \n",
       "0                       0  \n",
       "1                       0  \n",
       "2                       0  \n",
       "\n",
       "[3 rows x 39 columns]"
      ]
     },
     "execution_count": 68,
     "metadata": {},
     "output_type": "execute_result"
    }
   ],
   "source": [
    "required_df = pd.merge(required_df, dummies, on = \"PassengerId\")\n",
    "required_df.head(3)"
   ]
  },
  {
   "cell_type": "code",
   "execution_count": 69,
   "metadata": {},
   "outputs": [
    {
     "name": "stdout",
     "output_type": "stream",
     "text": [
      "Shape of required_df: (891, 39)\n",
      "Shape of required_df: (891, 30)\n"
     ]
    }
   ],
   "source": [
    "print(\"Shape of required_df: {}\".format(required_df.shape))\n",
    "print(\"Shape of required_df: {}\".format(dummies.shape))\n"
   ]
  },
  {
   "cell_type": "markdown",
   "metadata": {},
   "source": [
    "I have just kept the passanger Id column for ease of operation such as merging or joint or anything like that. Looking at the shape of both the dataframes it seems that merging is successfuly performed"
   ]
  },
  {
   "cell_type": "code",
   "execution_count": 70,
   "metadata": {},
   "outputs": [
    {
     "data": {
      "text/plain": [
       "Index(['PassengerId', 'Survived', 'Pclass', 'Sex', 'Age', 'Fare', 'Prefix',\n",
       "       'fare_bin', 'Group_Size', 'Age_Group', 'Sex_female', 'Sex_male',\n",
       "       'Prefix_Master', 'Prefix_Misc', 'Prefix_Miss', 'Prefix_Mr',\n",
       "       'Prefix_Mrs', 'fare_bin_bin1', 'fare_bin_bin2', 'fare_bin_bin3',\n",
       "       'fare_bin_bin4', 'Group_Size_alone', 'Group_Size_bro_sis',\n",
       "       'Group_Size_bros_sises', 'Group_Size_group_of_11',\n",
       "       'Group_Size_group_of_3', 'Group_Size_group_of_4',\n",
       "       'Group_Size_group_of_5', 'Group_Size_group_of_6',\n",
       "       'Group_Size_group_of_7', 'Group_Size_group_of_8',\n",
       "       'Group_Size_parent_kid', 'Group_Size_parent_kids', 'Group_Size_unique',\n",
       "       'Age_Group_Adult', 'Age_Group_Child', 'Age_Group_Old',\n",
       "       'Age_Group_Senior', 'Age_Group_Super_senior'],\n",
       "      dtype='object')"
      ]
     },
     "execution_count": 70,
     "metadata": {},
     "output_type": "execute_result"
    }
   ],
   "source": [
    "required_df.columns"
   ]
  },
  {
   "cell_type": "markdown",
   "metadata": {},
   "source": [
    "# TEST FILE"
   ]
  },
  {
   "cell_type": "markdown",
   "metadata": {},
   "source": [
    "I have worked on the test file seperately and not in combination of the train file just for my own ease"
   ]
  },
  {
   "cell_type": "code",
   "execution_count": 71,
   "metadata": {},
   "outputs": [
    {
     "data": {
      "text/html": [
       "<div>\n",
       "<style scoped>\n",
       "    .dataframe tbody tr th:only-of-type {\n",
       "        vertical-align: middle;\n",
       "    }\n",
       "\n",
       "    .dataframe tbody tr th {\n",
       "        vertical-align: top;\n",
       "    }\n",
       "\n",
       "    .dataframe thead th {\n",
       "        text-align: right;\n",
       "    }\n",
       "</style>\n",
       "<table border=\"1\" class=\"dataframe\">\n",
       "  <thead>\n",
       "    <tr style=\"text-align: right;\">\n",
       "      <th></th>\n",
       "      <th>PassengerId</th>\n",
       "      <th>Pclass</th>\n",
       "      <th>Name</th>\n",
       "      <th>Sex</th>\n",
       "      <th>Age</th>\n",
       "      <th>SibSp</th>\n",
       "      <th>Parch</th>\n",
       "      <th>Ticket</th>\n",
       "      <th>Fare</th>\n",
       "      <th>Cabin</th>\n",
       "      <th>Embarked</th>\n",
       "    </tr>\n",
       "  </thead>\n",
       "  <tbody>\n",
       "    <tr>\n",
       "      <th>0</th>\n",
       "      <td>892</td>\n",
       "      <td>3</td>\n",
       "      <td>Kelly, Mr. James</td>\n",
       "      <td>male</td>\n",
       "      <td>34.5</td>\n",
       "      <td>0</td>\n",
       "      <td>0</td>\n",
       "      <td>330911</td>\n",
       "      <td>7.8292</td>\n",
       "      <td>NaN</td>\n",
       "      <td>Q</td>\n",
       "    </tr>\n",
       "    <tr>\n",
       "      <th>1</th>\n",
       "      <td>893</td>\n",
       "      <td>3</td>\n",
       "      <td>Wilkes, Mrs. James (Ellen Needs)</td>\n",
       "      <td>female</td>\n",
       "      <td>47.0</td>\n",
       "      <td>1</td>\n",
       "      <td>0</td>\n",
       "      <td>363272</td>\n",
       "      <td>7.0000</td>\n",
       "      <td>NaN</td>\n",
       "      <td>S</td>\n",
       "    </tr>\n",
       "    <tr>\n",
       "      <th>2</th>\n",
       "      <td>894</td>\n",
       "      <td>2</td>\n",
       "      <td>Myles, Mr. Thomas Francis</td>\n",
       "      <td>male</td>\n",
       "      <td>62.0</td>\n",
       "      <td>0</td>\n",
       "      <td>0</td>\n",
       "      <td>240276</td>\n",
       "      <td>9.6875</td>\n",
       "      <td>NaN</td>\n",
       "      <td>Q</td>\n",
       "    </tr>\n",
       "    <tr>\n",
       "      <th>3</th>\n",
       "      <td>895</td>\n",
       "      <td>3</td>\n",
       "      <td>Wirz, Mr. Albert</td>\n",
       "      <td>male</td>\n",
       "      <td>27.0</td>\n",
       "      <td>0</td>\n",
       "      <td>0</td>\n",
       "      <td>315154</td>\n",
       "      <td>8.6625</td>\n",
       "      <td>NaN</td>\n",
       "      <td>S</td>\n",
       "    </tr>\n",
       "    <tr>\n",
       "      <th>4</th>\n",
       "      <td>896</td>\n",
       "      <td>3</td>\n",
       "      <td>Hirvonen, Mrs. Alexander (Helga E Lindqvist)</td>\n",
       "      <td>female</td>\n",
       "      <td>22.0</td>\n",
       "      <td>1</td>\n",
       "      <td>1</td>\n",
       "      <td>3101298</td>\n",
       "      <td>12.2875</td>\n",
       "      <td>NaN</td>\n",
       "      <td>S</td>\n",
       "    </tr>\n",
       "  </tbody>\n",
       "</table>\n",
       "</div>"
      ],
      "text/plain": [
       "   PassengerId  Pclass                                          Name     Sex  \\\n",
       "0          892       3                              Kelly, Mr. James    male   \n",
       "1          893       3              Wilkes, Mrs. James (Ellen Needs)  female   \n",
       "2          894       2                     Myles, Mr. Thomas Francis    male   \n",
       "3          895       3                              Wirz, Mr. Albert    male   \n",
       "4          896       3  Hirvonen, Mrs. Alexander (Helga E Lindqvist)  female   \n",
       "\n",
       "    Age  SibSp  Parch   Ticket     Fare Cabin Embarked  \n",
       "0  34.5      0      0   330911   7.8292   NaN        Q  \n",
       "1  47.0      1      0   363272   7.0000   NaN        S  \n",
       "2  62.0      0      0   240276   9.6875   NaN        Q  \n",
       "3  27.0      0      0   315154   8.6625   NaN        S  \n",
       "4  22.0      1      1  3101298  12.2875   NaN        S  "
      ]
     },
     "execution_count": 71,
     "metadata": {},
     "output_type": "execute_result"
    }
   ],
   "source": [
    "test_titanic = pd.read_csv(\"test.csv\")\n",
    "test_titanic.head()"
   ]
  },
  {
   "cell_type": "code",
   "execution_count": 72,
   "metadata": {},
   "outputs": [
    {
     "name": "stdout",
     "output_type": "stream",
     "text": [
      "<class 'pandas.core.frame.DataFrame'>\n",
      "RangeIndex: 418 entries, 0 to 417\n",
      "Data columns (total 11 columns):\n",
      "PassengerId    418 non-null int64\n",
      "Pclass         418 non-null int64\n",
      "Name           418 non-null object\n",
      "Sex            418 non-null object\n",
      "Age            332 non-null float64\n",
      "SibSp          418 non-null int64\n",
      "Parch          418 non-null int64\n",
      "Ticket         418 non-null object\n",
      "Fare           417 non-null float64\n",
      "Cabin          91 non-null object\n",
      "Embarked       418 non-null object\n",
      "dtypes: float64(2), int64(4), object(5)\n",
      "memory usage: 36.0+ KB\n"
     ]
    }
   ],
   "source": [
    "test_titanic.info()"
   ]
  },
  {
   "cell_type": "code",
   "execution_count": 73,
   "metadata": {},
   "outputs": [
    {
     "data": {
      "text/html": [
       "<div>\n",
       "<style scoped>\n",
       "    .dataframe tbody tr th:only-of-type {\n",
       "        vertical-align: middle;\n",
       "    }\n",
       "\n",
       "    .dataframe tbody tr th {\n",
       "        vertical-align: top;\n",
       "    }\n",
       "\n",
       "    .dataframe thead th {\n",
       "        text-align: right;\n",
       "    }\n",
       "</style>\n",
       "<table border=\"1\" class=\"dataframe\">\n",
       "  <thead>\n",
       "    <tr style=\"text-align: right;\">\n",
       "      <th></th>\n",
       "      <th>PassengerId</th>\n",
       "      <th>Pclass</th>\n",
       "      <th>Name</th>\n",
       "      <th>Sex</th>\n",
       "      <th>Age</th>\n",
       "      <th>SibSp</th>\n",
       "      <th>Parch</th>\n",
       "      <th>Ticket</th>\n",
       "      <th>Fare</th>\n",
       "      <th>Cabin</th>\n",
       "      <th>Embarked</th>\n",
       "      <th>Family</th>\n",
       "    </tr>\n",
       "  </thead>\n",
       "  <tbody>\n",
       "    <tr>\n",
       "      <th>0</th>\n",
       "      <td>892</td>\n",
       "      <td>3</td>\n",
       "      <td>Kelly, Mr. James</td>\n",
       "      <td>male</td>\n",
       "      <td>34.5</td>\n",
       "      <td>0</td>\n",
       "      <td>0</td>\n",
       "      <td>330911</td>\n",
       "      <td>7.8292</td>\n",
       "      <td>NaN</td>\n",
       "      <td>Q</td>\n",
       "      <td>0</td>\n",
       "    </tr>\n",
       "    <tr>\n",
       "      <th>1</th>\n",
       "      <td>893</td>\n",
       "      <td>3</td>\n",
       "      <td>Wilkes, Mrs. James (Ellen Needs)</td>\n",
       "      <td>female</td>\n",
       "      <td>47.0</td>\n",
       "      <td>1</td>\n",
       "      <td>0</td>\n",
       "      <td>363272</td>\n",
       "      <td>7.0000</td>\n",
       "      <td>NaN</td>\n",
       "      <td>S</td>\n",
       "      <td>1</td>\n",
       "    </tr>\n",
       "    <tr>\n",
       "      <th>2</th>\n",
       "      <td>894</td>\n",
       "      <td>2</td>\n",
       "      <td>Myles, Mr. Thomas Francis</td>\n",
       "      <td>male</td>\n",
       "      <td>62.0</td>\n",
       "      <td>0</td>\n",
       "      <td>0</td>\n",
       "      <td>240276</td>\n",
       "      <td>9.6875</td>\n",
       "      <td>NaN</td>\n",
       "      <td>Q</td>\n",
       "      <td>0</td>\n",
       "    </tr>\n",
       "  </tbody>\n",
       "</table>\n",
       "</div>"
      ],
      "text/plain": [
       "   PassengerId  Pclass                              Name     Sex   Age  SibSp  \\\n",
       "0          892       3                  Kelly, Mr. James    male  34.5      0   \n",
       "1          893       3  Wilkes, Mrs. James (Ellen Needs)  female  47.0      1   \n",
       "2          894       2         Myles, Mr. Thomas Francis    male  62.0      0   \n",
       "\n",
       "   Parch  Ticket    Fare Cabin Embarked  Family  \n",
       "0      0  330911  7.8292   NaN        Q       0  \n",
       "1      0  363272  7.0000   NaN        S       1  \n",
       "2      0  240276  9.6875   NaN        Q       0  "
      ]
     },
     "execution_count": 73,
     "metadata": {},
     "output_type": "execute_result"
    }
   ],
   "source": [
    "#Family or Alone\n",
    "\n",
    "test_titanic[\"Family\"] = test_titanic[[\"SibSp\", \"Parch\"]].apply(alone, axis = 1)\n",
    "test_titanic[\"Family\"].loc[test_titanic[\"Family\"]>0] = 1\n",
    "test_titanic[\"Family\"].loc[test_titanic[\"Family\"]==0] = 0\n",
    "test_titanic.head(3)"
   ]
  },
  {
   "cell_type": "code",
   "execution_count": 74,
   "metadata": {},
   "outputs": [
    {
     "data": {
      "text/html": [
       "<div>\n",
       "<style scoped>\n",
       "    .dataframe tbody tr th:only-of-type {\n",
       "        vertical-align: middle;\n",
       "    }\n",
       "\n",
       "    .dataframe tbody tr th {\n",
       "        vertical-align: top;\n",
       "    }\n",
       "\n",
       "    .dataframe thead th {\n",
       "        text-align: right;\n",
       "    }\n",
       "</style>\n",
       "<table border=\"1\" class=\"dataframe\">\n",
       "  <thead>\n",
       "    <tr style=\"text-align: right;\">\n",
       "      <th></th>\n",
       "      <th>PassengerId</th>\n",
       "      <th>Pclass</th>\n",
       "      <th>Name</th>\n",
       "      <th>Sex</th>\n",
       "      <th>Age</th>\n",
       "      <th>SibSp</th>\n",
       "      <th>Parch</th>\n",
       "      <th>Ticket</th>\n",
       "      <th>Fare</th>\n",
       "      <th>Cabin</th>\n",
       "      <th>Embarked</th>\n",
       "      <th>Family</th>\n",
       "      <th>Prefix</th>\n",
       "    </tr>\n",
       "  </thead>\n",
       "  <tbody>\n",
       "    <tr>\n",
       "      <th>0</th>\n",
       "      <td>892</td>\n",
       "      <td>3</td>\n",
       "      <td>Kelly, Mr. James</td>\n",
       "      <td>male</td>\n",
       "      <td>34.5</td>\n",
       "      <td>0</td>\n",
       "      <td>0</td>\n",
       "      <td>330911</td>\n",
       "      <td>7.8292</td>\n",
       "      <td>NaN</td>\n",
       "      <td>Q</td>\n",
       "      <td>0</td>\n",
       "      <td>Mr</td>\n",
       "    </tr>\n",
       "    <tr>\n",
       "      <th>1</th>\n",
       "      <td>893</td>\n",
       "      <td>3</td>\n",
       "      <td>Wilkes, Mrs. James (Ellen Needs)</td>\n",
       "      <td>female</td>\n",
       "      <td>47.0</td>\n",
       "      <td>1</td>\n",
       "      <td>0</td>\n",
       "      <td>363272</td>\n",
       "      <td>7.0000</td>\n",
       "      <td>NaN</td>\n",
       "      <td>S</td>\n",
       "      <td>1</td>\n",
       "      <td>Mrs</td>\n",
       "    </tr>\n",
       "    <tr>\n",
       "      <th>2</th>\n",
       "      <td>894</td>\n",
       "      <td>2</td>\n",
       "      <td>Myles, Mr. Thomas Francis</td>\n",
       "      <td>male</td>\n",
       "      <td>62.0</td>\n",
       "      <td>0</td>\n",
       "      <td>0</td>\n",
       "      <td>240276</td>\n",
       "      <td>9.6875</td>\n",
       "      <td>NaN</td>\n",
       "      <td>Q</td>\n",
       "      <td>0</td>\n",
       "      <td>Mr</td>\n",
       "    </tr>\n",
       "    <tr>\n",
       "      <th>3</th>\n",
       "      <td>895</td>\n",
       "      <td>3</td>\n",
       "      <td>Wirz, Mr. Albert</td>\n",
       "      <td>male</td>\n",
       "      <td>27.0</td>\n",
       "      <td>0</td>\n",
       "      <td>0</td>\n",
       "      <td>315154</td>\n",
       "      <td>8.6625</td>\n",
       "      <td>NaN</td>\n",
       "      <td>S</td>\n",
       "      <td>0</td>\n",
       "      <td>Mr</td>\n",
       "    </tr>\n",
       "    <tr>\n",
       "      <th>4</th>\n",
       "      <td>896</td>\n",
       "      <td>3</td>\n",
       "      <td>Hirvonen, Mrs. Alexander (Helga E Lindqvist)</td>\n",
       "      <td>female</td>\n",
       "      <td>22.0</td>\n",
       "      <td>1</td>\n",
       "      <td>1</td>\n",
       "      <td>3101298</td>\n",
       "      <td>12.2875</td>\n",
       "      <td>NaN</td>\n",
       "      <td>S</td>\n",
       "      <td>1</td>\n",
       "      <td>Mrs</td>\n",
       "    </tr>\n",
       "  </tbody>\n",
       "</table>\n",
       "</div>"
      ],
      "text/plain": [
       "   PassengerId  Pclass                                          Name     Sex  \\\n",
       "0          892       3                              Kelly, Mr. James    male   \n",
       "1          893       3              Wilkes, Mrs. James (Ellen Needs)  female   \n",
       "2          894       2                     Myles, Mr. Thomas Francis    male   \n",
       "3          895       3                              Wirz, Mr. Albert    male   \n",
       "4          896       3  Hirvonen, Mrs. Alexander (Helga E Lindqvist)  female   \n",
       "\n",
       "    Age  SibSp  Parch   Ticket     Fare Cabin Embarked  Family Prefix  \n",
       "0  34.5      0      0   330911   7.8292   NaN        Q       0     Mr  \n",
       "1  47.0      1      0   363272   7.0000   NaN        S       1    Mrs  \n",
       "2  62.0      0      0   240276   9.6875   NaN        Q       0     Mr  \n",
       "3  27.0      0      0   315154   8.6625   NaN        S       0     Mr  \n",
       "4  22.0      1      1  3101298  12.2875   NaN        S       1    Mrs  "
      ]
     },
     "execution_count": 74,
     "metadata": {},
     "output_type": "execute_result"
    }
   ],
   "source": [
    "#Creating a new column \"Prefix\" which will have all the values like \"Mr\", \"Mrs\", \"Miss\" etc...\n",
    "test_titanic[\"Prefix\"] = test_titanic[\"Name\"].apply(person_status)\n",
    "\n",
    "test_titanic.head()"
   ]
  },
  {
   "cell_type": "code",
   "execution_count": 75,
   "metadata": {},
   "outputs": [
    {
     "name": "stderr",
     "output_type": "stream",
     "text": [
      "C:\\Users\\Vismay\\AppData\\Local\\Continuum\\anaconda3\\lib\\site-packages\\ipykernel_launcher.py:3: SettingWithCopyWarning: \n",
      "A value is trying to be set on a copy of a slice from a DataFrame\n",
      "\n",
      "See the caveats in the documentation: http://pandas.pydata.org/pandas-docs/stable/indexing.html#indexing-view-versus-copy\n",
      "  This is separate from the ipykernel package so we can avoid doing imports until\n"
     ]
    },
    {
     "data": {
      "text/html": [
       "<div>\n",
       "<style scoped>\n",
       "    .dataframe tbody tr th:only-of-type {\n",
       "        vertical-align: middle;\n",
       "    }\n",
       "\n",
       "    .dataframe tbody tr th {\n",
       "        vertical-align: top;\n",
       "    }\n",
       "\n",
       "    .dataframe thead th {\n",
       "        text-align: right;\n",
       "    }\n",
       "</style>\n",
       "<table border=\"1\" class=\"dataframe\">\n",
       "  <thead>\n",
       "    <tr style=\"text-align: right;\">\n",
       "      <th></th>\n",
       "      <th>PassengerId</th>\n",
       "      <th>Pclass</th>\n",
       "      <th>Name</th>\n",
       "      <th>Sex</th>\n",
       "      <th>Age</th>\n",
       "      <th>SibSp</th>\n",
       "      <th>Parch</th>\n",
       "      <th>Ticket</th>\n",
       "      <th>Fare</th>\n",
       "      <th>Cabin</th>\n",
       "      <th>Embarked</th>\n",
       "      <th>Family</th>\n",
       "      <th>Prefix</th>\n",
       "    </tr>\n",
       "  </thead>\n",
       "  <tbody>\n",
       "    <tr>\n",
       "      <th>0</th>\n",
       "      <td>892</td>\n",
       "      <td>3</td>\n",
       "      <td>Kelly, Mr. James</td>\n",
       "      <td>male</td>\n",
       "      <td>34.5</td>\n",
       "      <td>0</td>\n",
       "      <td>0</td>\n",
       "      <td>330911</td>\n",
       "      <td>7.8292</td>\n",
       "      <td>NaN</td>\n",
       "      <td>Q</td>\n",
       "      <td>0</td>\n",
       "      <td>Mr</td>\n",
       "    </tr>\n",
       "    <tr>\n",
       "      <th>1</th>\n",
       "      <td>893</td>\n",
       "      <td>3</td>\n",
       "      <td>Wilkes, Mrs. James (Ellen Needs)</td>\n",
       "      <td>female</td>\n",
       "      <td>47.0</td>\n",
       "      <td>1</td>\n",
       "      <td>0</td>\n",
       "      <td>363272</td>\n",
       "      <td>7.0000</td>\n",
       "      <td>NaN</td>\n",
       "      <td>S</td>\n",
       "      <td>1</td>\n",
       "      <td>Mrs</td>\n",
       "    </tr>\n",
       "    <tr>\n",
       "      <th>2</th>\n",
       "      <td>894</td>\n",
       "      <td>2</td>\n",
       "      <td>Myles, Mr. Thomas Francis</td>\n",
       "      <td>male</td>\n",
       "      <td>62.0</td>\n",
       "      <td>0</td>\n",
       "      <td>0</td>\n",
       "      <td>240276</td>\n",
       "      <td>9.6875</td>\n",
       "      <td>NaN</td>\n",
       "      <td>Q</td>\n",
       "      <td>0</td>\n",
       "      <td>Mr</td>\n",
       "    </tr>\n",
       "  </tbody>\n",
       "</table>\n",
       "</div>"
      ],
      "text/plain": [
       "   PassengerId  Pclass                              Name     Sex   Age  SibSp  \\\n",
       "0          892       3                  Kelly, Mr. James    male  34.5      0   \n",
       "1          893       3  Wilkes, Mrs. James (Ellen Needs)  female  47.0      1   \n",
       "2          894       2         Myles, Mr. Thomas Francis    male  62.0      0   \n",
       "\n",
       "   Parch  Ticket    Fare Cabin Embarked  Family Prefix  \n",
       "0      0  330911  7.8292   NaN        Q       0     Mr  \n",
       "1      0  363272  7.0000   NaN        S       1    Mrs  \n",
       "2      0  240276  9.6875   NaN        Q       0     Mr  "
      ]
     },
     "execution_count": 75,
     "metadata": {},
     "output_type": "execute_result"
    }
   ],
   "source": [
    "for i in range(0, len(test_titanic)):\n",
    "    if test_titanic[\"Prefix\"][i] not in [\"Mr\", \"Mrs\", \"Miss\", \"Master\"]:\n",
    "        test_titanic[\"Prefix\"][i] = \"Misc\"\n",
    "test_titanic.head(3)"
   ]
  },
  {
   "cell_type": "code",
   "execution_count": 76,
   "metadata": {},
   "outputs": [
    {
     "data": {
      "text/plain": [
       "418"
      ]
     },
     "execution_count": 76,
     "metadata": {},
     "output_type": "execute_result"
    }
   ],
   "source": [
    "#All the values are filled up\n",
    "\n",
    "sum(test_titanic[\"Prefix\"].value_counts())"
   ]
  },
  {
   "cell_type": "markdown",
   "metadata": {},
   "source": [
    "While computing the \"Age\" parameter I figured out that the way I have computed the ages in the train dataset doesn't exactly go for test datset as well. There are couple of rows which have different values than what we saw in the train dataset so I have to put the ages manually there"
   ]
  },
  {
   "cell_type": "code",
   "execution_count": 77,
   "metadata": {},
   "outputs": [
    {
     "data": {
      "text/plain": [
       "PassengerId                        980\n",
       "Pclass                               3\n",
       "Name           O'Donoghue, Ms. Bridget\n",
       "Sex                             female\n",
       "Age                                NaN\n",
       "SibSp                                0\n",
       "Parch                                0\n",
       "Ticket                          364856\n",
       "Fare                              7.75\n",
       "Cabin                              NaN\n",
       "Embarked                             Q\n",
       "Family                               0\n",
       "Prefix                            Misc\n",
       "Name: 88, dtype: object"
      ]
     },
     "execution_count": 77,
     "metadata": {},
     "output_type": "execute_result"
    }
   ],
   "source": [
    "# 1)\n",
    "\n",
    "test_titanic.iloc[88]"
   ]
  },
  {
   "cell_type": "code",
   "execution_count": 78,
   "metadata": {},
   "outputs": [
    {
     "name": "stdout",
     "output_type": "stream",
     "text": [
      "44.0\n"
     ]
    }
   ],
   "source": [
    "#I would use the median value of all the Misc of the training dataset\n",
    "\n",
    "print(titanic_copy[titanic_copy[\"Prefix\"] == \"Misc\"][\"Age\"].median())"
   ]
  },
  {
   "cell_type": "code",
   "execution_count": 79,
   "metadata": {},
   "outputs": [],
   "source": [
    "test_titanic.iloc[88,4] = 44"
   ]
  },
  {
   "cell_type": "code",
   "execution_count": 80,
   "metadata": {},
   "outputs": [
    {
     "data": {
      "text/plain": [
       "PassengerId                     1231\n",
       "Pclass                             3\n",
       "Name           Betros, Master. Seman\n",
       "Sex                             male\n",
       "Age                              NaN\n",
       "SibSp                              0\n",
       "Parch                              0\n",
       "Ticket                          2622\n",
       "Fare                          7.2292\n",
       "Cabin                            NaN\n",
       "Embarked                           C\n",
       "Family                             0\n",
       "Prefix                        Master\n",
       "Name: 339, dtype: object"
      ]
     },
     "execution_count": 80,
     "metadata": {},
     "output_type": "execute_result"
    }
   ],
   "source": [
    "# 2)\n",
    "\n",
    "test_titanic.iloc[339]"
   ]
  },
  {
   "cell_type": "code",
   "execution_count": 81,
   "metadata": {},
   "outputs": [
    {
     "data": {
      "text/plain": [
       "4.0"
      ]
     },
     "execution_count": 81,
     "metadata": {},
     "output_type": "execute_result"
    }
   ],
   "source": [
    "#I would use the median value of all the Misc of the training dataset\n",
    "\n",
    "titanic_copy[titanic_copy[\"Prefix\"] == \"Master\"][\"Age\"].median()"
   ]
  },
  {
   "cell_type": "code",
   "execution_count": 82,
   "metadata": {},
   "outputs": [],
   "source": [
    "test_titanic.iloc[339,4] = 4"
   ]
  },
  {
   "cell_type": "code",
   "execution_count": 83,
   "metadata": {},
   "outputs": [],
   "source": [
    "#Replacing the Null values of \"Age\"\n",
    "\n",
    "def fill_age(row):\n",
    "    condition = (\n",
    "        (age_df['Pclass'] == row['Pclass']) & \n",
    "        (age_df['Prefix'] == row['Prefix']) & \n",
    "        (age_df['Family'] == row['Family'])\n",
    "    ) \n",
    "    return age_df[condition]['Age'].values[0]\n",
    "\n",
    "\n",
    "def process_age():\n",
    "    global test_titanic\n",
    "    # a function that fills the missing values of the Age variable\n",
    "    test_titanic['Age'] = test_titanic.apply(lambda row: fill_age(row) if np.isnan(row['Age']) else row['Age'], axis=1)\n",
    "    return test_titanic\n",
    "\n",
    "test_titanic = process_age()"
   ]
  },
  {
   "cell_type": "code",
   "execution_count": 84,
   "metadata": {},
   "outputs": [
    {
     "name": "stdout",
     "output_type": "stream",
     "text": [
      "<class 'pandas.core.frame.DataFrame'>\n",
      "RangeIndex: 418 entries, 0 to 417\n",
      "Data columns (total 13 columns):\n",
      "PassengerId    418 non-null int64\n",
      "Pclass         418 non-null int64\n",
      "Name           418 non-null object\n",
      "Sex            418 non-null object\n",
      "Age            418 non-null float64\n",
      "SibSp          418 non-null int64\n",
      "Parch          418 non-null int64\n",
      "Ticket         418 non-null object\n",
      "Fare           417 non-null float64\n",
      "Cabin          91 non-null object\n",
      "Embarked       418 non-null object\n",
      "Family         418 non-null int64\n",
      "Prefix         418 non-null object\n",
      "dtypes: float64(2), int64(5), object(6)\n",
      "memory usage: 42.5+ KB\n"
     ]
    }
   ],
   "source": [
    "test_titanic.info()"
   ]
  },
  {
   "cell_type": "code",
   "execution_count": 85,
   "metadata": {},
   "outputs": [
    {
     "data": {
      "text/plain": [
       "PassengerId                  1044\n",
       "Pclass                          3\n",
       "Name           Storey, Mr. Thomas\n",
       "Sex                          male\n",
       "Age                          60.5\n",
       "SibSp                           0\n",
       "Parch                           0\n",
       "Ticket                       3701\n",
       "Fare                          NaN\n",
       "Cabin                         NaN\n",
       "Embarked                        S\n",
       "Family                          0\n",
       "Prefix                         Mr\n",
       "Name: 152, dtype: object"
      ]
     },
     "execution_count": 85,
     "metadata": {},
     "output_type": "execute_result"
    }
   ],
   "source": [
    "#Using the heatmap we can figure out the Missing Fare location\n",
    "test_titanic.iloc[152]"
   ]
  },
  {
   "cell_type": "code",
   "execution_count": 86,
   "metadata": {},
   "outputs": [
    {
     "data": {
      "text/plain": [
       "8.05"
      ]
     },
     "execution_count": 86,
     "metadata": {},
     "output_type": "execute_result"
    }
   ],
   "source": [
    "#Simply used same Pclass to fill the value of Fare\n",
    "\n",
    "titanic_copy[titanic_copy[\"Pclass\"] == 3][\"Fare\"].median()"
   ]
  },
  {
   "cell_type": "code",
   "execution_count": 87,
   "metadata": {},
   "outputs": [],
   "source": [
    "test_titanic.iloc[152,8] = 8.05"
   ]
  },
  {
   "cell_type": "code",
   "execution_count": 88,
   "metadata": {},
   "outputs": [
    {
     "name": "stdout",
     "output_type": "stream",
     "text": [
      "<class 'pandas.core.frame.DataFrame'>\n",
      "RangeIndex: 418 entries, 0 to 417\n",
      "Data columns (total 13 columns):\n",
      "PassengerId    418 non-null int64\n",
      "Pclass         418 non-null int64\n",
      "Name           418 non-null object\n",
      "Sex            418 non-null object\n",
      "Age            418 non-null float64\n",
      "SibSp          418 non-null int64\n",
      "Parch          418 non-null int64\n",
      "Ticket         418 non-null object\n",
      "Fare           418 non-null float64\n",
      "Cabin          91 non-null object\n",
      "Embarked       418 non-null object\n",
      "Family         418 non-null int64\n",
      "Prefix         418 non-null object\n",
      "dtypes: float64(2), int64(5), object(6)\n",
      "memory usage: 42.5+ KB\n"
     ]
    }
   ],
   "source": [
    "test_titanic.info()"
   ]
  },
  {
   "cell_type": "code",
   "execution_count": 89,
   "metadata": {},
   "outputs": [],
   "source": [
    "#Group sizes\n",
    "\n",
    "test_titanic[\"Group_Size\"] = test_titanic[[\"SibSp\", \"Parch\"]].apply(group_size, axis = 1)"
   ]
  },
  {
   "cell_type": "code",
   "execution_count": 90,
   "metadata": {},
   "outputs": [],
   "source": [
    "#Age_Group\n",
    "\n",
    "test_titanic[\"Age_Group\"] = test_titanic[\"Age\"].apply(age_group)"
   ]
  },
  {
   "cell_type": "code",
   "execution_count": 91,
   "metadata": {},
   "outputs": [],
   "source": [
    "#Fare Bins\n",
    "\n",
    "test_titanic[\"fare_bin\"] = test_titanic[\"Fare\"].apply(fare_bin)"
   ]
  },
  {
   "cell_type": "code",
   "execution_count": 92,
   "metadata": {},
   "outputs": [
    {
     "data": {
      "text/html": [
       "<div>\n",
       "<style scoped>\n",
       "    .dataframe tbody tr th:only-of-type {\n",
       "        vertical-align: middle;\n",
       "    }\n",
       "\n",
       "    .dataframe tbody tr th {\n",
       "        vertical-align: top;\n",
       "    }\n",
       "\n",
       "    .dataframe thead th {\n",
       "        text-align: right;\n",
       "    }\n",
       "</style>\n",
       "<table border=\"1\" class=\"dataframe\">\n",
       "  <thead>\n",
       "    <tr style=\"text-align: right;\">\n",
       "      <th></th>\n",
       "      <th>PassengerId</th>\n",
       "      <th>Pclass</th>\n",
       "      <th>Name</th>\n",
       "      <th>Sex</th>\n",
       "      <th>Age</th>\n",
       "      <th>SibSp</th>\n",
       "      <th>Parch</th>\n",
       "      <th>Ticket</th>\n",
       "      <th>Fare</th>\n",
       "      <th>Cabin</th>\n",
       "      <th>Embarked</th>\n",
       "      <th>Family</th>\n",
       "      <th>Prefix</th>\n",
       "      <th>Group_Size</th>\n",
       "      <th>Age_Group</th>\n",
       "      <th>fare_bin</th>\n",
       "    </tr>\n",
       "  </thead>\n",
       "  <tbody>\n",
       "    <tr>\n",
       "      <th>0</th>\n",
       "      <td>892</td>\n",
       "      <td>3</td>\n",
       "      <td>Kelly, Mr. James</td>\n",
       "      <td>male</td>\n",
       "      <td>34.5</td>\n",
       "      <td>0</td>\n",
       "      <td>0</td>\n",
       "      <td>330911</td>\n",
       "      <td>7.8292</td>\n",
       "      <td>NaN</td>\n",
       "      <td>Q</td>\n",
       "      <td>0</td>\n",
       "      <td>Mr</td>\n",
       "      <td>alone</td>\n",
       "      <td>Senior</td>\n",
       "      <td>bin1</td>\n",
       "    </tr>\n",
       "    <tr>\n",
       "      <th>1</th>\n",
       "      <td>893</td>\n",
       "      <td>3</td>\n",
       "      <td>Wilkes, Mrs. James (Ellen Needs)</td>\n",
       "      <td>female</td>\n",
       "      <td>47.0</td>\n",
       "      <td>1</td>\n",
       "      <td>0</td>\n",
       "      <td>363272</td>\n",
       "      <td>7.0000</td>\n",
       "      <td>NaN</td>\n",
       "      <td>S</td>\n",
       "      <td>1</td>\n",
       "      <td>Mrs</td>\n",
       "      <td>bro_sis</td>\n",
       "      <td>Super_senior</td>\n",
       "      <td>bin1</td>\n",
       "    </tr>\n",
       "    <tr>\n",
       "      <th>2</th>\n",
       "      <td>894</td>\n",
       "      <td>2</td>\n",
       "      <td>Myles, Mr. Thomas Francis</td>\n",
       "      <td>male</td>\n",
       "      <td>62.0</td>\n",
       "      <td>0</td>\n",
       "      <td>0</td>\n",
       "      <td>240276</td>\n",
       "      <td>9.6875</td>\n",
       "      <td>NaN</td>\n",
       "      <td>Q</td>\n",
       "      <td>0</td>\n",
       "      <td>Mr</td>\n",
       "      <td>alone</td>\n",
       "      <td>Old</td>\n",
       "      <td>bin2</td>\n",
       "    </tr>\n",
       "  </tbody>\n",
       "</table>\n",
       "</div>"
      ],
      "text/plain": [
       "   PassengerId  Pclass                              Name     Sex   Age  SibSp  \\\n",
       "0          892       3                  Kelly, Mr. James    male  34.5      0   \n",
       "1          893       3  Wilkes, Mrs. James (Ellen Needs)  female  47.0      1   \n",
       "2          894       2         Myles, Mr. Thomas Francis    male  62.0      0   \n",
       "\n",
       "   Parch  Ticket    Fare Cabin Embarked  Family Prefix Group_Size  \\\n",
       "0      0  330911  7.8292   NaN        Q       0     Mr      alone   \n",
       "1      0  363272  7.0000   NaN        S       1    Mrs    bro_sis   \n",
       "2      0  240276  9.6875   NaN        Q       0     Mr      alone   \n",
       "\n",
       "      Age_Group fare_bin  \n",
       "0        Senior     bin1  \n",
       "1  Super_senior     bin1  \n",
       "2           Old     bin2  "
      ]
     },
     "execution_count": 92,
     "metadata": {},
     "output_type": "execute_result"
    }
   ],
   "source": [
    "test_titanic.head(3)"
   ]
  },
  {
   "cell_type": "code",
   "execution_count": 93,
   "metadata": {},
   "outputs": [
    {
     "data": {
      "text/html": [
       "<div>\n",
       "<style scoped>\n",
       "    .dataframe tbody tr th:only-of-type {\n",
       "        vertical-align: middle;\n",
       "    }\n",
       "\n",
       "    .dataframe tbody tr th {\n",
       "        vertical-align: top;\n",
       "    }\n",
       "\n",
       "    .dataframe thead th {\n",
       "        text-align: right;\n",
       "    }\n",
       "</style>\n",
       "<table border=\"1\" class=\"dataframe\">\n",
       "  <thead>\n",
       "    <tr style=\"text-align: right;\">\n",
       "      <th></th>\n",
       "      <th>PassengerId</th>\n",
       "      <th>Prefix_Master</th>\n",
       "      <th>Prefix_Misc</th>\n",
       "      <th>Prefix_Miss</th>\n",
       "      <th>Prefix_Mr</th>\n",
       "      <th>Prefix_Mrs</th>\n",
       "      <th>Sex_female</th>\n",
       "      <th>Sex_male</th>\n",
       "      <th>Age_Group_Adult</th>\n",
       "      <th>Age_Group_Child</th>\n",
       "      <th>...</th>\n",
       "      <th>Group_Size_group_of_5</th>\n",
       "      <th>Group_Size_group_of_6</th>\n",
       "      <th>Group_Size_group_of_7</th>\n",
       "      <th>Group_Size_group_of_8</th>\n",
       "      <th>Group_Size_parent_kid</th>\n",
       "      <th>Group_Size_parent_kids</th>\n",
       "      <th>fare_bin_bin1</th>\n",
       "      <th>fare_bin_bin2</th>\n",
       "      <th>fare_bin_bin3</th>\n",
       "      <th>fare_bin_bin4</th>\n",
       "    </tr>\n",
       "  </thead>\n",
       "  <tbody>\n",
       "    <tr>\n",
       "      <th>0</th>\n",
       "      <td>892</td>\n",
       "      <td>0</td>\n",
       "      <td>0</td>\n",
       "      <td>0</td>\n",
       "      <td>1</td>\n",
       "      <td>0</td>\n",
       "      <td>0</td>\n",
       "      <td>1</td>\n",
       "      <td>0</td>\n",
       "      <td>0</td>\n",
       "      <td>...</td>\n",
       "      <td>0</td>\n",
       "      <td>0</td>\n",
       "      <td>0</td>\n",
       "      <td>0</td>\n",
       "      <td>0</td>\n",
       "      <td>0</td>\n",
       "      <td>1</td>\n",
       "      <td>0</td>\n",
       "      <td>0</td>\n",
       "      <td>0</td>\n",
       "    </tr>\n",
       "    <tr>\n",
       "      <th>1</th>\n",
       "      <td>893</td>\n",
       "      <td>0</td>\n",
       "      <td>0</td>\n",
       "      <td>0</td>\n",
       "      <td>0</td>\n",
       "      <td>1</td>\n",
       "      <td>1</td>\n",
       "      <td>0</td>\n",
       "      <td>0</td>\n",
       "      <td>0</td>\n",
       "      <td>...</td>\n",
       "      <td>0</td>\n",
       "      <td>0</td>\n",
       "      <td>0</td>\n",
       "      <td>0</td>\n",
       "      <td>0</td>\n",
       "      <td>0</td>\n",
       "      <td>1</td>\n",
       "      <td>0</td>\n",
       "      <td>0</td>\n",
       "      <td>0</td>\n",
       "    </tr>\n",
       "    <tr>\n",
       "      <th>2</th>\n",
       "      <td>894</td>\n",
       "      <td>0</td>\n",
       "      <td>0</td>\n",
       "      <td>0</td>\n",
       "      <td>1</td>\n",
       "      <td>0</td>\n",
       "      <td>0</td>\n",
       "      <td>1</td>\n",
       "      <td>0</td>\n",
       "      <td>0</td>\n",
       "      <td>...</td>\n",
       "      <td>0</td>\n",
       "      <td>0</td>\n",
       "      <td>0</td>\n",
       "      <td>0</td>\n",
       "      <td>0</td>\n",
       "      <td>0</td>\n",
       "      <td>0</td>\n",
       "      <td>1</td>\n",
       "      <td>0</td>\n",
       "      <td>0</td>\n",
       "    </tr>\n",
       "  </tbody>\n",
       "</table>\n",
       "<p>3 rows × 29 columns</p>\n",
       "</div>"
      ],
      "text/plain": [
       "   PassengerId  Prefix_Master  Prefix_Misc  Prefix_Miss  Prefix_Mr  \\\n",
       "0          892              0            0            0          1   \n",
       "1          893              0            0            0          0   \n",
       "2          894              0            0            0          1   \n",
       "\n",
       "   Prefix_Mrs  Sex_female  Sex_male  Age_Group_Adult  Age_Group_Child  ...  \\\n",
       "0           0           0         1                0                0  ...   \n",
       "1           1           1         0                0                0  ...   \n",
       "2           0           0         1                0                0  ...   \n",
       "\n",
       "   Group_Size_group_of_5  Group_Size_group_of_6  Group_Size_group_of_7  \\\n",
       "0                      0                      0                      0   \n",
       "1                      0                      0                      0   \n",
       "2                      0                      0                      0   \n",
       "\n",
       "   Group_Size_group_of_8  Group_Size_parent_kid  Group_Size_parent_kids  \\\n",
       "0                      0                      0                       0   \n",
       "1                      0                      0                       0   \n",
       "2                      0                      0                       0   \n",
       "\n",
       "   fare_bin_bin1  fare_bin_bin2  fare_bin_bin3  fare_bin_bin4  \n",
       "0              1              0              0              0  \n",
       "1              1              0              0              0  \n",
       "2              0              1              0              0  \n",
       "\n",
       "[3 rows x 29 columns]"
      ]
     },
     "execution_count": 93,
     "metadata": {},
     "output_type": "execute_result"
    }
   ],
   "source": [
    "test_dummies = pd.get_dummies(test_titanic[[\"PassengerId\", \"Prefix\", \"Sex\",\"Age_Group\", \"Group_Size\", \"fare_bin\"]])\n",
    "test_dummies.head(3)"
   ]
  },
  {
   "cell_type": "code",
   "execution_count": 94,
   "metadata": {},
   "outputs": [
    {
     "data": {
      "text/html": [
       "<div>\n",
       "<style scoped>\n",
       "    .dataframe tbody tr th:only-of-type {\n",
       "        vertical-align: middle;\n",
       "    }\n",
       "\n",
       "    .dataframe tbody tr th {\n",
       "        vertical-align: top;\n",
       "    }\n",
       "\n",
       "    .dataframe thead th {\n",
       "        text-align: right;\n",
       "    }\n",
       "</style>\n",
       "<table border=\"1\" class=\"dataframe\">\n",
       "  <thead>\n",
       "    <tr style=\"text-align: right;\">\n",
       "      <th></th>\n",
       "      <th>PassengerId</th>\n",
       "      <th>Pclass</th>\n",
       "      <th>Name</th>\n",
       "      <th>Sex</th>\n",
       "      <th>Age</th>\n",
       "      <th>SibSp</th>\n",
       "      <th>Parch</th>\n",
       "      <th>Ticket</th>\n",
       "      <th>Fare</th>\n",
       "      <th>Cabin</th>\n",
       "      <th>...</th>\n",
       "      <th>Group_Size_group_of_5</th>\n",
       "      <th>Group_Size_group_of_6</th>\n",
       "      <th>Group_Size_group_of_7</th>\n",
       "      <th>Group_Size_group_of_8</th>\n",
       "      <th>Group_Size_parent_kid</th>\n",
       "      <th>Group_Size_parent_kids</th>\n",
       "      <th>fare_bin_bin1</th>\n",
       "      <th>fare_bin_bin2</th>\n",
       "      <th>fare_bin_bin3</th>\n",
       "      <th>fare_bin_bin4</th>\n",
       "    </tr>\n",
       "  </thead>\n",
       "  <tbody>\n",
       "    <tr>\n",
       "      <th>0</th>\n",
       "      <td>892</td>\n",
       "      <td>3</td>\n",
       "      <td>Kelly, Mr. James</td>\n",
       "      <td>male</td>\n",
       "      <td>34.5</td>\n",
       "      <td>0</td>\n",
       "      <td>0</td>\n",
       "      <td>330911</td>\n",
       "      <td>7.8292</td>\n",
       "      <td>NaN</td>\n",
       "      <td>...</td>\n",
       "      <td>0</td>\n",
       "      <td>0</td>\n",
       "      <td>0</td>\n",
       "      <td>0</td>\n",
       "      <td>0</td>\n",
       "      <td>0</td>\n",
       "      <td>1</td>\n",
       "      <td>0</td>\n",
       "      <td>0</td>\n",
       "      <td>0</td>\n",
       "    </tr>\n",
       "    <tr>\n",
       "      <th>1</th>\n",
       "      <td>893</td>\n",
       "      <td>3</td>\n",
       "      <td>Wilkes, Mrs. James (Ellen Needs)</td>\n",
       "      <td>female</td>\n",
       "      <td>47.0</td>\n",
       "      <td>1</td>\n",
       "      <td>0</td>\n",
       "      <td>363272</td>\n",
       "      <td>7.0000</td>\n",
       "      <td>NaN</td>\n",
       "      <td>...</td>\n",
       "      <td>0</td>\n",
       "      <td>0</td>\n",
       "      <td>0</td>\n",
       "      <td>0</td>\n",
       "      <td>0</td>\n",
       "      <td>0</td>\n",
       "      <td>1</td>\n",
       "      <td>0</td>\n",
       "      <td>0</td>\n",
       "      <td>0</td>\n",
       "    </tr>\n",
       "    <tr>\n",
       "      <th>2</th>\n",
       "      <td>894</td>\n",
       "      <td>2</td>\n",
       "      <td>Myles, Mr. Thomas Francis</td>\n",
       "      <td>male</td>\n",
       "      <td>62.0</td>\n",
       "      <td>0</td>\n",
       "      <td>0</td>\n",
       "      <td>240276</td>\n",
       "      <td>9.6875</td>\n",
       "      <td>NaN</td>\n",
       "      <td>...</td>\n",
       "      <td>0</td>\n",
       "      <td>0</td>\n",
       "      <td>0</td>\n",
       "      <td>0</td>\n",
       "      <td>0</td>\n",
       "      <td>0</td>\n",
       "      <td>0</td>\n",
       "      <td>1</td>\n",
       "      <td>0</td>\n",
       "      <td>0</td>\n",
       "    </tr>\n",
       "  </tbody>\n",
       "</table>\n",
       "<p>3 rows × 44 columns</p>\n",
       "</div>"
      ],
      "text/plain": [
       "   PassengerId  Pclass                              Name     Sex   Age  SibSp  \\\n",
       "0          892       3                  Kelly, Mr. James    male  34.5      0   \n",
       "1          893       3  Wilkes, Mrs. James (Ellen Needs)  female  47.0      1   \n",
       "2          894       2         Myles, Mr. Thomas Francis    male  62.0      0   \n",
       "\n",
       "   Parch  Ticket    Fare Cabin  ... Group_Size_group_of_5  \\\n",
       "0      0  330911  7.8292   NaN  ...                     0   \n",
       "1      0  363272  7.0000   NaN  ...                     0   \n",
       "2      0  240276  9.6875   NaN  ...                     0   \n",
       "\n",
       "   Group_Size_group_of_6 Group_Size_group_of_7 Group_Size_group_of_8  \\\n",
       "0                      0                     0                     0   \n",
       "1                      0                     0                     0   \n",
       "2                      0                     0                     0   \n",
       "\n",
       "  Group_Size_parent_kid Group_Size_parent_kids  fare_bin_bin1  fare_bin_bin2  \\\n",
       "0                     0                      0              1              0   \n",
       "1                     0                      0              1              0   \n",
       "2                     0                      0              0              1   \n",
       "\n",
       "   fare_bin_bin3  fare_bin_bin4  \n",
       "0              0              0  \n",
       "1              0              0  \n",
       "2              0              0  \n",
       "\n",
       "[3 rows x 44 columns]"
      ]
     },
     "execution_count": 94,
     "metadata": {},
     "output_type": "execute_result"
    }
   ],
   "source": [
    "test_titanic = pd.merge(test_titanic, test_dummies, on = \"PassengerId\")\n",
    "test_titanic.head(3)"
   ]
  },
  {
   "cell_type": "code",
   "execution_count": 95,
   "metadata": {},
   "outputs": [
    {
     "name": "stdout",
     "output_type": "stream",
     "text": [
      "Shape of required_df: (418, 44)\n",
      "Shape of required_df: (418, 29)\n"
     ]
    }
   ],
   "source": [
    "print(\"Shape of required_df: {}\".format(test_titanic.shape))\n",
    "print(\"Shape of required_df: {}\".format(test_dummies.shape))"
   ]
  },
  {
   "cell_type": "markdown",
   "metadata": {},
   "source": [
    "Merging has performed Successfully"
   ]
  },
  {
   "cell_type": "markdown",
   "metadata": {},
   "source": [
    "## Application of Machine Learning Begins From Here"
   ]
  },
  {
   "cell_type": "code",
   "execution_count": 96,
   "metadata": {},
   "outputs": [],
   "source": [
    "from sklearn.model_selection import train_test_split\n",
    "from sklearn.metrics import classification_report, confusion_matrix, accuracy_score, f1_score, jaccard_similarity_score\n",
    "from sklearn.model_selection import GridSearchCV\n",
    "\n",
    "from sklearn.linear_model import LogisticRegression\n",
    "from sklearn.ensemble import RandomForestClassifier "
   ]
  },
  {
   "cell_type": "code",
   "execution_count": 97,
   "metadata": {},
   "outputs": [],
   "source": [
    "X = required_df[[\"Pclass\", \"Age\", 'fare_bin_bin2', 'fare_bin_bin3','fare_bin_bin4',\n",
    "                 \"Sex_male\", \"Prefix_Miss\", \"Prefix_Mr\",\"Prefix_Mrs\",\n",
    "                 'Group_Size_bro_sis', 'Group_Size_bros_sises', 'Group_Size_group_of_11', 'Group_Size_group_of_3', \n",
    "                 'Group_Size_group_of_4', 'Group_Size_group_of_5', 'Group_Size_group_of_6', 'Group_Size_group_of_7', \n",
    "                 'Group_Size_group_of_8', 'Group_Size_parent_kid', 'Group_Size_parent_kids']]\n",
    "                 \n",
    "\n",
    "y = required_df[\"Survived\"] "
   ]
  },
  {
   "cell_type": "code",
   "execution_count": 100,
   "metadata": {},
   "outputs": [
    {
     "name": "stdout",
     "output_type": "stream",
     "text": [
      "              precision    recall  f1-score   support\n",
      "\n",
      "           0       0.84      0.86      0.85       175\n",
      "           1       0.79      0.77      0.78       120\n",
      "\n",
      "   micro avg       0.82      0.82      0.82       295\n",
      "   macro avg       0.81      0.81      0.81       295\n",
      "weighted avg       0.82      0.82      0.82       295\n",
      "\n",
      "[[150  25]\n",
      " [ 28  92]]\n",
      "Accuracy score: 0.8203389830508474\n",
      "f1-score: 0.7763713080168777\n",
      "jaccard similarity socre: 0.8203389830508474\n"
     ]
    }
   ],
   "source": [
    "X_train, X_test, y_train, y_test = train_test_split(X,y, test_size = 0.33, random_state = 42)\n",
    "logreg1 = LogisticRegression(solver=\"liblinear\")\n",
    "logreg1.fit(X_train, y_train)\n",
    "logreg1_pred = logreg1.predict(X_test)\n",
    "\n",
    "\n",
    "print(classification_report(y_test, logreg1_pred))\n",
    "print(confusion_matrix(y_test, logreg1_pred))\n",
    "print(\"Accuracy score: {}\".format(accuracy_score(y_test, logreg1_pred)))\n",
    "print(\"f1-score: {}\".format(f1_score(y_test, logreg1_pred)))\n",
    "print(\"jaccard similarity socre: {}\".format(jaccard_similarity_score(y_test, logreg1_pred)))\n"
   ]
  },
  {
   "cell_type": "code",
   "execution_count": 99,
   "metadata": {},
   "outputs": [
    {
     "name": "stdout",
     "output_type": "stream",
     "text": [
      "Fitting 5 folds for each of 30 candidates, totalling 150 fits\n",
      "[CV] C=0.001, penalty=l2, solver=liblinear ...........................\n",
      "[CV]  C=0.001, penalty=l2, solver=liblinear, score=0.625, total=   0.0s\n",
      "[CV] C=0.001, penalty=l2, solver=liblinear ...........................\n",
      "[CV]  C=0.001, penalty=l2, solver=liblinear, score=0.625, total=   0.0s\n",
      "[CV] C=0.001, penalty=l2, solver=liblinear ...........................\n",
      "[CV]  C=0.001, penalty=l2, solver=liblinear, score=0.6302521008403361, total=   0.0s\n",
      "[CV] C=0.001, penalty=l2, solver=liblinear ...........................\n",
      "[CV]  C=0.001, penalty=l2, solver=liblinear, score=0.6302521008403361, total=   0.0s\n",
      "[CV] C=0.001, penalty=l2, solver=liblinear ...........................\n",
      "[CV]  C=0.001, penalty=l2, solver=liblinear, score=0.6271186440677966, total=   0.0s\n",
      "[CV] C=0.001, penalty=l2, solver=newton-cg ...........................\n",
      "[CV]  C=0.001, penalty=l2, solver=newton-cg, score=0.625, total=   0.0s\n",
      "[CV] C=0.001, penalty=l2, solver=newton-cg ...........................\n",
      "[CV]  C=0.001, penalty=l2, solver=newton-cg, score=0.625, total=   0.0s\n",
      "[CV] C=0.001, penalty=l2, solver=newton-cg ...........................\n",
      "[CV]  C=0.001, penalty=l2, solver=newton-cg, score=0.6302521008403361, total=   0.0s\n",
      "[CV] C=0.001, penalty=l2, solver=newton-cg ...........................\n",
      "[CV]  C=0.001, penalty=l2, solver=newton-cg, score=0.6302521008403361, total=   0.0s\n",
      "[CV] C=0.001, penalty=l2, solver=newton-cg ...........................\n",
      "[CV]  C=0.001, penalty=l2, solver=newton-cg, score=0.6271186440677966, total=   0.0s\n",
      "[CV] C=0.001, penalty=l2, solver=sag .................................\n"
     ]
    },
    {
     "name": "stderr",
     "output_type": "stream",
     "text": [
      "[Parallel(n_jobs=1)]: Using backend SequentialBackend with 1 concurrent workers.\n",
      "[Parallel(n_jobs=1)]: Done   1 out of   1 | elapsed:    0.0s remaining:    0.0s\n",
      "[Parallel(n_jobs=1)]: Done   2 out of   2 | elapsed:    0.0s remaining:    0.0s\n",
      "C:\\Users\\Vismay\\AppData\\Local\\Continuum\\anaconda3\\lib\\site-packages\\sklearn\\linear_model\\sag.py:334: ConvergenceWarning: The max_iter was reached which means the coef_ did not converge\n",
      "  \"the coef_ did not converge\", ConvergenceWarning)\n",
      "C:\\Users\\Vismay\\AppData\\Local\\Continuum\\anaconda3\\lib\\site-packages\\sklearn\\linear_model\\sag.py:334: ConvergenceWarning: The max_iter was reached which means the coef_ did not converge\n",
      "  \"the coef_ did not converge\", ConvergenceWarning)\n",
      "C:\\Users\\Vismay\\AppData\\Local\\Continuum\\anaconda3\\lib\\site-packages\\sklearn\\linear_model\\sag.py:334: ConvergenceWarning: The max_iter was reached which means the coef_ did not converge\n",
      "  \"the coef_ did not converge\", ConvergenceWarning)\n",
      "C:\\Users\\Vismay\\AppData\\Local\\Continuum\\anaconda3\\lib\\site-packages\\sklearn\\linear_model\\sag.py:334: ConvergenceWarning: The max_iter was reached which means the coef_ did not converge\n",
      "  \"the coef_ did not converge\", ConvergenceWarning)\n"
     ]
    },
    {
     "name": "stdout",
     "output_type": "stream",
     "text": [
      "[CV] ..... C=0.001, penalty=l2, solver=sag, score=0.625, total=   0.0s\n",
      "[CV] C=0.001, penalty=l2, solver=sag .................................\n",
      "[CV] ..... C=0.001, penalty=l2, solver=sag, score=0.625, total=   0.0s\n",
      "[CV] C=0.001, penalty=l2, solver=sag .................................\n",
      "[CV]  C=0.001, penalty=l2, solver=sag, score=0.6302521008403361, total=   0.0s\n",
      "[CV] C=0.001, penalty=l2, solver=sag .................................\n",
      "[CV]  C=0.001, penalty=l2, solver=sag, score=0.6302521008403361, total=   0.0s\n",
      "[CV] C=0.001, penalty=l2, solver=sag .................................\n",
      "[CV]  C=0.001, penalty=l2, solver=sag, score=0.6271186440677966, total=   0.0s\n",
      "[CV] C=0.001, penalty=l2, solver=lbfgs ...............................\n",
      "[CV] ... C=0.001, penalty=l2, solver=lbfgs, score=0.625, total=   0.0s\n",
      "[CV] C=0.001, penalty=l2, solver=lbfgs ...............................\n",
      "[CV] ... C=0.001, penalty=l2, solver=lbfgs, score=0.625, total=   0.0s\n",
      "[CV] C=0.001, penalty=l2, solver=lbfgs ...............................\n",
      "[CV]  C=0.001, penalty=l2, solver=lbfgs, score=0.6302521008403361, total=   0.0s\n",
      "[CV] C=0.001, penalty=l2, solver=lbfgs ...............................\n",
      "[CV]  C=0.001, penalty=l2, solver=lbfgs, score=0.6302521008403361, total=   0.0s\n",
      "[CV] C=0.001, penalty=l2, solver=lbfgs ...............................\n",
      "[CV]  C=0.001, penalty=l2, solver=lbfgs, score=0.6271186440677966, total=   0.0s\n",
      "[CV] C=0.001, penalty=l2, solver=saga ................................\n",
      "[CV] .... C=0.001, penalty=l2, solver=saga, score=0.625, total=   0.0s\n",
      "[CV] C=0.001, penalty=l2, solver=saga ................................\n"
     ]
    },
    {
     "name": "stderr",
     "output_type": "stream",
     "text": [
      "C:\\Users\\Vismay\\AppData\\Local\\Continuum\\anaconda3\\lib\\site-packages\\sklearn\\linear_model\\sag.py:334: ConvergenceWarning: The max_iter was reached which means the coef_ did not converge\n",
      "  \"the coef_ did not converge\", ConvergenceWarning)\n",
      "C:\\Users\\Vismay\\AppData\\Local\\Continuum\\anaconda3\\lib\\site-packages\\sklearn\\linear_model\\sag.py:334: ConvergenceWarning: The max_iter was reached which means the coef_ did not converge\n",
      "  \"the coef_ did not converge\", ConvergenceWarning)\n",
      "C:\\Users\\Vismay\\AppData\\Local\\Continuum\\anaconda3\\lib\\site-packages\\sklearn\\linear_model\\sag.py:334: ConvergenceWarning: The max_iter was reached which means the coef_ did not converge\n",
      "  \"the coef_ did not converge\", ConvergenceWarning)\n"
     ]
    },
    {
     "name": "stdout",
     "output_type": "stream",
     "text": [
      "[CV] .... C=0.001, penalty=l2, solver=saga, score=0.625, total=   0.0s\n",
      "[CV] C=0.001, penalty=l2, solver=saga ................................\n",
      "[CV]  C=0.001, penalty=l2, solver=saga, score=0.6302521008403361, total=   0.0s\n",
      "[CV] C=0.001, penalty=l2, solver=saga ................................\n",
      "[CV]  C=0.001, penalty=l2, solver=saga, score=0.6302521008403361, total=   0.0s\n",
      "[CV] C=0.001, penalty=l2, solver=saga ................................\n",
      "[CV]  C=0.001, penalty=l2, solver=saga, score=0.6271186440677966, total=   0.0s\n",
      "[CV] C=0.01, penalty=l2, solver=liblinear ............................\n",
      "[CV]  C=0.01, penalty=l2, solver=liblinear, score=0.7583333333333333, total=   0.0s\n",
      "[CV] C=0.01, penalty=l2, solver=liblinear ............................\n",
      "[CV]  C=0.01, penalty=l2, solver=liblinear, score=0.7416666666666667, total=   0.0s\n",
      "[CV] C=0.01, penalty=l2, solver=liblinear ............................\n",
      "[CV]  C=0.01, penalty=l2, solver=liblinear, score=0.7478991596638656, total=   0.0s\n",
      "[CV] C=0.01, penalty=l2, solver=liblinear ............................\n",
      "[CV]  C=0.01, penalty=l2, solver=liblinear, score=0.7142857142857143, total=   0.0s\n",
      "[CV] C=0.01, penalty=l2, solver=liblinear ............................\n",
      "[CV]  C=0.01, penalty=l2, solver=liblinear, score=0.7627118644067796, total=   0.0s\n",
      "[CV] C=0.01, penalty=l2, solver=newton-cg ............................\n",
      "[CV]  C=0.01, penalty=l2, solver=newton-cg, score=0.775, total=   0.0s\n",
      "[CV] C=0.01, penalty=l2, solver=newton-cg ............................\n",
      "[CV]  C=0.01, penalty=l2, solver=newton-cg, score=0.7916666666666666, total=   0.0s\n",
      "[CV] C=0.01, penalty=l2, solver=newton-cg ............................\n",
      "[CV]  C=0.01, penalty=l2, solver=newton-cg, score=0.7310924369747899, total=   0.0s\n",
      "[CV] C=0.01, penalty=l2, solver=newton-cg ............................\n",
      "[CV]  C=0.01, penalty=l2, solver=newton-cg, score=0.7142857142857143, total=   0.0s\n",
      "[CV] C=0.01, penalty=l2, solver=newton-cg ............................\n",
      "[CV]  C=0.01, penalty=l2, solver=newton-cg, score=0.8050847457627118, total=   0.0s\n",
      "[CV] C=0.01, penalty=l2, solver=sag ..................................\n"
     ]
    },
    {
     "name": "stderr",
     "output_type": "stream",
     "text": [
      "C:\\Users\\Vismay\\AppData\\Local\\Continuum\\anaconda3\\lib\\site-packages\\sklearn\\linear_model\\sag.py:334: ConvergenceWarning: The max_iter was reached which means the coef_ did not converge\n",
      "  \"the coef_ did not converge\", ConvergenceWarning)\n",
      "C:\\Users\\Vismay\\AppData\\Local\\Continuum\\anaconda3\\lib\\site-packages\\sklearn\\linear_model\\sag.py:334: ConvergenceWarning: The max_iter was reached which means the coef_ did not converge\n",
      "  \"the coef_ did not converge\", ConvergenceWarning)\n",
      "C:\\Users\\Vismay\\AppData\\Local\\Continuum\\anaconda3\\lib\\site-packages\\sklearn\\linear_model\\sag.py:334: ConvergenceWarning: The max_iter was reached which means the coef_ did not converge\n",
      "  \"the coef_ did not converge\", ConvergenceWarning)\n",
      "C:\\Users\\Vismay\\AppData\\Local\\Continuum\\anaconda3\\lib\\site-packages\\sklearn\\linear_model\\sag.py:334: ConvergenceWarning: The max_iter was reached which means the coef_ did not converge\n",
      "  \"the coef_ did not converge\", ConvergenceWarning)\n",
      "C:\\Users\\Vismay\\AppData\\Local\\Continuum\\anaconda3\\lib\\site-packages\\sklearn\\linear_model\\sag.py:334: ConvergenceWarning: The max_iter was reached which means the coef_ did not converge\n",
      "  \"the coef_ did not converge\", ConvergenceWarning)\n"
     ]
    },
    {
     "name": "stdout",
     "output_type": "stream",
     "text": [
      "[CV]  C=0.01, penalty=l2, solver=sag, score=0.7666666666666667, total=   0.0s\n",
      "[CV] C=0.01, penalty=l2, solver=sag ..................................\n",
      "[CV]  C=0.01, penalty=l2, solver=sag, score=0.7583333333333333, total=   0.0s\n",
      "[CV] C=0.01, penalty=l2, solver=sag ..................................\n",
      "[CV]  C=0.01, penalty=l2, solver=sag, score=0.7647058823529411, total=   0.0s\n",
      "[CV] C=0.01, penalty=l2, solver=sag ..................................\n",
      "[CV]  C=0.01, penalty=l2, solver=sag, score=0.7226890756302521, total=   0.0s\n",
      "[CV] C=0.01, penalty=l2, solver=sag ..................................\n",
      "[CV]  C=0.01, penalty=l2, solver=sag, score=0.788135593220339, total=   0.0s\n",
      "[CV] C=0.01, penalty=l2, solver=lbfgs ................................\n",
      "[CV] .... C=0.01, penalty=l2, solver=lbfgs, score=0.775, total=   0.0s\n",
      "[CV] C=0.01, penalty=l2, solver=lbfgs ................................\n",
      "[CV]  C=0.01, penalty=l2, solver=lbfgs, score=0.7916666666666666, total=   0.0s\n",
      "[CV] C=0.01, penalty=l2, solver=lbfgs ................................\n",
      "[CV]  C=0.01, penalty=l2, solver=lbfgs, score=0.7310924369747899, total=   0.0s\n",
      "[CV] C=0.01, penalty=l2, solver=lbfgs ................................\n",
      "[CV]  C=0.01, penalty=l2, solver=lbfgs, score=0.7142857142857143, total=   0.0s\n",
      "[CV] C=0.01, penalty=l2, solver=lbfgs ................................\n",
      "[CV]  C=0.01, penalty=l2, solver=lbfgs, score=0.8050847457627118, total=   0.0s\n",
      "[CV] C=0.01, penalty=l2, solver=saga .................................\n"
     ]
    },
    {
     "name": "stderr",
     "output_type": "stream",
     "text": [
      "C:\\Users\\Vismay\\AppData\\Local\\Continuum\\anaconda3\\lib\\site-packages\\sklearn\\linear_model\\sag.py:334: ConvergenceWarning: The max_iter was reached which means the coef_ did not converge\n",
      "  \"the coef_ did not converge\", ConvergenceWarning)\n",
      "C:\\Users\\Vismay\\AppData\\Local\\Continuum\\anaconda3\\lib\\site-packages\\sklearn\\linear_model\\sag.py:334: ConvergenceWarning: The max_iter was reached which means the coef_ did not converge\n",
      "  \"the coef_ did not converge\", ConvergenceWarning)\n",
      "C:\\Users\\Vismay\\AppData\\Local\\Continuum\\anaconda3\\lib\\site-packages\\sklearn\\linear_model\\sag.py:334: ConvergenceWarning: The max_iter was reached which means the coef_ did not converge\n",
      "  \"the coef_ did not converge\", ConvergenceWarning)\n",
      "C:\\Users\\Vismay\\AppData\\Local\\Continuum\\anaconda3\\lib\\site-packages\\sklearn\\linear_model\\sag.py:334: ConvergenceWarning: The max_iter was reached which means the coef_ did not converge\n",
      "  \"the coef_ did not converge\", ConvergenceWarning)\n"
     ]
    },
    {
     "name": "stdout",
     "output_type": "stream",
     "text": [
      "[CV]  C=0.01, penalty=l2, solver=saga, score=0.7583333333333333, total=   0.0s\n",
      "[CV] C=0.01, penalty=l2, solver=saga .................................\n",
      "[CV]  C=0.01, penalty=l2, solver=saga, score=0.7416666666666667, total=   0.0s\n",
      "[CV] C=0.01, penalty=l2, solver=saga .................................\n",
      "[CV]  C=0.01, penalty=l2, solver=saga, score=0.7478991596638656, total=   0.0s\n",
      "[CV] C=0.01, penalty=l2, solver=saga .................................\n"
     ]
    },
    {
     "name": "stderr",
     "output_type": "stream",
     "text": [
      "C:\\Users\\Vismay\\AppData\\Local\\Continuum\\anaconda3\\lib\\site-packages\\sklearn\\linear_model\\sag.py:334: ConvergenceWarning: The max_iter was reached which means the coef_ did not converge\n",
      "  \"the coef_ did not converge\", ConvergenceWarning)\n"
     ]
    },
    {
     "name": "stdout",
     "output_type": "stream",
     "text": [
      "[CV]  C=0.01, penalty=l2, solver=saga, score=0.7226890756302521, total=   0.0s\n",
      "[CV] C=0.01, penalty=l2, solver=saga .................................\n",
      "[CV]  C=0.01, penalty=l2, solver=saga, score=0.7627118644067796, total=   0.0s\n",
      "[CV] C=0.1, penalty=l2, solver=liblinear .............................\n",
      "[CV]  C=0.1, penalty=l2, solver=liblinear, score=0.7166666666666667, total=   0.0s\n",
      "[CV] C=0.1, penalty=l2, solver=liblinear .............................\n",
      "[CV]  C=0.1, penalty=l2, solver=liblinear, score=0.8083333333333333, total=   0.0s\n",
      "[CV] C=0.1, penalty=l2, solver=liblinear .............................\n",
      "[CV]  C=0.1, penalty=l2, solver=liblinear, score=0.7142857142857143, total=   0.0s\n",
      "[CV] C=0.1, penalty=l2, solver=liblinear .............................\n",
      "[CV]  C=0.1, penalty=l2, solver=liblinear, score=0.7394957983193278, total=   0.0s\n",
      "[CV] C=0.1, penalty=l2, solver=liblinear .............................\n",
      "[CV]  C=0.1, penalty=l2, solver=liblinear, score=0.8135593220338984, total=   0.0s\n",
      "[CV] C=0.1, penalty=l2, solver=newton-cg .............................\n",
      "[CV]  C=0.1, penalty=l2, solver=newton-cg, score=0.7333333333333333, total=   0.0s\n",
      "[CV] C=0.1, penalty=l2, solver=newton-cg .............................\n",
      "[CV]  C=0.1, penalty=l2, solver=newton-cg, score=0.8666666666666667, total=   0.0s\n",
      "[CV] C=0.1, penalty=l2, solver=newton-cg .............................\n",
      "[CV]  C=0.1, penalty=l2, solver=newton-cg, score=0.7394957983193278, total=   0.0s\n",
      "[CV] C=0.1, penalty=l2, solver=newton-cg .............................\n",
      "[CV]  C=0.1, penalty=l2, solver=newton-cg, score=0.7815126050420168, total=   0.0s\n",
      "[CV] C=0.1, penalty=l2, solver=newton-cg .............................\n",
      "[CV]  C=0.1, penalty=l2, solver=newton-cg, score=0.8135593220338984, total=   0.0s\n",
      "[CV] C=0.1, penalty=l2, solver=sag ...................................\n",
      "[CV]  C=0.1, penalty=l2, solver=sag, score=0.7166666666666667, total=   0.0s\n",
      "[CV] C=0.1, penalty=l2, solver=sag ...................................\n"
     ]
    },
    {
     "name": "stderr",
     "output_type": "stream",
     "text": [
      "C:\\Users\\Vismay\\AppData\\Local\\Continuum\\anaconda3\\lib\\site-packages\\sklearn\\linear_model\\sag.py:334: ConvergenceWarning: The max_iter was reached which means the coef_ did not converge\n",
      "  \"the coef_ did not converge\", ConvergenceWarning)\n",
      "C:\\Users\\Vismay\\AppData\\Local\\Continuum\\anaconda3\\lib\\site-packages\\sklearn\\linear_model\\sag.py:334: ConvergenceWarning: The max_iter was reached which means the coef_ did not converge\n",
      "  \"the coef_ did not converge\", ConvergenceWarning)\n",
      "C:\\Users\\Vismay\\AppData\\Local\\Continuum\\anaconda3\\lib\\site-packages\\sklearn\\linear_model\\sag.py:334: ConvergenceWarning: The max_iter was reached which means the coef_ did not converge\n",
      "  \"the coef_ did not converge\", ConvergenceWarning)\n",
      "C:\\Users\\Vismay\\AppData\\Local\\Continuum\\anaconda3\\lib\\site-packages\\sklearn\\linear_model\\sag.py:334: ConvergenceWarning: The max_iter was reached which means the coef_ did not converge\n",
      "  \"the coef_ did not converge\", ConvergenceWarning)\n"
     ]
    },
    {
     "name": "stdout",
     "output_type": "stream",
     "text": [
      "[CV] ......... C=0.1, penalty=l2, solver=sag, score=0.8, total=   0.0s\n",
      "[CV] C=0.1, penalty=l2, solver=sag ...................................\n",
      "[CV]  C=0.1, penalty=l2, solver=sag, score=0.7142857142857143, total=   0.0s\n",
      "[CV] C=0.1, penalty=l2, solver=sag ...................................\n",
      "[CV]  C=0.1, penalty=l2, solver=sag, score=0.7394957983193278, total=   0.0s\n",
      "[CV] C=0.1, penalty=l2, solver=sag ...................................\n",
      "[CV]  C=0.1, penalty=l2, solver=sag, score=0.8050847457627118, total=   0.0s\n",
      "[CV] C=0.1, penalty=l2, solver=lbfgs .................................\n"
     ]
    },
    {
     "name": "stderr",
     "output_type": "stream",
     "text": [
      "C:\\Users\\Vismay\\AppData\\Local\\Continuum\\anaconda3\\lib\\site-packages\\sklearn\\linear_model\\sag.py:334: ConvergenceWarning: The max_iter was reached which means the coef_ did not converge\n",
      "  \"the coef_ did not converge\", ConvergenceWarning)\n"
     ]
    },
    {
     "name": "stdout",
     "output_type": "stream",
     "text": [
      "[CV]  C=0.1, penalty=l2, solver=lbfgs, score=0.7333333333333333, total=   0.0s\n",
      "[CV] C=0.1, penalty=l2, solver=lbfgs .................................\n",
      "[CV]  C=0.1, penalty=l2, solver=lbfgs, score=0.8666666666666667, total=   0.0s\n",
      "[CV] C=0.1, penalty=l2, solver=lbfgs .................................\n",
      "[CV]  C=0.1, penalty=l2, solver=lbfgs, score=0.7394957983193278, total=   0.0s\n",
      "[CV] C=0.1, penalty=l2, solver=lbfgs .................................\n",
      "[CV]  C=0.1, penalty=l2, solver=lbfgs, score=0.7899159663865546, total=   0.0s\n",
      "[CV] C=0.1, penalty=l2, solver=lbfgs .................................\n",
      "[CV]  C=0.1, penalty=l2, solver=lbfgs, score=0.8135593220338984, total=   0.0s\n",
      "[CV] C=0.1, penalty=l2, solver=saga ..................................\n",
      "[CV] ...... C=0.1, penalty=l2, solver=saga, score=0.725, total=   0.0s"
     ]
    },
    {
     "name": "stderr",
     "output_type": "stream",
     "text": [
      "C:\\Users\\Vismay\\AppData\\Local\\Continuum\\anaconda3\\lib\\site-packages\\sklearn\\linear_model\\sag.py:334: ConvergenceWarning: The max_iter was reached which means the coef_ did not converge\n",
      "  \"the coef_ did not converge\", ConvergenceWarning)\n",
      "C:\\Users\\Vismay\\AppData\\Local\\Continuum\\anaconda3\\lib\\site-packages\\sklearn\\linear_model\\sag.py:334: ConvergenceWarning: The max_iter was reached which means the coef_ did not converge\n",
      "  \"the coef_ did not converge\", ConvergenceWarning)\n",
      "C:\\Users\\Vismay\\AppData\\Local\\Continuum\\anaconda3\\lib\\site-packages\\sklearn\\linear_model\\sag.py:334: ConvergenceWarning: The max_iter was reached which means the coef_ did not converge\n",
      "  \"the coef_ did not converge\", ConvergenceWarning)\n"
     ]
    },
    {
     "name": "stdout",
     "output_type": "stream",
     "text": [
      "\n",
      "[CV] C=0.1, penalty=l2, solver=saga ..................................\n",
      "[CV]  C=0.1, penalty=l2, solver=saga, score=0.8083333333333333, total=   0.0s\n",
      "[CV] C=0.1, penalty=l2, solver=saga ..................................\n",
      "[CV]  C=0.1, penalty=l2, solver=saga, score=0.7142857142857143, total=   0.0s\n",
      "[CV] C=0.1, penalty=l2, solver=saga ..................................\n"
     ]
    },
    {
     "name": "stderr",
     "output_type": "stream",
     "text": [
      "C:\\Users\\Vismay\\AppData\\Local\\Continuum\\anaconda3\\lib\\site-packages\\sklearn\\linear_model\\sag.py:334: ConvergenceWarning: The max_iter was reached which means the coef_ did not converge\n",
      "  \"the coef_ did not converge\", ConvergenceWarning)\n",
      "C:\\Users\\Vismay\\AppData\\Local\\Continuum\\anaconda3\\lib\\site-packages\\sklearn\\linear_model\\sag.py:334: ConvergenceWarning: The max_iter was reached which means the coef_ did not converge\n",
      "  \"the coef_ did not converge\", ConvergenceWarning)\n"
     ]
    },
    {
     "name": "stdout",
     "output_type": "stream",
     "text": [
      "[CV]  C=0.1, penalty=l2, solver=saga, score=0.7394957983193278, total=   0.0s\n",
      "[CV] C=0.1, penalty=l2, solver=saga ..................................\n",
      "[CV]  C=0.1, penalty=l2, solver=saga, score=0.8050847457627118, total=   0.0s\n",
      "[CV] C=1.0, penalty=l2, solver=liblinear .............................\n",
      "[CV]  C=1.0, penalty=l2, solver=liblinear, score=0.7333333333333333, total=   0.0s\n",
      "[CV] C=1.0, penalty=l2, solver=liblinear .............................\n",
      "[CV]  C=1.0, penalty=l2, solver=liblinear, score=0.8833333333333333, total=   0.0s\n",
      "[CV] C=1.0, penalty=l2, solver=liblinear .............................\n",
      "[CV]  C=1.0, penalty=l2, solver=liblinear, score=0.7394957983193278, total=   0.0s\n",
      "[CV] C=1.0, penalty=l2, solver=liblinear .............................\n",
      "[CV]  C=1.0, penalty=l2, solver=liblinear, score=0.8151260504201681, total=   0.0s\n",
      "[CV] C=1.0, penalty=l2, solver=liblinear .............................\n",
      "[CV]  C=1.0, penalty=l2, solver=liblinear, score=0.8135593220338984, total=   0.0s\n",
      "[CV] C=1.0, penalty=l2, solver=newton-cg .............................\n",
      "[CV]  C=1.0, penalty=l2, solver=newton-cg, score=0.7583333333333333, total=   0.0s\n",
      "[CV] C=1.0, penalty=l2, solver=newton-cg .............................\n",
      "[CV] . C=1.0, penalty=l2, solver=newton-cg, score=0.875, total=   0.0s\n",
      "[CV] C=1.0, penalty=l2, solver=newton-cg .............................\n",
      "[CV]  C=1.0, penalty=l2, solver=newton-cg, score=0.7563025210084033, total=   0.0s\n",
      "[CV] C=1.0, penalty=l2, solver=newton-cg .............................\n",
      "[CV]  C=1.0, penalty=l2, solver=newton-cg, score=0.7983193277310925, total=   0.0s\n",
      "[CV] C=1.0, penalty=l2, solver=newton-cg .............................\n",
      "[CV]  C=1.0, penalty=l2, solver=newton-cg, score=0.8220338983050848, total=   0.0s\n",
      "[CV] C=1.0, penalty=l2, solver=sag ...................................\n"
     ]
    },
    {
     "name": "stderr",
     "output_type": "stream",
     "text": [
      "C:\\Users\\Vismay\\AppData\\Local\\Continuum\\anaconda3\\lib\\site-packages\\sklearn\\linear_model\\sag.py:334: ConvergenceWarning: The max_iter was reached which means the coef_ did not converge\n",
      "  \"the coef_ did not converge\", ConvergenceWarning)\n",
      "C:\\Users\\Vismay\\AppData\\Local\\Continuum\\anaconda3\\lib\\site-packages\\sklearn\\linear_model\\sag.py:334: ConvergenceWarning: The max_iter was reached which means the coef_ did not converge\n",
      "  \"the coef_ did not converge\", ConvergenceWarning)\n",
      "C:\\Users\\Vismay\\AppData\\Local\\Continuum\\anaconda3\\lib\\site-packages\\sklearn\\linear_model\\sag.py:334: ConvergenceWarning: The max_iter was reached which means the coef_ did not converge\n",
      "  \"the coef_ did not converge\", ConvergenceWarning)\n",
      "C:\\Users\\Vismay\\AppData\\Local\\Continuum\\anaconda3\\lib\\site-packages\\sklearn\\linear_model\\sag.py:334: ConvergenceWarning: The max_iter was reached which means the coef_ did not converge\n",
      "  \"the coef_ did not converge\", ConvergenceWarning)\n"
     ]
    },
    {
     "name": "stdout",
     "output_type": "stream",
     "text": [
      "[CV]  C=1.0, penalty=l2, solver=sag, score=0.7166666666666667, total=   0.0s\n",
      "[CV] C=1.0, penalty=l2, solver=sag ...................................\n",
      "[CV] ....... C=1.0, penalty=l2, solver=sag, score=0.825, total=   0.0s\n",
      "[CV] C=1.0, penalty=l2, solver=sag ...................................\n",
      "[CV]  C=1.0, penalty=l2, solver=sag, score=0.7142857142857143, total=   0.0s\n",
      "[CV] C=1.0, penalty=l2, solver=sag ...................................\n"
     ]
    },
    {
     "name": "stderr",
     "output_type": "stream",
     "text": [
      "C:\\Users\\Vismay\\AppData\\Local\\Continuum\\anaconda3\\lib\\site-packages\\sklearn\\linear_model\\sag.py:334: ConvergenceWarning: The max_iter was reached which means the coef_ did not converge\n",
      "  \"the coef_ did not converge\", ConvergenceWarning)\n",
      "C:\\Users\\Vismay\\AppData\\Local\\Continuum\\anaconda3\\lib\\site-packages\\sklearn\\linear_model\\logistic.py:758: ConvergenceWarning: lbfgs failed to converge. Increase the number of iterations.\n",
      "  \"of iterations.\", ConvergenceWarning)\n",
      "C:\\Users\\Vismay\\AppData\\Local\\Continuum\\anaconda3\\lib\\site-packages\\sklearn\\linear_model\\logistic.py:758: ConvergenceWarning: lbfgs failed to converge. Increase the number of iterations.\n",
      "  \"of iterations.\", ConvergenceWarning)\n"
     ]
    },
    {
     "name": "stdout",
     "output_type": "stream",
     "text": [
      "[CV]  C=1.0, penalty=l2, solver=sag, score=0.7899159663865546, total=   0.0s\n",
      "[CV] C=1.0, penalty=l2, solver=sag ...................................\n",
      "[CV]  C=1.0, penalty=l2, solver=sag, score=0.8050847457627118, total=   0.0s\n",
      "[CV] C=1.0, penalty=l2, solver=lbfgs .................................\n",
      "[CV]  C=1.0, penalty=l2, solver=lbfgs, score=0.7583333333333333, total=   0.0s\n",
      "[CV] C=1.0, penalty=l2, solver=lbfgs .................................\n",
      "[CV]  C=1.0, penalty=l2, solver=lbfgs, score=0.8833333333333333, total=   0.0s\n",
      "[CV] C=1.0, penalty=l2, solver=lbfgs ................................."
     ]
    },
    {
     "name": "stderr",
     "output_type": "stream",
     "text": [
      "C:\\Users\\Vismay\\AppData\\Local\\Continuum\\anaconda3\\lib\\site-packages\\sklearn\\linear_model\\logistic.py:758: ConvergenceWarning: lbfgs failed to converge. Increase the number of iterations.\n",
      "  \"of iterations.\", ConvergenceWarning)\n",
      "C:\\Users\\Vismay\\AppData\\Local\\Continuum\\anaconda3\\lib\\site-packages\\sklearn\\linear_model\\logistic.py:758: ConvergenceWarning: lbfgs failed to converge. Increase the number of iterations.\n",
      "  \"of iterations.\", ConvergenceWarning)\n",
      "C:\\Users\\Vismay\\AppData\\Local\\Continuum\\anaconda3\\lib\\site-packages\\sklearn\\linear_model\\logistic.py:758: ConvergenceWarning: lbfgs failed to converge. Increase the number of iterations.\n",
      "  \"of iterations.\", ConvergenceWarning)\n",
      "C:\\Users\\Vismay\\AppData\\Local\\Continuum\\anaconda3\\lib\\site-packages\\sklearn\\linear_model\\sag.py:334: ConvergenceWarning: The max_iter was reached which means the coef_ did not converge\n",
      "  \"the coef_ did not converge\", ConvergenceWarning)\n"
     ]
    },
    {
     "name": "stdout",
     "output_type": "stream",
     "text": [
      "\n",
      "[CV]  C=1.0, penalty=l2, solver=lbfgs, score=0.7563025210084033, total=   0.0s\n",
      "[CV] C=1.0, penalty=l2, solver=lbfgs .................................\n",
      "[CV]  C=1.0, penalty=l2, solver=lbfgs, score=0.7983193277310925, total=   0.0s\n",
      "[CV] C=1.0, penalty=l2, solver=lbfgs .................................\n",
      "[CV]  C=1.0, penalty=l2, solver=lbfgs, score=0.8135593220338984, total=   0.0s\n",
      "[CV] C=1.0, penalty=l2, solver=saga ..................................\n"
     ]
    },
    {
     "name": "stderr",
     "output_type": "stream",
     "text": [
      "C:\\Users\\Vismay\\AppData\\Local\\Continuum\\anaconda3\\lib\\site-packages\\sklearn\\linear_model\\sag.py:334: ConvergenceWarning: The max_iter was reached which means the coef_ did not converge\n",
      "  \"the coef_ did not converge\", ConvergenceWarning)\n",
      "C:\\Users\\Vismay\\AppData\\Local\\Continuum\\anaconda3\\lib\\site-packages\\sklearn\\linear_model\\sag.py:334: ConvergenceWarning: The max_iter was reached which means the coef_ did not converge\n",
      "  \"the coef_ did not converge\", ConvergenceWarning)\n"
     ]
    },
    {
     "name": "stdout",
     "output_type": "stream",
     "text": [
      "[CV] ...... C=1.0, penalty=l2, solver=saga, score=0.725, total=   0.0s\n",
      "[CV] C=1.0, penalty=l2, solver=saga ..................................\n",
      "[CV]  C=1.0, penalty=l2, solver=saga, score=0.8083333333333333, total=   0.0s\n",
      "[CV] C=1.0, penalty=l2, solver=saga ..................................\n",
      "[CV]  C=1.0, penalty=l2, solver=saga, score=0.7142857142857143, total=   0.0s\n",
      "[CV] C=1.0, penalty=l2, solver=saga ..................................\n"
     ]
    },
    {
     "name": "stderr",
     "output_type": "stream",
     "text": [
      "C:\\Users\\Vismay\\AppData\\Local\\Continuum\\anaconda3\\lib\\site-packages\\sklearn\\linear_model\\sag.py:334: ConvergenceWarning: The max_iter was reached which means the coef_ did not converge\n",
      "  \"the coef_ did not converge\", ConvergenceWarning)\n",
      "C:\\Users\\Vismay\\AppData\\Local\\Continuum\\anaconda3\\lib\\site-packages\\sklearn\\linear_model\\sag.py:334: ConvergenceWarning: The max_iter was reached which means the coef_ did not converge\n",
      "  \"the coef_ did not converge\", ConvergenceWarning)\n"
     ]
    },
    {
     "name": "stdout",
     "output_type": "stream",
     "text": [
      "[CV]  C=1.0, penalty=l2, solver=saga, score=0.7394957983193278, total=   0.0s\n",
      "[CV] C=1.0, penalty=l2, solver=saga ..................................\n",
      "[CV]  C=1.0, penalty=l2, solver=saga, score=0.8135593220338984, total=   0.0s\n",
      "[CV] C=10, penalty=l2, solver=liblinear ..............................\n",
      "[CV]  C=10, penalty=l2, solver=liblinear, score=0.7666666666666667, total=   0.0s\n",
      "[CV] C=10, penalty=l2, solver=liblinear ..............................\n",
      "[CV]  C=10, penalty=l2, solver=liblinear, score=0.8583333333333333, total=   0.0s\n",
      "[CV] C=10, penalty=l2, solver=liblinear ..............................\n",
      "[CV]  C=10, penalty=l2, solver=liblinear, score=0.7563025210084033, total=   0.0s\n",
      "[CV] C=10, penalty=l2, solver=liblinear ..............................\n",
      "[CV]  C=10, penalty=l2, solver=liblinear, score=0.7899159663865546, total=   0.0s\n",
      "[CV] C=10, penalty=l2, solver=liblinear ..............................\n",
      "[CV]  C=10, penalty=l2, solver=liblinear, score=0.8135593220338984, total=   0.0s\n",
      "[CV] C=10, penalty=l2, solver=newton-cg ..............................\n",
      "[CV] ... C=10, penalty=l2, solver=newton-cg, score=0.75, total=   0.0s\n",
      "[CV] C=10, penalty=l2, solver=newton-cg ..............................\n",
      "[CV]  C=10, penalty=l2, solver=newton-cg, score=0.8583333333333333, total=   0.0s\n",
      "[CV] C=10, penalty=l2, solver=newton-cg ..............................\n",
      "[CV]  C=10, penalty=l2, solver=newton-cg, score=0.7563025210084033, total=   0.0s\n",
      "[CV] C=10, penalty=l2, solver=newton-cg ..............................\n",
      "[CV]  C=10, penalty=l2, solver=newton-cg, score=0.7983193277310925, total=   0.0s\n",
      "[CV] C=10, penalty=l2, solver=newton-cg ..............................\n",
      "[CV]  C=10, penalty=l2, solver=newton-cg, score=0.8135593220338984, total=   0.0s\n",
      "[CV] C=10, penalty=l2, solver=sag ....................................\n"
     ]
    },
    {
     "name": "stderr",
     "output_type": "stream",
     "text": [
      "C:\\Users\\Vismay\\AppData\\Local\\Continuum\\anaconda3\\lib\\site-packages\\sklearn\\linear_model\\sag.py:334: ConvergenceWarning: The max_iter was reached which means the coef_ did not converge\n",
      "  \"the coef_ did not converge\", ConvergenceWarning)\n",
      "C:\\Users\\Vismay\\AppData\\Local\\Continuum\\anaconda3\\lib\\site-packages\\sklearn\\linear_model\\sag.py:334: ConvergenceWarning: The max_iter was reached which means the coef_ did not converge\n",
      "  \"the coef_ did not converge\", ConvergenceWarning)\n",
      "C:\\Users\\Vismay\\AppData\\Local\\Continuum\\anaconda3\\lib\\site-packages\\sklearn\\linear_model\\sag.py:334: ConvergenceWarning: The max_iter was reached which means the coef_ did not converge\n",
      "  \"the coef_ did not converge\", ConvergenceWarning)\n",
      "C:\\Users\\Vismay\\AppData\\Local\\Continuum\\anaconda3\\lib\\site-packages\\sklearn\\linear_model\\sag.py:334: ConvergenceWarning: The max_iter was reached which means the coef_ did not converge\n",
      "  \"the coef_ did not converge\", ConvergenceWarning)\n"
     ]
    },
    {
     "name": "stdout",
     "output_type": "stream",
     "text": [
      "[CV]  C=10, penalty=l2, solver=sag, score=0.7083333333333334, total=   0.0s\n",
      "[CV] C=10, penalty=l2, solver=sag ....................................\n",
      "[CV] ........ C=10, penalty=l2, solver=sag, score=0.825, total=   0.0s\n",
      "[CV] C=10, penalty=l2, solver=sag ....................................\n",
      "[CV]  C=10, penalty=l2, solver=sag, score=0.7142857142857143, total=   0.0s\n",
      "[CV] C=10, penalty=l2, solver=sag ....................................\n"
     ]
    },
    {
     "name": "stderr",
     "output_type": "stream",
     "text": [
      "C:\\Users\\Vismay\\AppData\\Local\\Continuum\\anaconda3\\lib\\site-packages\\sklearn\\linear_model\\sag.py:334: ConvergenceWarning: The max_iter was reached which means the coef_ did not converge\n",
      "  \"the coef_ did not converge\", ConvergenceWarning)\n",
      "C:\\Users\\Vismay\\AppData\\Local\\Continuum\\anaconda3\\lib\\site-packages\\sklearn\\linear_model\\logistic.py:758: ConvergenceWarning: lbfgs failed to converge. Increase the number of iterations.\n",
      "  \"of iterations.\", ConvergenceWarning)\n",
      "C:\\Users\\Vismay\\AppData\\Local\\Continuum\\anaconda3\\lib\\site-packages\\sklearn\\linear_model\\logistic.py:758: ConvergenceWarning: lbfgs failed to converge. Increase the number of iterations.\n",
      "  \"of iterations.\", ConvergenceWarning)\n"
     ]
    },
    {
     "name": "stdout",
     "output_type": "stream",
     "text": [
      "[CV]  C=10, penalty=l2, solver=sag, score=0.7983193277310925, total=   0.0s\n",
      "[CV] C=10, penalty=l2, solver=sag ....................................\n",
      "[CV]  C=10, penalty=l2, solver=sag, score=0.8050847457627118, total=   0.0s\n",
      "[CV] C=10, penalty=l2, solver=lbfgs ..................................\n",
      "[CV]  C=10, penalty=l2, solver=lbfgs, score=0.7416666666666667, total=   0.0s\n",
      "[CV] C=10, penalty=l2, solver=lbfgs ..................................\n",
      "[CV] ...... C=10, penalty=l2, solver=lbfgs, score=0.875, total=   0.0s\n",
      "[CV] C=10, penalty=l2, solver=lbfgs ..................................\n"
     ]
    },
    {
     "name": "stderr",
     "output_type": "stream",
     "text": [
      "C:\\Users\\Vismay\\AppData\\Local\\Continuum\\anaconda3\\lib\\site-packages\\sklearn\\linear_model\\logistic.py:758: ConvergenceWarning: lbfgs failed to converge. Increase the number of iterations.\n",
      "  \"of iterations.\", ConvergenceWarning)\n",
      "C:\\Users\\Vismay\\AppData\\Local\\Continuum\\anaconda3\\lib\\site-packages\\sklearn\\linear_model\\logistic.py:758: ConvergenceWarning: lbfgs failed to converge. Increase the number of iterations.\n",
      "  \"of iterations.\", ConvergenceWarning)\n",
      "C:\\Users\\Vismay\\AppData\\Local\\Continuum\\anaconda3\\lib\\site-packages\\sklearn\\linear_model\\logistic.py:758: ConvergenceWarning: lbfgs failed to converge. Increase the number of iterations.\n",
      "  \"of iterations.\", ConvergenceWarning)\n",
      "C:\\Users\\Vismay\\AppData\\Local\\Continuum\\anaconda3\\lib\\site-packages\\sklearn\\linear_model\\sag.py:334: ConvergenceWarning: The max_iter was reached which means the coef_ did not converge\n",
      "  \"the coef_ did not converge\", ConvergenceWarning)\n"
     ]
    },
    {
     "name": "stdout",
     "output_type": "stream",
     "text": [
      "[CV]  C=10, penalty=l2, solver=lbfgs, score=0.7563025210084033, total=   0.0s\n",
      "[CV] C=10, penalty=l2, solver=lbfgs ..................................\n",
      "[CV]  C=10, penalty=l2, solver=lbfgs, score=0.7815126050420168, total=   0.0s\n",
      "[CV] C=10, penalty=l2, solver=lbfgs ..................................\n",
      "[CV]  C=10, penalty=l2, solver=lbfgs, score=0.8220338983050848, total=   0.0s\n",
      "[CV] C=10, penalty=l2, solver=saga ...................................\n"
     ]
    },
    {
     "name": "stderr",
     "output_type": "stream",
     "text": [
      "C:\\Users\\Vismay\\AppData\\Local\\Continuum\\anaconda3\\lib\\site-packages\\sklearn\\linear_model\\sag.py:334: ConvergenceWarning: The max_iter was reached which means the coef_ did not converge\n",
      "  \"the coef_ did not converge\", ConvergenceWarning)\n",
      "C:\\Users\\Vismay\\AppData\\Local\\Continuum\\anaconda3\\lib\\site-packages\\sklearn\\linear_model\\sag.py:334: ConvergenceWarning: The max_iter was reached which means the coef_ did not converge\n",
      "  \"the coef_ did not converge\", ConvergenceWarning)\n"
     ]
    },
    {
     "name": "stdout",
     "output_type": "stream",
     "text": [
      "[CV] ....... C=10, penalty=l2, solver=saga, score=0.725, total=   0.0s\n",
      "[CV] C=10, penalty=l2, solver=saga ...................................\n",
      "[CV]  C=10, penalty=l2, solver=saga, score=0.8083333333333333, total=   0.0s\n",
      "[CV] C=10, penalty=l2, solver=saga ...................................\n",
      "[CV]  C=10, penalty=l2, solver=saga, score=0.7142857142857143, total=   0.0s\n",
      "[CV] C=10, penalty=l2, solver=saga ...................................\n"
     ]
    },
    {
     "name": "stderr",
     "output_type": "stream",
     "text": [
      "C:\\Users\\Vismay\\AppData\\Local\\Continuum\\anaconda3\\lib\\site-packages\\sklearn\\linear_model\\sag.py:334: ConvergenceWarning: The max_iter was reached which means the coef_ did not converge\n",
      "  \"the coef_ did not converge\", ConvergenceWarning)\n",
      "C:\\Users\\Vismay\\AppData\\Local\\Continuum\\anaconda3\\lib\\site-packages\\sklearn\\linear_model\\sag.py:334: ConvergenceWarning: The max_iter was reached which means the coef_ did not converge\n",
      "  \"the coef_ did not converge\", ConvergenceWarning)\n"
     ]
    },
    {
     "name": "stdout",
     "output_type": "stream",
     "text": [
      "[CV]  C=10, penalty=l2, solver=saga, score=0.7394957983193278, total=   0.0s\n",
      "[CV] C=10, penalty=l2, solver=saga ...................................\n",
      "[CV]  C=10, penalty=l2, solver=saga, score=0.8135593220338984, total=   0.0s\n",
      "[CV] C=100, penalty=l2, solver=liblinear .............................\n",
      "[CV] .. C=100, penalty=l2, solver=liblinear, score=0.75, total=   0.0s\n",
      "[CV] C=100, penalty=l2, solver=liblinear .............................\n",
      "[CV] .. C=100, penalty=l2, solver=liblinear, score=0.85, total=   0.0s\n",
      "[CV] C=100, penalty=l2, solver=liblinear .............................\n",
      "[CV]  C=100, penalty=l2, solver=liblinear, score=0.7563025210084033, total=   0.0s\n",
      "[CV] C=100, penalty=l2, solver=liblinear .............................\n",
      "[CV]  C=100, penalty=l2, solver=liblinear, score=0.7983193277310925, total=   0.0s\n",
      "[CV] C=100, penalty=l2, solver=liblinear .............................\n",
      "[CV]  C=100, penalty=l2, solver=liblinear, score=0.8220338983050848, total=   0.0s\n",
      "[CV] C=100, penalty=l2, solver=newton-cg .............................\n",
      "[CV] .. C=100, penalty=l2, solver=newton-cg, score=0.75, total=   0.0s\n",
      "[CV] C=100, penalty=l2, solver=newton-cg .............................\n",
      "[CV] .. C=100, penalty=l2, solver=newton-cg, score=0.85, total=   0.0s\n",
      "[CV] C=100, penalty=l2, solver=newton-cg .............................\n",
      "[CV]  C=100, penalty=l2, solver=newton-cg, score=0.7563025210084033, total=   0.0s\n",
      "[CV] C=100, penalty=l2, solver=newton-cg .............................\n",
      "[CV]  C=100, penalty=l2, solver=newton-cg, score=0.7983193277310925, total=   0.0s\n",
      "[CV] C=100, penalty=l2, solver=newton-cg .............................\n",
      "[CV]  C=100, penalty=l2, solver=newton-cg, score=0.8220338983050848, total=   0.0s\n",
      "[CV] C=100, penalty=l2, solver=sag ...................................\n",
      "[CV]  C=100, penalty=l2, solver=sag, score=0.7083333333333334, total=   0.0s\n",
      "[CV] C=100, penalty=l2, solver=sag ...................................\n",
      "[CV] ....... C=100, penalty=l2, solver=sag, score=0.825, total=   0.0s\n",
      "[CV] C=100, penalty=l2, solver=sag ...................................\n"
     ]
    },
    {
     "name": "stderr",
     "output_type": "stream",
     "text": [
      "C:\\Users\\Vismay\\AppData\\Local\\Continuum\\anaconda3\\lib\\site-packages\\sklearn\\linear_model\\sag.py:334: ConvergenceWarning: The max_iter was reached which means the coef_ did not converge\n",
      "  \"the coef_ did not converge\", ConvergenceWarning)\n",
      "C:\\Users\\Vismay\\AppData\\Local\\Continuum\\anaconda3\\lib\\site-packages\\sklearn\\linear_model\\sag.py:334: ConvergenceWarning: The max_iter was reached which means the coef_ did not converge\n",
      "  \"the coef_ did not converge\", ConvergenceWarning)\n",
      "C:\\Users\\Vismay\\AppData\\Local\\Continuum\\anaconda3\\lib\\site-packages\\sklearn\\linear_model\\sag.py:334: ConvergenceWarning: The max_iter was reached which means the coef_ did not converge\n",
      "  \"the coef_ did not converge\", ConvergenceWarning)\n",
      "C:\\Users\\Vismay\\AppData\\Local\\Continuum\\anaconda3\\lib\\site-packages\\sklearn\\linear_model\\sag.py:334: ConvergenceWarning: The max_iter was reached which means the coef_ did not converge\n",
      "  \"the coef_ did not converge\", ConvergenceWarning)\n"
     ]
    },
    {
     "name": "stdout",
     "output_type": "stream",
     "text": [
      "[CV]  C=100, penalty=l2, solver=sag, score=0.7142857142857143, total=   0.0s\n",
      "[CV] C=100, penalty=l2, solver=sag ...................................\n",
      "[CV]  C=100, penalty=l2, solver=sag, score=0.7983193277310925, total=   0.0s\n",
      "[CV] C=100, penalty=l2, solver=sag ...................................\n",
      "[CV]  C=100, penalty=l2, solver=sag, score=0.8050847457627118, total=   0.0s\n",
      "[CV] C=100, penalty=l2, solver=lbfgs .................................\n"
     ]
    },
    {
     "name": "stderr",
     "output_type": "stream",
     "text": [
      "C:\\Users\\Vismay\\AppData\\Local\\Continuum\\anaconda3\\lib\\site-packages\\sklearn\\linear_model\\sag.py:334: ConvergenceWarning: The max_iter was reached which means the coef_ did not converge\n",
      "  \"the coef_ did not converge\", ConvergenceWarning)\n",
      "C:\\Users\\Vismay\\AppData\\Local\\Continuum\\anaconda3\\lib\\site-packages\\sklearn\\linear_model\\logistic.py:758: ConvergenceWarning: lbfgs failed to converge. Increase the number of iterations.\n",
      "  \"of iterations.\", ConvergenceWarning)\n"
     ]
    },
    {
     "name": "stdout",
     "output_type": "stream",
     "text": [
      "[CV]  C=100, penalty=l2, solver=lbfgs, score=0.7583333333333333, total=   0.0s\n",
      "[CV] C=100, penalty=l2, solver=lbfgs .................................\n",
      "[CV]  C=100, penalty=l2, solver=lbfgs, score=0.8333333333333334, total=   0.0s\n",
      "[CV] C=100, penalty=l2, solver=lbfgs .................................\n",
      "[CV]  C=100, penalty=l2, solver=lbfgs, score=0.7563025210084033, total=   0.0s\n",
      "[CV] C=100, penalty=l2, solver=lbfgs .................................\n"
     ]
    },
    {
     "name": "stderr",
     "output_type": "stream",
     "text": [
      "C:\\Users\\Vismay\\AppData\\Local\\Continuum\\anaconda3\\lib\\site-packages\\sklearn\\linear_model\\logistic.py:758: ConvergenceWarning: lbfgs failed to converge. Increase the number of iterations.\n",
      "  \"of iterations.\", ConvergenceWarning)\n",
      "C:\\Users\\Vismay\\AppData\\Local\\Continuum\\anaconda3\\lib\\site-packages\\sklearn\\linear_model\\logistic.py:758: ConvergenceWarning: lbfgs failed to converge. Increase the number of iterations.\n",
      "  \"of iterations.\", ConvergenceWarning)\n",
      "C:\\Users\\Vismay\\AppData\\Local\\Continuum\\anaconda3\\lib\\site-packages\\sklearn\\linear_model\\logistic.py:758: ConvergenceWarning: lbfgs failed to converge. Increase the number of iterations.\n",
      "  \"of iterations.\", ConvergenceWarning)\n",
      "C:\\Users\\Vismay\\AppData\\Local\\Continuum\\anaconda3\\lib\\site-packages\\sklearn\\linear_model\\logistic.py:758: ConvergenceWarning: lbfgs failed to converge. Increase the number of iterations.\n",
      "  \"of iterations.\", ConvergenceWarning)\n"
     ]
    },
    {
     "name": "stdout",
     "output_type": "stream",
     "text": [
      "[CV]  C=100, penalty=l2, solver=lbfgs, score=0.773109243697479, total=   0.0s\n",
      "[CV] C=100, penalty=l2, solver=lbfgs .................................\n",
      "[CV]  C=100, penalty=l2, solver=lbfgs, score=0.8220338983050848, total=   0.0s\n",
      "[CV] C=100, penalty=l2, solver=saga ..................................\n",
      "[CV] ...... C=100, penalty=l2, solver=saga, score=0.725, total=   0.0s\n",
      "[CV] C=100, penalty=l2, solver=saga ..................................\n"
     ]
    },
    {
     "name": "stderr",
     "output_type": "stream",
     "text": [
      "C:\\Users\\Vismay\\AppData\\Local\\Continuum\\anaconda3\\lib\\site-packages\\sklearn\\linear_model\\sag.py:334: ConvergenceWarning: The max_iter was reached which means the coef_ did not converge\n",
      "  \"the coef_ did not converge\", ConvergenceWarning)\n",
      "C:\\Users\\Vismay\\AppData\\Local\\Continuum\\anaconda3\\lib\\site-packages\\sklearn\\linear_model\\sag.py:334: ConvergenceWarning: The max_iter was reached which means the coef_ did not converge\n",
      "  \"the coef_ did not converge\", ConvergenceWarning)\n",
      "C:\\Users\\Vismay\\AppData\\Local\\Continuum\\anaconda3\\lib\\site-packages\\sklearn\\linear_model\\sag.py:334: ConvergenceWarning: The max_iter was reached which means the coef_ did not converge\n",
      "  \"the coef_ did not converge\", ConvergenceWarning)\n"
     ]
    },
    {
     "name": "stdout",
     "output_type": "stream",
     "text": [
      "[CV]  C=100, penalty=l2, solver=saga, score=0.8083333333333333, total=   0.0s\n",
      "[CV] C=100, penalty=l2, solver=saga ..................................\n",
      "[CV]  C=100, penalty=l2, solver=saga, score=0.7142857142857143, total=   0.0s\n",
      "[CV] C=100, penalty=l2, solver=saga ..................................\n",
      "[CV]  C=100, penalty=l2, solver=saga, score=0.7394957983193278, total=   0.0s\n",
      "[CV] C=100, penalty=l2, solver=saga ..................................\n",
      "[CV]  C=100, penalty=l2, solver=saga, score=0.8135593220338984, total=   0.0s\n"
     ]
    },
    {
     "name": "stderr",
     "output_type": "stream",
     "text": [
      "C:\\Users\\Vismay\\AppData\\Local\\Continuum\\anaconda3\\lib\\site-packages\\sklearn\\linear_model\\sag.py:334: ConvergenceWarning: The max_iter was reached which means the coef_ did not converge\n",
      "  \"the coef_ did not converge\", ConvergenceWarning)\n",
      "C:\\Users\\Vismay\\AppData\\Local\\Continuum\\anaconda3\\lib\\site-packages\\sklearn\\linear_model\\sag.py:334: ConvergenceWarning: The max_iter was reached which means the coef_ did not converge\n",
      "  \"the coef_ did not converge\", ConvergenceWarning)\n",
      "[Parallel(n_jobs=1)]: Done 150 out of 150 | elapsed:    6.9s finished\n"
     ]
    },
    {
     "data": {
      "text/plain": [
       "{'C': 1.0, 'penalty': 'l2', 'solver': 'newton-cg'}"
      ]
     },
     "execution_count": 99,
     "metadata": {},
     "output_type": "execute_result"
    }
   ],
   "source": [
    "param_grid = {\"penalty\": [\"l2\"],\n",
    "              \"C\": [0.001, 0.01, 0.1, 1.0, 10, 100],\n",
    "              \"solver\": [\"liblinear\", \"newton-cg\", \"sag\", \"lbfgs\", \"saga\"]}\n",
    "grid_model = GridSearchCV(LogisticRegression(), param_grid, cv = 5, verbose =3)\n",
    "grid_model.fit(X_train, y_train)\n",
    "pred = grid_model.predict(X_test)\n",
    "grid_model.best_params_"
   ]
  },
  {
   "cell_type": "code",
   "execution_count": 102,
   "metadata": {},
   "outputs": [
    {
     "name": "stdout",
     "output_type": "stream",
     "text": [
      "              precision    recall  f1-score   support\n",
      "\n",
      "           0       0.84      0.85      0.84       175\n",
      "           1       0.78      0.76      0.77       120\n",
      "\n",
      "   micro avg       0.81      0.81      0.81       295\n",
      "   macro avg       0.81      0.80      0.81       295\n",
      "weighted avg       0.81      0.81      0.81       295\n",
      "\n",
      "[[149  26]\n",
      " [ 29  91]]\n",
      "Accuracy score: 0.8135593220338984\n",
      "f1-score: 0.7679324894514769\n",
      "jaccard similarity socre: 0.8135593220338984\n"
     ]
    }
   ],
   "source": [
    "X_train, X_test, y_train, y_test = train_test_split(X,y, test_size = 0.33, random_state = 42)\n",
    "logreg2 = LogisticRegression(solver=\"newton-cg\", C = 1, penalty = 'l2')\n",
    "logreg2.fit(X_train, y_train)\n",
    "logreg2_pred = logreg2.predict(X_test)\n",
    "\n",
    "\n",
    "print(classification_report(y_test, logreg2_pred))\n",
    "print(confusion_matrix(y_test, logreg2_pred))\n",
    "print(\"Accuracy score: {}\".format(accuracy_score(y_test, logreg2_pred)))\n",
    "print(\"f1-score: {}\".format(f1_score(y_test, logreg2_pred)))\n",
    "print(\"jaccard similarity socre: {}\".format(jaccard_similarity_score(y_test, logreg2_pred)))\n"
   ]
  },
  {
   "cell_type": "code",
   "execution_count": 103,
   "metadata": {},
   "outputs": [
    {
     "name": "stdout",
     "output_type": "stream",
     "text": [
      "              precision    recall  f1-score   support\n",
      "\n",
      "           0       0.81      0.85      0.83       175\n",
      "           1       0.76      0.72      0.74       120\n",
      "\n",
      "   micro avg       0.79      0.79      0.79       295\n",
      "   macro avg       0.79      0.78      0.78       295\n",
      "weighted avg       0.79      0.79      0.79       295\n",
      "\n",
      "[[148  27]\n",
      " [ 34  86]]\n",
      "Accuracy score: 0.7932203389830509\n",
      "f1-score: 0.7381974248927038\n",
      "jaccard similarity socre: 0.7932203389830509\n"
     ]
    }
   ],
   "source": [
    "X_train, X_test, y_train, y_test = train_test_split(X,y, test_size = 0.33, random_state = 42)\n",
    "randfor = RandomForestClassifier(n_estimators=100)\n",
    "randfor.fit(X_train, y_train)\n",
    "randfor_pred = randfor.predict(X_test)\n",
    "\n",
    "\n",
    "print(classification_report(y_test, randfor_pred))\n",
    "print(confusion_matrix(y_test, randfor_pred))\n",
    "print(\"Accuracy score: {}\".format(accuracy_score(y_test, randfor_pred)))\n",
    "print(\"f1-score: {}\".format(f1_score(y_test, randfor_pred)))\n",
    "print(\"jaccard similarity socre: {}\".format(jaccard_similarity_score(y_test, randfor_pred)))"
   ]
  },
  {
   "cell_type": "code",
   "execution_count": 104,
   "metadata": {},
   "outputs": [],
   "source": [
    "XX_test = test_titanic[[\"Pclass\", \"Age\",'fare_bin_bin2', 'fare_bin_bin3','fare_bin_bin4',\n",
    "                 \"Sex_male\", \"Prefix_Miss\", \"Prefix_Mr\",\"Prefix_Mrs\",\n",
    "                 'Group_Size_bro_sis', 'Group_Size_bros_sises', 'Group_Size_group_of_11', 'Group_Size_group_of_3', \n",
    "                 'Group_Size_group_of_4', 'Group_Size_group_of_5', 'Group_Size_group_of_6', 'Group_Size_group_of_7', \n",
    "                 'Group_Size_group_of_8', 'Group_Size_parent_kid', 'Group_Size_parent_kids']]\n",
    "\n",
    "final_pred = logreg1.predict(XX_test)"
   ]
  },
  {
   "cell_type": "code",
   "execution_count": 105,
   "metadata": {},
   "outputs": [
    {
     "data": {
      "text/html": [
       "<div>\n",
       "<style scoped>\n",
       "    .dataframe tbody tr th:only-of-type {\n",
       "        vertical-align: middle;\n",
       "    }\n",
       "\n",
       "    .dataframe tbody tr th {\n",
       "        vertical-align: top;\n",
       "    }\n",
       "\n",
       "    .dataframe thead th {\n",
       "        text-align: right;\n",
       "    }\n",
       "</style>\n",
       "<table border=\"1\" class=\"dataframe\">\n",
       "  <thead>\n",
       "    <tr style=\"text-align: right;\">\n",
       "      <th></th>\n",
       "      <th>Survived</th>\n",
       "    </tr>\n",
       "    <tr>\n",
       "      <th>PassengerId</th>\n",
       "      <th></th>\n",
       "    </tr>\n",
       "  </thead>\n",
       "  <tbody>\n",
       "    <tr>\n",
       "      <th>892</th>\n",
       "      <td>0</td>\n",
       "    </tr>\n",
       "    <tr>\n",
       "      <th>893</th>\n",
       "      <td>1</td>\n",
       "    </tr>\n",
       "    <tr>\n",
       "      <th>894</th>\n",
       "      <td>0</td>\n",
       "    </tr>\n",
       "    <tr>\n",
       "      <th>895</th>\n",
       "      <td>0</td>\n",
       "    </tr>\n",
       "    <tr>\n",
       "      <th>896</th>\n",
       "      <td>1</td>\n",
       "    </tr>\n",
       "  </tbody>\n",
       "</table>\n",
       "</div>"
      ],
      "text/plain": [
       "             Survived\n",
       "PassengerId          \n",
       "892                 0\n",
       "893                 1\n",
       "894                 0\n",
       "895                 0\n",
       "896                 1"
      ]
     },
     "execution_count": 105,
     "metadata": {},
     "output_type": "execute_result"
    }
   ],
   "source": [
    "submit_df = pd.DataFrame(index=test_titanic[\"PassengerId\"])\n",
    "submit_df[\"Survived\"] = final_pred\n",
    "submit_df.head()"
   ]
  },
  {
   "cell_type": "code",
   "execution_count": 106,
   "metadata": {},
   "outputs": [],
   "source": [
    "submit_df.to_csv(\"Finalest_Logreg.csv\")"
   ]
  }
 ],
 "metadata": {
  "kernelspec": {
   "display_name": "Python 3",
   "language": "python",
   "name": "python3"
  },
  "language_info": {
   "codemirror_mode": {
    "name": "ipython",
    "version": 3
   },
   "file_extension": ".py",
   "mimetype": "text/x-python",
   "name": "python",
   "nbconvert_exporter": "python",
   "pygments_lexer": "ipython3",
   "version": "3.7.3"
  }
 },
 "nbformat": 4,
 "nbformat_minor": 2
}
